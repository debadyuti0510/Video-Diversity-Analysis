{
 "cells": [
  {
   "cell_type": "code",
   "execution_count": 7,
   "id": "3da67bc2-8f36-464b-80c9-d1b178cce952",
   "metadata": {
    "tags": []
   },
   "outputs": [],
   "source": [
    "from io import BytesIO\n",
    "from PIL import Image\n",
    "import datasets\n",
    "import joblib\n",
    "from transformers import CLIPProcessor, CLIPModel, CLIPVisionModel\n",
    "from sklearn.linear_model import LogisticRegression\n",
    "import torch\n",
    "import numpy as np\n",
    "from tqdm.auto import tqdm\n",
    "from sklearn.metrics import precision_recall_fscore_support\n",
    "import pandas as pd\n",
    "from torch.utils.data import TensorDataset, DataLoader\n",
    "from torch import nn\n",
    "import torch.nn.functional as F\n",
    "from torch import optim\n",
    "from matplotlib import pyplot as plt\n",
    "import xgboost as xgb"
   ]
  },
  {
   "cell_type": "code",
   "execution_count": 2,
   "id": "e31c243b-cdad-4a9e-887d-b119b2ed2858",
   "metadata": {},
   "outputs": [
    {
     "data": {
      "text/plain": [
       "<torch._C.Generator at 0x1b94b6cf8b0>"
      ]
     },
     "execution_count": 2,
     "metadata": {},
     "output_type": "execute_result"
    }
   ],
   "source": [
    "torch.manual_seed(42)"
   ]
  },
  {
   "cell_type": "code",
   "execution_count": 3,
   "id": "f46de10a-abdb-446f-8571-3cd7f14673d6",
   "metadata": {},
   "outputs": [],
   "source": [
    "device = torch.device(\"cuda\" if torch.cuda.is_available() else \"cpu\")"
   ]
  },
  {
   "cell_type": "code",
   "execution_count": 4,
   "id": "583c124a-b64f-41d6-9c9c-17a93657b86f",
   "metadata": {},
   "outputs": [
    {
     "data": {
      "text/plain": [
       "device(type='cuda')"
      ]
     },
     "execution_count": 4,
     "metadata": {},
     "output_type": "execute_result"
    }
   ],
   "source": [
    "device"
   ]
  },
  {
   "cell_type": "code",
   "execution_count": 8,
   "id": "210bb6f1-047e-4d91-a316-56f7a5559a29",
   "metadata": {
    "tags": []
   },
   "outputs": [],
   "source": [
    "# Load model and pre-processor\n",
    "model = CLIPModel.from_pretrained(\"openai/clip-vit-base-patch32\")\n",
    "model.to(device)\n",
    "vision_model = CLIPVisionModel.from_pretrained(\"openai/clip-vit-base-patch32\")\n",
    "vision_model.to(device)\n",
    "processor = CLIPProcessor.from_pretrained(\"openai/clip-vit-base-patch32\")"
   ]
  },
  {
   "cell_type": "code",
   "execution_count": 9,
   "id": "ec9cc1d7-11d5-473a-b6a0-972b6a00bb04",
   "metadata": {},
   "outputs": [],
   "source": [
    "age_texts = [f\"A person in the {c} age group\" for c in [\"0-2\", \"3-9\", \"10-19\", \"20-29\", \"30-39\", \"40-49\", \"50-59\", \"60-69\", \"more than 70\"]]"
   ]
  },
  {
   "cell_type": "code",
   "execution_count": 8,
   "id": "5b906ed3-a3e1-4223-af10-0c5c1671028e",
   "metadata": {
    "tags": []
   },
   "outputs": [],
   "source": [
    "def get_embedding_and_zs(sample):\n",
    "    # import pdb; pdb.set_trace()\n",
    "\n",
    "    # Age prediction\n",
    "    age_texts = [f\"A person in the {c} age group\" for c in [\"0-2\", \"3-9\", \"10-19\", \"20-29\", \"30-39\", \"40-49\", \"50-59\", \"60-69\", \"more than 70\"]]\n",
    "    inputs = processor(text=age_texts, images=sample[\"image\"], return_tensors=\"pt\", padding=True).to(device)\n",
    "    outputs = model(**inputs)\n",
    "    logits_per_image = outputs.logits_per_image # this is the image-text similarity score\n",
    "    age_pred = logits_per_image.argmax(dim=1) # we can take the argmax\n",
    "    \n",
    "    sample[\"zs_age_clip\"] = [int(gp) for gp in age_pred]\n",
    "    # Store embeddings\n",
    "    sample[\"embeddings\"] = outputs.image_embeds\n",
    "    \n",
    "    \n",
    "    return sample\n",
    "    "
   ]
  },
  {
   "cell_type": "code",
   "execution_count": 10,
   "id": "428af532-1e7a-451c-bcdf-c053c8204b11",
   "metadata": {
    "tags": []
   },
   "outputs": [],
   "source": [
    "# Load training data\n",
    "train_ds = datasets.load_dataset('HuggingFaceM4/FairFace', '1.25', split='train', verification_mode=\"no_checks\")\n",
    "# train_ds = train_ds.shuffle(seed=42).select([i for i in range(1_000)]) # Take only first 20_000 images\n",
    "train_ds = train_ds.shuffle(seed=42)\n",
    "# train_ds = train_ds.map(get_embedding_and_zs, batched = True, batch_size=16)\n",
    "# train_ds = train_ds.map(get_deepface_preds)"
   ]
  },
  {
   "cell_type": "code",
   "execution_count": 12,
   "id": "8d2cba02-aea0-4383-8d07-c57d3a3f5227",
   "metadata": {},
   "outputs": [
    {
     "name": "stderr",
     "output_type": "stream",
     "text": [
      "c:\\Users\\Debadyuti\\.conda\\envs\\dissertation-env\\lib\\site-packages\\transformers\\models\\clip\\modeling_clip.py:480: UserWarning: 1Torch was not compiled with flash attention. (Triggered internally at C:\\actions-runner\\_work\\pytorch\\pytorch\\builder\\windows\\pytorch\\aten\\src\\ATen\\native\\transformers\\cuda\\sdp_utils.cpp:555.)\n",
      "  attn_output = torch.nn.functional.scaled_dot_product_attention(\n"
     ]
    }
   ],
   "source": [
    "train_ds[0][\"image\"]\n",
    "inputs = processor(images=train_ds[0][\"image\"], return_tensors=\"pt\", padding=True).to(device)\n",
    "outputs = vision_model(**inputs)"
   ]
  },
  {
   "cell_type": "code",
   "execution_count": 16,
   "id": "709e0495",
   "metadata": {},
   "outputs": [
    {
     "data": {
      "text/plain": [
       "torch.Size([1, 768])"
      ]
     },
     "execution_count": 16,
     "metadata": {},
     "output_type": "execute_result"
    }
   ],
   "source": [
    "outputs.pooler_output.shape"
   ]
  },
  {
   "cell_type": "code",
   "execution_count": 25,
   "id": "907d1cfc-2eae-4861-960d-026cdaa66636",
   "metadata": {},
   "outputs": [
    {
     "data": {
      "text/plain": [
       "2"
      ]
     },
     "execution_count": 25,
     "metadata": {},
     "output_type": "execute_result"
    }
   ],
   "source": [
    "train_ds[5][\"age\"]"
   ]
  },
  {
   "cell_type": "code",
   "execution_count": 27,
   "id": "af13af03-5922-4548-ad1a-718c64408469",
   "metadata": {
    "tags": []
   },
   "outputs": [],
   "source": [
    "# Load validation data and test on this\n",
    "test_valid_ds = datasets.load_dataset('HuggingFaceM4/FairFace', '1.25', split=\"validation\", verification_mode=\"no_checks\")\n",
    "valid_ds = test_valid_ds.shuffle(seed=42).select([i for i in range(6_000)]) # Take only first 6_000 images'\n",
    "test_ds = test_valid_ds.shuffle(seed=42).select([i for i in range(6_000, len(test_valid_ds))])\n",
    "# valid_ds = valid_ds.shuffle(seed=42) \n",
    "valid_ds = valid_ds.map(get_embedding_and_zs, batched = True, batch_size=16)\n",
    "test_ds = test_ds.map(get_embedding_and_zs, batched = True, batch_size=16)\n",
    "# valid_ds = valid_ds.map(get_deepface_preds)"
   ]
  },
  {
   "cell_type": "code",
   "execution_count": 28,
   "id": "63beb359",
   "metadata": {},
   "outputs": [],
   "source": [
    "assert len(test_valid_ds) == len(test_ds) + len(valid_ds)"
   ]
  },
  {
   "cell_type": "code",
   "execution_count": 29,
   "id": "de4fb225-8374-4ce6-aa19-47284564deb0",
   "metadata": {
    "tags": []
   },
   "outputs": [],
   "source": [
    "# # Load test data as second 50% of val split\n",
    "# test_ds = datasets.load_dataset('HuggingFaceM4/FairFace', '1.25', split=\"validation[50%:]\", verification_mode=\"no_checks\")\n",
    "# test_ds = test_ds.shuffle(seed=42).select([i for i in range(6_000)]) # Take only first 6_000 images\n",
    "# test_ds = test_ds.map(get_embedding_and_zs, batched = True, batch_size=16)"
   ]
  },
  {
   "cell_type": "code",
   "execution_count": 30,
   "id": "969ea673-eff9-45e3-8f87-b72732ab9bb8",
   "metadata": {
    "tags": []
   },
   "outputs": [
    {
     "data": {
      "text/plain": [
       "Dataset({\n",
       "    features: ['image', 'age', 'gender', 'race', 'service_test', 'zs_age_clip', 'embeddings'],\n",
       "    num_rows: 86744\n",
       "})"
      ]
     },
     "execution_count": 30,
     "metadata": {},
     "output_type": "execute_result"
    }
   ],
   "source": [
    "train_ds"
   ]
  },
  {
   "cell_type": "code",
   "execution_count": 31,
   "id": "1632b923-bb87-4ecf-8ddd-f77e783003ab",
   "metadata": {},
   "outputs": [],
   "source": [
    "# import tensorflow as tf\n",
    "# tf.__version__"
   ]
  },
  {
   "cell_type": "code",
   "execution_count": 74,
   "id": "0463d3e5",
   "metadata": {},
   "outputs": [],
   "source": [
    "X_train = np.array(train_ds[\"embeddings\"])\n",
    "y_train_age = np.array(train_ds[\"age\"])"
   ]
  },
  {
   "cell_type": "code",
   "execution_count": 75,
   "id": "09d5b1ea-414c-4c1d-8e25-214e22274788",
   "metadata": {},
   "outputs": [],
   "source": [
    "X_val = np.array(valid_ds[\"embeddings\"])\n",
    "y_val_age = np.array(valid_ds[\"age\"])"
   ]
  },
  {
   "cell_type": "code",
   "execution_count": 76,
   "id": "71fd1fdc",
   "metadata": {},
   "outputs": [
    {
     "data": {
      "text/plain": [
       "(512,)"
      ]
     },
     "execution_count": 76,
     "metadata": {},
     "output_type": "execute_result"
    }
   ],
   "source": [
    "X_train[0].shape"
   ]
  },
  {
   "cell_type": "markdown",
   "id": "a118060b",
   "metadata": {},
   "source": [
    "# Tree-based exploration"
   ]
  },
  {
   "cell_type": "code",
   "execution_count": 77,
   "id": "9f32bd52",
   "metadata": {},
   "outputs": [],
   "source": [
    "# Store the data as a DMatrix\n",
    "dtrain = xgb.DMatrix(X_train, label=y_train_age)\n",
    "dval = xgb.DMatrix(X_val, label=y_val_age)"
   ]
  },
  {
   "cell_type": "code",
   "execution_count": 1,
   "id": "7b281791",
   "metadata": {},
   "outputs": [],
   "source": [
    "# Hyperparameters\n",
    "param = {'max_depth': 8, 'eta': 0.3, 'objective': 'multi:softmax'}\n",
    "param['nthread'] = 4\n",
    "param['eval_metric'] = 'auc'\n",
    "param[\"num_class\"] = 9"
   ]
  },
  {
   "cell_type": "code",
   "execution_count": 2,
   "id": "34dfa281",
   "metadata": {},
   "outputs": [
    {
     "ename": "NameError",
     "evalue": "name 'dtrain' is not defined",
     "output_type": "error",
     "traceback": [
      "\u001b[1;31m---------------------------------------------------------------------------\u001b[0m",
      "\u001b[1;31mNameError\u001b[0m                                 Traceback (most recent call last)",
      "Cell \u001b[1;32mIn[2], line 1\u001b[0m\n\u001b[1;32m----> 1\u001b[0m evallist \u001b[38;5;241m=\u001b[39m [(\u001b[43mdtrain\u001b[49m, \u001b[38;5;124m'\u001b[39m\u001b[38;5;124mtrain\u001b[39m\u001b[38;5;124m'\u001b[39m), (dval, \u001b[38;5;124m'\u001b[39m\u001b[38;5;124meval\u001b[39m\u001b[38;5;124m'\u001b[39m)]\n",
      "\u001b[1;31mNameError\u001b[0m: name 'dtrain' is not defined"
     ]
    }
   ],
   "source": [
    "evallist = [(dtrain, 'train'), (dval, 'eval')]"
   ]
  },
  {
   "cell_type": "code",
   "execution_count": 3,
   "id": "bfe9b8ca",
   "metadata": {},
   "outputs": [
    {
     "ename": "NameError",
     "evalue": "name 'xgb' is not defined",
     "output_type": "error",
     "traceback": [
      "\u001b[1;31m---------------------------------------------------------------------------\u001b[0m",
      "\u001b[1;31mNameError\u001b[0m                                 Traceback (most recent call last)",
      "Cell \u001b[1;32mIn[3], line 2\u001b[0m\n\u001b[0;32m      1\u001b[0m num_round \u001b[38;5;241m=\u001b[39m \u001b[38;5;241m75\u001b[39m\n\u001b[1;32m----> 2\u001b[0m bst \u001b[38;5;241m=\u001b[39m \u001b[43mxgb\u001b[49m\u001b[38;5;241m.\u001b[39mtrain(param, dtrain, num_round, evallist)\n",
      "\u001b[1;31mNameError\u001b[0m: name 'xgb' is not defined"
     ]
    }
   ],
   "source": [
    "num_round = 75\n",
    "bst = xgb.train(param, dtrain, num_round, evallist)"
   ]
  },
  {
   "cell_type": "code",
   "execution_count": null,
   "id": "a0209f95",
   "metadata": {},
   "outputs": [],
   "source": [
    "dtrain = xgb.DMatrix(X_train)\n",
    "y_preds = bst.predict(dtrain)"
   ]
  },
  {
   "cell_type": "code",
   "execution_count": null,
   "id": "5872e51b",
   "metadata": {},
   "outputs": [
    {
     "name": "stdout",
     "output_type": "stream",
     "text": [
      "XGB+CLIP accuracy for 0-2(class-0): 99.83%\n",
      "XGB+CLIP accuracy for 3-9(class-1): 99.96%\n",
      "XGB+CLIP accuracy for 10-19(class-2): 99.27%\n",
      "XGB+CLIP accuracy for 20-29(class-3): 99.14%\n",
      "XGB+CLIP accuracy for 30-39(class-4): 97.67%\n",
      "XGB+CLIP accuracy for 40-49(class-5): 98.89%\n",
      "XGB+CLIP accuracy for 50-59(class-6): 99.87%\n",
      "XGB+CLIP accuracy for 60-69(class-7): 100.00%\n",
      "XGB+CLIP accuracy for more than 70(class-8): 99.76%\n"
     ]
    }
   ],
   "source": [
    "cwise_acc = []\n",
    "for idx, age in enumerate([\"0-2\", \"3-9\", \"10-19\", \"20-29\", \"30-39\", \"40-49\", \"50-59\", \"60-69\", \"more than 70\"]):\n",
    "    age_mask = np.array(y_train_age) == idx\n",
    "    y_true = np.array(y_train_age)[age_mask]\n",
    "    y_rel_preds = np.array(y_preds)[age_mask]\n",
    "    age_acc = np.sum(y_true == y_rel_preds) / len(y_true) * 100\n",
    "    cwise_acc.append(age_acc)\n",
    "    print(f\"XGB+CLIP accuracy for {age}(class-{idx}): {age_acc:.2f}%\")"
   ]
  },
  {
   "cell_type": "code",
   "execution_count": null,
   "id": "5cfc00f9",
   "metadata": {},
   "outputs": [],
   "source": [
    "dval = xgb.DMatrix(X_val)\n",
    "y_preds = bst.predict(dval)"
   ]
  },
  {
   "cell_type": "code",
   "execution_count": null,
   "id": "f01f1bf0",
   "metadata": {},
   "outputs": [
    {
     "name": "stdout",
     "output_type": "stream",
     "text": [
      "XGB + CLIP accuracy for 0-2(class-0): 67.31%\n",
      "XGB + CLIP accuracy for 3-9(class-1): 82.83%\n",
      "XGB + CLIP accuracy for 10-19(class-2): 42.09%\n",
      "XGB + CLIP accuracy for 20-29(class-3): 73.85%\n",
      "XGB + CLIP accuracy for 30-39(class-4): 49.01%\n",
      "XGB + CLIP accuracy for 40-49(class-5): 45.48%\n",
      "XGB + CLIP accuracy for 50-59(class-6): 38.27%\n",
      "XGB + CLIP accuracy for 60-69(class-7): 38.64%\n",
      "XGB + CLIP accuracy for more than 70(class-8): 26.98%\n"
     ]
    }
   ],
   "source": [
    "val_cwise_acc_xgb = []\n",
    "for idx, age in enumerate([\"0-2\", \"3-9\", \"10-19\", \"20-29\", \"30-39\", \"40-49\", \"50-59\", \"60-69\", \"more than 70\"]):\n",
    "    age_mask = np.array(y_val_age) == idx\n",
    "    y_true = np.array(y_val_age)[age_mask]\n",
    "    y_rel_preds = np.array(y_preds)[age_mask]\n",
    "    age_acc = np.sum(y_true == y_rel_preds) / len(y_true) * 100\n",
    "    val_cwise_acc_xgb.append(age_acc)\n",
    "    print(f\"XGB + CLIP accuracy for {age}(class-{idx}): {age_acc:.2f}%\")"
   ]
  },
  {
   "cell_type": "markdown",
   "id": "bc4a548a",
   "metadata": {},
   "source": [
    "# NN + CLIP Exploration"
   ]
  },
  {
   "cell_type": "code",
   "execution_count": 166,
   "id": "5edbb4b4",
   "metadata": {},
   "outputs": [],
   "source": [
    "# Define TensorDataset and DataLoader\n",
    "train_ds_torch = TensorDataset(torch.tensor(X_train, dtype=torch.float), torch.tensor(y_train_age, dtype=torch.long))\n",
    "train_dataloader = DataLoader(train_ds_torch, batch_size=32, shuffle=True)"
   ]
  },
  {
   "cell_type": "code",
   "execution_count": 167,
   "id": "e6df289c",
   "metadata": {},
   "outputs": [],
   "source": [
    "# Define TensorDataset and DataLoader\n",
    "val_ds_torch = TensorDataset(torch.tensor(X_val, dtype=torch.float), torch.tensor(y_val_age, dtype=torch.long))\n",
    "val_dataloader = DataLoader(val_ds_torch, batch_size=32, shuffle=True)"
   ]
  },
  {
   "cell_type": "code",
   "execution_count": 241,
   "id": "f7d7f92a",
   "metadata": {},
   "outputs": [],
   "source": [
    "class SimpleNN(nn.Module):\n",
    "    def __init__(self):\n",
    "        super().__init__()\n",
    "        self.layer1 = nn.Linear(512, 256)\n",
    "        self.layer2 = nn.Linear(256, 64)\n",
    "        self.layer3 = nn.Linear(64, 9)\n",
    "    \n",
    "    def forward(self, x):\n",
    "        x = self.layer1(x)\n",
    "        x = F.relu(x)\n",
    "        x = self.layer2(x)\n",
    "        x = F.relu(x)\n",
    "        x = self.layer3(x)\n",
    "        return x\n",
    "    \n",
    "network = SimpleNN()"
   ]
  },
  {
   "cell_type": "code",
   "execution_count": 242,
   "id": "a3fd54da",
   "metadata": {},
   "outputs": [],
   "source": [
    "criterion = nn.CrossEntropyLoss()\n",
    "optimizer = optim.Adam(network.parameters(), lr=0.001, betas=(0.9, 0.999))"
   ]
  },
  {
   "cell_type": "code",
   "execution_count": 243,
   "id": "313ed839",
   "metadata": {},
   "outputs": [
    {
     "data": {
      "application/vnd.jupyter.widget-view+json": {
       "model_id": "d84800b977244e748be9f705b5eada0f",
       "version_major": 2,
       "version_minor": 0
      },
      "text/plain": [
       "  0%|          | 0/40 [00:00<?, ?it/s]"
      ]
     },
     "metadata": {},
     "output_type": "display_data"
    },
    {
     "name": "stdout",
     "output_type": "stream",
     "text": [
      "Completed Training!\n"
     ]
    }
   ],
   "source": [
    "# Training for 40 epochs\n",
    "loss_collection = []\n",
    "for epoch in tqdm(range(40)):\n",
    "    running_loss = 0.0\n",
    "    for i, data in enumerate(train_dataloader):\n",
    "        inputs, labels = data\n",
    "\n",
    "        # Zero out the gradients\n",
    "        optimizer.zero_grad()\n",
    "\n",
    "        # forward pass\n",
    "        outputs = network(inputs)\n",
    "        loss = criterion(outputs, labels)\n",
    "        # backward pass\n",
    "        loss.backward()\n",
    "        \n",
    "        optimizer.step()\n",
    "\n",
    "        # print loss\n",
    "        running_loss += loss.item()\n",
    "    loss_collection.append(running_loss/len(train_dataloader))\n",
    "    # print(f\"Loss after epoch {epoch + 1} - {running_loss / len(train_dataloader) : .3f} \")\n",
    "\n",
    "print(\"Completed Training!\")"
   ]
  },
  {
   "cell_type": "code",
   "execution_count": 244,
   "id": "f578dfbf",
   "metadata": {},
   "outputs": [
    {
     "data": {
      "text/plain": [
       "[<matplotlib.lines.Line2D at 0x15746bbfb20>]"
      ]
     },
     "execution_count": 244,
     "metadata": {},
     "output_type": "execute_result"
    },
    {
     "data": {
      "image/png": "[encoded data removed]",
      "text/plain": [
       "<Figure size 640x480 with 1 Axes>"
      ]
     },
     "metadata": {},
     "output_type": "display_data"
    }
   ],
   "source": [
    "# Plot the graph brother\n",
    "plt.plot(loss_collection)\n",
    "\n",
    "# torch.argmax(torch.tensor([[0,1,2], [0,3,2], [1,5,2], [0,-1,2], [0,1,1]]), dim=1)"
   ]
  },
  {
   "cell_type": "code",
   "execution_count": 245,
   "id": "e726626f",
   "metadata": {},
   "outputs": [],
   "source": [
    "preds = []\n",
    "actual = []\n",
    "total = 0\n",
    "with torch.no_grad():\n",
    "    for data in train_dataloader:\n",
    "        inputs, labels = data\n",
    "        actual += labels.tolist()\n",
    "        outputs = network(inputs)\n",
    "        pred = torch.argmax(outputs, dim=1)\n",
    "        total += len(inputs)\n",
    "        preds += pred.tolist()\n"
   ]
  },
  {
   "cell_type": "code",
   "execution_count": 246,
   "id": "8b8f80bb",
   "metadata": {},
   "outputs": [
    {
     "name": "stdout",
     "output_type": "stream",
     "text": [
      "NN + CLIP accuracy for 0-2(class-0): 96.15%\n",
      "NN + CLIP accuracy for 3-9(class-1): 97.03%\n",
      "NN + CLIP accuracy for 10-19(class-2): 92.71%\n",
      "NN + CLIP accuracy for 20-29(class-3): 91.83%\n",
      "NN + CLIP accuracy for 30-39(class-4): 89.53%\n",
      "NN + CLIP accuracy for 40-49(class-5): 93.20%\n",
      "NN + CLIP accuracy for 50-59(class-6): 79.77%\n",
      "NN + CLIP accuracy for 60-69(class-7): 91.15%\n",
      "NN + CLIP accuracy for more than 70(class-8): 97.86%\n"
     ]
    }
   ],
   "source": [
    "cwise_acc = []\n",
    "for idx, age in enumerate([\"0-2\", \"3-9\", \"10-19\", \"20-29\", \"30-39\", \"40-49\", \"50-59\", \"60-69\", \"more than 70\"]):\n",
    "    age_mask = np.array(actual) == idx\n",
    "    y_true = np.array(actual)[age_mask]\n",
    "    y_rel_preds = np.array(preds)[age_mask]\n",
    "    age_acc = np.sum(y_true == y_rel_preds) / len(y_true) * 100\n",
    "    cwise_acc.append(age_acc)\n",
    "    print(f\"NN + CLIP accuracy for {age}(class-{idx}): {age_acc:.2f}%\")"
   ]
  },
  {
   "cell_type": "code",
   "execution_count": 247,
   "id": "e539bb92",
   "metadata": {},
   "outputs": [],
   "source": [
    "preds = []\n",
    "actual = []\n",
    "total = 0\n",
    "with torch.no_grad():\n",
    "    for data in val_dataloader:\n",
    "        inputs, labels = data\n",
    "        actual += labels.tolist()\n",
    "        outputs = network(inputs)\n",
    "        pred = torch.argmax(outputs, dim=1)\n",
    "        total += len(inputs)\n",
    "        preds += pred.tolist()"
   ]
  },
  {
   "cell_type": "code",
   "execution_count": 248,
   "id": "6a8fdfe8",
   "metadata": {},
   "outputs": [
    {
     "name": "stdout",
     "output_type": "stream",
     "text": [
      "Validation accuracy for Age: 52.1910%\n"
     ]
    }
   ],
   "source": [
    "val_acc = np.sum(np.array(preds) == np.array(actual)) / total\n",
    "print(f\"Validation accuracy for Age: {val_acc*100:.4f}%\")"
   ]
  },
  {
   "cell_type": "code",
   "execution_count": 249,
   "id": "7b4e88ee",
   "metadata": {},
   "outputs": [
    {
     "name": "stdout",
     "output_type": "stream",
     "text": [
      "NN + CLIP accuracy for 0-2(class-0): 74.37%\n",
      "NN + CLIP accuracy for 3-9(class-1): 75.88%\n",
      "NN + CLIP accuracy for 10-19(class-2): 43.78%\n",
      "NN + CLIP accuracy for 20-29(class-3): 57.82%\n",
      "NN + CLIP accuracy for 30-39(class-4): 45.36%\n",
      "NN + CLIP accuracy for 40-49(class-5): 45.82%\n",
      "NN + CLIP accuracy for 50-59(class-6): 30.15%\n",
      "NN + CLIP accuracy for 60-69(class-7): 44.55%\n",
      "NN + CLIP accuracy for more than 70(class-8): 46.61%\n"
     ]
    }
   ],
   "source": [
    "val_cwise_acc_nn = []\n",
    "for idx, age in enumerate([\"0-2\", \"3-9\", \"10-19\", \"20-29\", \"30-39\", \"40-49\", \"50-59\", \"60-69\", \"more than 70\"]):\n",
    "    age_mask = np.array(actual) == idx\n",
    "    y_true = np.array(actual)[age_mask]\n",
    "    y_rel_preds = np.array(preds)[age_mask]\n",
    "    age_acc = np.sum(y_true == y_rel_preds) / len(y_true) * 100\n",
    "    val_cwise_acc_nn.append(age_acc)\n",
    "    print(f\"NN + CLIP accuracy for {age}(class-{idx}): {age_acc:.2f}%\")"
   ]
  },
  {
   "cell_type": "markdown",
   "id": "85a7e09d",
   "metadata": {},
   "source": [
    "# Measuring LR and ZS performance"
   ]
  },
  {
   "cell_type": "code",
   "execution_count": null,
   "id": "61e5bbf9-3690-4c2e-9fcf-6bfe0d870b32",
   "metadata": {
    "tags": []
   },
   "outputs": [
    {
     "data": {
      "text/html": [
       "<style>#sk-container-id-4 {\n",
       "  /* Definition of color scheme common for light and dark mode */\n",
       "  --sklearn-color-text: black;\n",
       "  --sklearn-color-line: gray;\n",
       "  /* Definition of color scheme for unfitted estimators */\n",
       "  --sklearn-color-unfitted-level-0: #fff5e6;\n",
       "  --sklearn-color-unfitted-level-1: #f6e4d2;\n",
       "  --sklearn-color-unfitted-level-2: #ffe0b3;\n",
       "  --sklearn-color-unfitted-level-3: chocolate;\n",
       "  /* Definition of color scheme for fitted estimators */\n",
       "  --sklearn-color-fitted-level-0: #f0f8ff;\n",
       "  --sklearn-color-fitted-level-1: #d4ebff;\n",
       "  --sklearn-color-fitted-level-2: #b3dbfd;\n",
       "  --sklearn-color-fitted-level-3: cornflowerblue;\n",
       "\n",
       "  /* Specific color for light theme */\n",
       "  --sklearn-color-text-on-default-background: var(--sg-text-color, var(--theme-code-foreground, var(--jp-content-font-color1, black)));\n",
       "  --sklearn-color-background: var(--sg-background-color, var(--theme-background, var(--jp-layout-color0, white)));\n",
       "  --sklearn-color-border-box: var(--sg-text-color, var(--theme-code-foreground, var(--jp-content-font-color1, black)));\n",
       "  --sklearn-color-icon: #696969;\n",
       "\n",
       "  @media (prefers-color-scheme: dark) {\n",
       "    /* Redefinition of color scheme for dark theme */\n",
       "    --sklearn-color-text-on-default-background: var(--sg-text-color, var(--theme-code-foreground, var(--jp-content-font-color1, white)));\n",
       "    --sklearn-color-background: var(--sg-background-color, var(--theme-background, var(--jp-layout-color0, #111)));\n",
       "    --sklearn-color-border-box: var(--sg-text-color, var(--theme-code-foreground, var(--jp-content-font-color1, white)));\n",
       "    --sklearn-color-icon: #878787;\n",
       "  }\n",
       "}\n",
       "\n",
       "#sk-container-id-4 {\n",
       "  color: var(--sklearn-color-text);\n",
       "}\n",
       "\n",
       "#sk-container-id-4 pre {\n",
       "  padding: 0;\n",
       "}\n",
       "\n",
       "#sk-container-id-4 input.sk-hidden--visually {\n",
       "  border: 0;\n",
       "  clip: rect(1px 1px 1px 1px);\n",
       "  clip: rect(1px, 1px, 1px, 1px);\n",
       "  height: 1px;\n",
       "  margin: -1px;\n",
       "  overflow: hidden;\n",
       "  padding: 0;\n",
       "  position: absolute;\n",
       "  width: 1px;\n",
       "}\n",
       "\n",
       "#sk-container-id-4 div.sk-dashed-wrapped {\n",
       "  border: 1px dashed var(--sklearn-color-line);\n",
       "  margin: 0 0.4em 0.5em 0.4em;\n",
       "  box-sizing: border-box;\n",
       "  padding-bottom: 0.4em;\n",
       "  background-color: var(--sklearn-color-background);\n",
       "}\n",
       "\n",
       "#sk-container-id-4 div.sk-container {\n",
       "  /* jupyter's `normalize.less` sets `[hidden] { display: none; }`\n",
       "     but bootstrap.min.css set `[hidden] { display: none !important; }`\n",
       "     so we also need the `!important` here to be able to override the\n",
       "     default hidden behavior on the sphinx rendered scikit-learn.org.\n",
       "     See: https://github.com/scikit-learn/scikit-learn/issues/21755 */\n",
       "  display: inline-block !important;\n",
       "  position: relative;\n",
       "}\n",
       "\n",
       "#sk-container-id-4 div.sk-text-repr-fallback {\n",
       "  display: none;\n",
       "}\n",
       "\n",
       "div.sk-parallel-item,\n",
       "div.sk-serial,\n",
       "div.sk-item {\n",
       "  /* draw centered vertical line to link estimators */\n",
       "  background-image: linear-gradient(var(--sklearn-color-text-on-default-background), var(--sklearn-color-text-on-default-background));\n",
       "  background-size: 2px 100%;\n",
       "  background-repeat: no-repeat;\n",
       "  background-position: center center;\n",
       "}\n",
       "\n",
       "/* Parallel-specific style estimator block */\n",
       "\n",
       "#sk-container-id-4 div.sk-parallel-item::after {\n",
       "  content: \"\";\n",
       "  width: 100%;\n",
       "  border-bottom: 2px solid var(--sklearn-color-text-on-default-background);\n",
       "  flex-grow: 1;\n",
       "}\n",
       "\n",
       "#sk-container-id-4 div.sk-parallel {\n",
       "  display: flex;\n",
       "  align-items: stretch;\n",
       "  justify-content: center;\n",
       "  background-color: var(--sklearn-color-background);\n",
       "  position: relative;\n",
       "}\n",
       "\n",
       "#sk-container-id-4 div.sk-parallel-item {\n",
       "  display: flex;\n",
       "  flex-direction: column;\n",
       "}\n",
       "\n",
       "#sk-container-id-4 div.sk-parallel-item:first-child::after {\n",
       "  align-self: flex-end;\n",
       "  width: 50%;\n",
       "}\n",
       "\n",
       "#sk-container-id-4 div.sk-parallel-item:last-child::after {\n",
       "  align-self: flex-start;\n",
       "  width: 50%;\n",
       "}\n",
       "\n",
       "#sk-container-id-4 div.sk-parallel-item:only-child::after {\n",
       "  width: 0;\n",
       "}\n",
       "\n",
       "/* Serial-specific style estimator block */\n",
       "\n",
       "#sk-container-id-4 div.sk-serial {\n",
       "  display: flex;\n",
       "  flex-direction: column;\n",
       "  align-items: center;\n",
       "  background-color: var(--sklearn-color-background);\n",
       "  padding-right: 1em;\n",
       "  padding-left: 1em;\n",
       "}\n",
       "\n",
       "\n",
       "/* Toggleable style: style used for estimator/Pipeline/ColumnTransformer box that is\n",
       "clickable and can be expanded/collapsed.\n",
       "- Pipeline and ColumnTransformer use this feature and define the default style\n",
       "- Estimators will overwrite some part of the style using the `sk-estimator` class\n",
       "*/\n",
       "\n",
       "/* Pipeline and ColumnTransformer style (default) */\n",
       "\n",
       "#sk-container-id-4 div.sk-toggleable {\n",
       "  /* Default theme specific background. It is overwritten whether we have a\n",
       "  specific estimator or a Pipeline/ColumnTransformer */\n",
       "  background-color: var(--sklearn-color-background);\n",
       "}\n",
       "\n",
       "/* Toggleable label */\n",
       "#sk-container-id-4 label.sk-toggleable__label {\n",
       "  cursor: pointer;\n",
       "  display: block;\n",
       "  width: 100%;\n",
       "  margin-bottom: 0;\n",
       "  padding: 0.5em;\n",
       "  box-sizing: border-box;\n",
       "  text-align: center;\n",
       "}\n",
       "\n",
       "#sk-container-id-4 label.sk-toggleable__label-arrow:before {\n",
       "  /* Arrow on the left of the label */\n",
       "  content: \"▸\";\n",
       "  float: left;\n",
       "  margin-right: 0.25em;\n",
       "  color: var(--sklearn-color-icon);\n",
       "}\n",
       "\n",
       "#sk-container-id-4 label.sk-toggleable__label-arrow:hover:before {\n",
       "  color: var(--sklearn-color-text);\n",
       "}\n",
       "\n",
       "/* Toggleable content - dropdown */\n",
       "\n",
       "#sk-container-id-4 div.sk-toggleable__content {\n",
       "  max-height: 0;\n",
       "  max-width: 0;\n",
       "  overflow: hidden;\n",
       "  text-align: left;\n",
       "  /* unfitted */\n",
       "  background-color: var(--sklearn-color-unfitted-level-0);\n",
       "}\n",
       "\n",
       "#sk-container-id-4 div.sk-toggleable__content.fitted {\n",
       "  /* fitted */\n",
       "  background-color: var(--sklearn-color-fitted-level-0);\n",
       "}\n",
       "\n",
       "#sk-container-id-4 div.sk-toggleable__content pre {\n",
       "  margin: 0.2em;\n",
       "  border-radius: 0.25em;\n",
       "  color: var(--sklearn-color-text);\n",
       "  /* unfitted */\n",
       "  background-color: var(--sklearn-color-unfitted-level-0);\n",
       "}\n",
       "\n",
       "#sk-container-id-4 div.sk-toggleable__content.fitted pre {\n",
       "  /* unfitted */\n",
       "  background-color: var(--sklearn-color-fitted-level-0);\n",
       "}\n",
       "\n",
       "#sk-container-id-4 input.sk-toggleable__control:checked~div.sk-toggleable__content {\n",
       "  /* Expand drop-down */\n",
       "  max-height: 200px;\n",
       "  max-width: 100%;\n",
       "  overflow: auto;\n",
       "}\n",
       "\n",
       "#sk-container-id-4 input.sk-toggleable__control:checked~label.sk-toggleable__label-arrow:before {\n",
       "  content: \"▾\";\n",
       "}\n",
       "\n",
       "/* Pipeline/ColumnTransformer-specific style */\n",
       "\n",
       "#sk-container-id-4 div.sk-label input.sk-toggleable__control:checked~label.sk-toggleable__label {\n",
       "  color: var(--sklearn-color-text);\n",
       "  background-color: var(--sklearn-color-unfitted-level-2);\n",
       "}\n",
       "\n",
       "#sk-container-id-4 div.sk-label.fitted input.sk-toggleable__control:checked~label.sk-toggleable__label {\n",
       "  background-color: var(--sklearn-color-fitted-level-2);\n",
       "}\n",
       "\n",
       "/* Estimator-specific style */\n",
       "\n",
       "/* Colorize estimator box */\n",
       "#sk-container-id-4 div.sk-estimator input.sk-toggleable__control:checked~label.sk-toggleable__label {\n",
       "  /* unfitted */\n",
       "  background-color: var(--sklearn-color-unfitted-level-2);\n",
       "}\n",
       "\n",
       "#sk-container-id-4 div.sk-estimator.fitted input.sk-toggleable__control:checked~label.sk-toggleable__label {\n",
       "  /* fitted */\n",
       "  background-color: var(--sklearn-color-fitted-level-2);\n",
       "}\n",
       "\n",
       "#sk-container-id-4 div.sk-label label.sk-toggleable__label,\n",
       "#sk-container-id-4 div.sk-label label {\n",
       "  /* The background is the default theme color */\n",
       "  color: var(--sklearn-color-text-on-default-background);\n",
       "}\n",
       "\n",
       "/* On hover, darken the color of the background */\n",
       "#sk-container-id-4 div.sk-label:hover label.sk-toggleable__label {\n",
       "  color: var(--sklearn-color-text);\n",
       "  background-color: var(--sklearn-color-unfitted-level-2);\n",
       "}\n",
       "\n",
       "/* Label box, darken color on hover, fitted */\n",
       "#sk-container-id-4 div.sk-label.fitted:hover label.sk-toggleable__label.fitted {\n",
       "  color: var(--sklearn-color-text);\n",
       "  background-color: var(--sklearn-color-fitted-level-2);\n",
       "}\n",
       "\n",
       "/* Estimator label */\n",
       "\n",
       "#sk-container-id-4 div.sk-label label {\n",
       "  font-family: monospace;\n",
       "  font-weight: bold;\n",
       "  display: inline-block;\n",
       "  line-height: 1.2em;\n",
       "}\n",
       "\n",
       "#sk-container-id-4 div.sk-label-container {\n",
       "  text-align: center;\n",
       "}\n",
       "\n",
       "/* Estimator-specific */\n",
       "#sk-container-id-4 div.sk-estimator {\n",
       "  font-family: monospace;\n",
       "  border: 1px dotted var(--sklearn-color-border-box);\n",
       "  border-radius: 0.25em;\n",
       "  box-sizing: border-box;\n",
       "  margin-bottom: 0.5em;\n",
       "  /* unfitted */\n",
       "  background-color: var(--sklearn-color-unfitted-level-0);\n",
       "}\n",
       "\n",
       "#sk-container-id-4 div.sk-estimator.fitted {\n",
       "  /* fitted */\n",
       "  background-color: var(--sklearn-color-fitted-level-0);\n",
       "}\n",
       "\n",
       "/* on hover */\n",
       "#sk-container-id-4 div.sk-estimator:hover {\n",
       "  /* unfitted */\n",
       "  background-color: var(--sklearn-color-unfitted-level-2);\n",
       "}\n",
       "\n",
       "#sk-container-id-4 div.sk-estimator.fitted:hover {\n",
       "  /* fitted */\n",
       "  background-color: var(--sklearn-color-fitted-level-2);\n",
       "}\n",
       "\n",
       "/* Specification for estimator info (e.g. \"i\" and \"?\") */\n",
       "\n",
       "/* Common style for \"i\" and \"?\" */\n",
       "\n",
       ".sk-estimator-doc-link,\n",
       "a:link.sk-estimator-doc-link,\n",
       "a:visited.sk-estimator-doc-link {\n",
       "  float: right;\n",
       "  font-size: smaller;\n",
       "  line-height: 1em;\n",
       "  font-family: monospace;\n",
       "  background-color: var(--sklearn-color-background);\n",
       "  border-radius: 1em;\n",
       "  height: 1em;\n",
       "  width: 1em;\n",
       "  text-decoration: none !important;\n",
       "  margin-left: 1ex;\n",
       "  /* unfitted */\n",
       "  border: var(--sklearn-color-unfitted-level-1) 1pt solid;\n",
       "  color: var(--sklearn-color-unfitted-level-1);\n",
       "}\n",
       "\n",
       ".sk-estimator-doc-link.fitted,\n",
       "a:link.sk-estimator-doc-link.fitted,\n",
       "a:visited.sk-estimator-doc-link.fitted {\n",
       "  /* fitted */\n",
       "  border: var(--sklearn-color-fitted-level-1) 1pt solid;\n",
       "  color: var(--sklearn-color-fitted-level-1);\n",
       "}\n",
       "\n",
       "/* On hover */\n",
       "div.sk-estimator:hover .sk-estimator-doc-link:hover,\n",
       ".sk-estimator-doc-link:hover,\n",
       "div.sk-label-container:hover .sk-estimator-doc-link:hover,\n",
       ".sk-estimator-doc-link:hover {\n",
       "  /* unfitted */\n",
       "  background-color: var(--sklearn-color-unfitted-level-3);\n",
       "  color: var(--sklearn-color-background);\n",
       "  text-decoration: none;\n",
       "}\n",
       "\n",
       "div.sk-estimator.fitted:hover .sk-estimator-doc-link.fitted:hover,\n",
       ".sk-estimator-doc-link.fitted:hover,\n",
       "div.sk-label-container:hover .sk-estimator-doc-link.fitted:hover,\n",
       ".sk-estimator-doc-link.fitted:hover {\n",
       "  /* fitted */\n",
       "  background-color: var(--sklearn-color-fitted-level-3);\n",
       "  color: var(--sklearn-color-background);\n",
       "  text-decoration: none;\n",
       "}\n",
       "\n",
       "/* Span, style for the box shown on hovering the info icon */\n",
       ".sk-estimator-doc-link span {\n",
       "  display: none;\n",
       "  z-index: 9999;\n",
       "  position: relative;\n",
       "  font-weight: normal;\n",
       "  right: .2ex;\n",
       "  padding: .5ex;\n",
       "  margin: .5ex;\n",
       "  width: min-content;\n",
       "  min-width: 20ex;\n",
       "  max-width: 50ex;\n",
       "  color: var(--sklearn-color-text);\n",
       "  box-shadow: 2pt 2pt 4pt #999;\n",
       "  /* unfitted */\n",
       "  background: var(--sklearn-color-unfitted-level-0);\n",
       "  border: .5pt solid var(--sklearn-color-unfitted-level-3);\n",
       "}\n",
       "\n",
       ".sk-estimator-doc-link.fitted span {\n",
       "  /* fitted */\n",
       "  background: var(--sklearn-color-fitted-level-0);\n",
       "  border: var(--sklearn-color-fitted-level-3);\n",
       "}\n",
       "\n",
       ".sk-estimator-doc-link:hover span {\n",
       "  display: block;\n",
       "}\n",
       "\n",
       "/* \"?\"-specific style due to the `<a>` HTML tag */\n",
       "\n",
       "#sk-container-id-4 a.estimator_doc_link {\n",
       "  float: right;\n",
       "  font-size: 1rem;\n",
       "  line-height: 1em;\n",
       "  font-family: monospace;\n",
       "  background-color: var(--sklearn-color-background);\n",
       "  border-radius: 1rem;\n",
       "  height: 1rem;\n",
       "  width: 1rem;\n",
       "  text-decoration: none;\n",
       "  /* unfitted */\n",
       "  color: var(--sklearn-color-unfitted-level-1);\n",
       "  border: var(--sklearn-color-unfitted-level-1) 1pt solid;\n",
       "}\n",
       "\n",
       "#sk-container-id-4 a.estimator_doc_link.fitted {\n",
       "  /* fitted */\n",
       "  border: var(--sklearn-color-fitted-level-1) 1pt solid;\n",
       "  color: var(--sklearn-color-fitted-level-1);\n",
       "}\n",
       "\n",
       "/* On hover */\n",
       "#sk-container-id-4 a.estimator_doc_link:hover {\n",
       "  /* unfitted */\n",
       "  background-color: var(--sklearn-color-unfitted-level-3);\n",
       "  color: var(--sklearn-color-background);\n",
       "  text-decoration: none;\n",
       "}\n",
       "\n",
       "#sk-container-id-4 a.estimator_doc_link.fitted:hover {\n",
       "  /* fitted */\n",
       "  background-color: var(--sklearn-color-fitted-level-3);\n",
       "}\n",
       "</style><div id=\"sk-container-id-4\" class=\"sk-top-container\"><div class=\"sk-text-repr-fallback\"><pre>LogisticRegression(max_iter=400, random_state=42)</pre><b>In a Jupyter environment, please rerun this cell to show the HTML representation or trust the notebook. <br />On GitHub, the HTML representation is unable to render, please try loading this page with nbviewer.org.</b></div><div class=\"sk-container\" hidden><div class=\"sk-item\"><div class=\"sk-estimator fitted sk-toggleable\"><input class=\"sk-toggleable__control sk-hidden--visually\" id=\"sk-estimator-id-4\" type=\"checkbox\" checked><label for=\"sk-estimator-id-4\" class=\"sk-toggleable__label fitted sk-toggleable__label-arrow fitted\">&nbsp;&nbsp;LogisticRegression<a class=\"sk-estimator-doc-link fitted\" rel=\"noreferrer\" target=\"_blank\" href=\"https://scikit-learn.org/1.4/modules/generated/sklearn.linear_model.LogisticRegression.html\">?<span>Documentation for LogisticRegression</span></a><span class=\"sk-estimator-doc-link fitted\">i<span>Fitted</span></span></label><div class=\"sk-toggleable__content fitted\"><pre>LogisticRegression(max_iter=400, random_state=42)</pre></div> </div></div></div></div>"
      ],
      "text/plain": [
       "LogisticRegression(max_iter=400, random_state=42)"
      ]
     },
     "execution_count": 59,
     "metadata": {},
     "output_type": "execute_result"
    }
   ],
   "source": [
    "lr_clf_age = LogisticRegression(random_state=42, max_iter=400)\n",
    "lr_clf_age.fit(X_train, y_train_age)"
   ]
  },
  {
   "cell_type": "code",
   "execution_count": 61,
   "id": "6ccc7194-0e6d-47b9-a72d-c8772db981b1",
   "metadata": {},
   "outputs": [
    {
     "name": "stdout",
     "output_type": "stream",
     "text": [
      "Training accuracy for Age: 61.4636%\n",
      "Validation accuracy for Age: 61.1010%\n"
     ]
    }
   ],
   "source": [
    "train_acc = lr_clf_age.score(X_train, y_train_age)\n",
    "val_acc = lr_clf_age.score(X_val, y_val_age)\n",
    "print(f\"Training accuracy for Age: {train_acc*100:.4f}%\")\n",
    "print(f\"Validation accuracy for Age: {val_acc*100:.4f}%\")"
   ]
  },
  {
   "cell_type": "code",
   "execution_count": 62,
   "id": "f7ed6477-7146-4344-be75-4aad2c4a7cff",
   "metadata": {},
   "outputs": [
    {
     "name": "stdout",
     "output_type": "stream",
     "text": [
      "Distribution of Age Categories in FairFace\n",
      "0-2 -  2.07%\n",
      "3-9 -  12.00%\n",
      "10-19 -  10.49%\n",
      "20-29 -  29.51%\n",
      "30-39 -  22.19%\n",
      "40-49 -  12.39%\n",
      "50-59 -  7.18%\n",
      "60-69 -  3.20%\n",
      "more than 70 -  0.97%\n"
     ]
    }
   ],
   "source": [
    "# Distribution of age categories\n",
    "print(\"Distribution of Age Categories in FairFace\")\n",
    "distribution_of_ages  = []\n",
    "cat, counts = np.unique(y_train_age, return_counts=True)\n",
    "total_counts = np.sum(counts)\n",
    "pcts = []\n",
    "for idx, c in enumerate([\"0-2\", \"3-9\", \"10-19\", \"20-29\", \"30-39\", \"40-49\", \"50-59\", \"60-69\", \"more than 70\"]):\n",
    "    pct = counts[idx]/total_counts*100\n",
    "    print(f\"{c} - {pct : .2f}%\")\n",
    "    pcts.append(pct)"
   ]
  },
  {
   "cell_type": "code",
   "execution_count": 63,
   "id": "3a632833-f72d-416e-a4c6-ce000e5166f7",
   "metadata": {},
   "outputs": [],
   "source": [
    "# y_preds = lr_clf_gender.predict(X_train)\n",
    "# from sklearn.metrics import precision_recall_fscore_support\n",
    "# precision_recall_fscore_support(y_train_gender, y_preds, average='micro')"
   ]
  },
  {
   "cell_type": "code",
   "execution_count": 64,
   "id": "7d7528c1-3b6c-429f-84c7-017e3be3469d",
   "metadata": {},
   "outputs": [],
   "source": [
    "# train_acc = lr_clf_race.score(X_train, y_train_race)\n",
    "# val_acc = lr_clf_race.score(X_val, y_val_race)\n",
    "# print(f\"Training accuracy for race: {train_acc*100:.4f}%\")\n",
    "# print(f\"Validation accuracy for race: {val_acc*100:.4f}%\")"
   ]
  },
  {
   "cell_type": "code",
   "execution_count": 65,
   "id": "e4caeb42-725f-4334-8f16-b22395b61a46",
   "metadata": {},
   "outputs": [
    {
     "name": "stdout",
     "output_type": "stream",
     "text": [
      "Training set metrics - Age (LR + CLIP) \n",
      "========================================\n",
      "Accuracy: 0.6146 Precision: 0.6096, Recall: 0.6146, F-Score(Weighted): 0.6083, F-Score(Micro): 0.6146, F-Score(Macro): 0.5894\n"
     ]
    }
   ],
   "source": [
    "y_preds = lr_clf_age.predict(X_train)\n",
    "precision, recall, f_score_weighted, _ = precision_recall_fscore_support(y_train_age, y_preds, average='weighted')\n",
    "_, _, f_score_macro, _ = precision_recall_fscore_support(y_train_age, y_preds, average='macro')\n",
    "_, _, f_score_micro, _ = precision_recall_fscore_support(y_train_age, y_preds, average='micro')\n",
    "train_acc = lr_clf_age.score(X_train, y_train_age)\n",
    "print(f\"Training set metrics - Age (LR + CLIP) \\n\" + \"=\"*40)\n",
    "print(f\"Accuracy: {train_acc:.4f} Precision: {precision:.4f}, Recall: {recall:.4f}, F-Score(Weighted): {f_score_weighted:.4f}, F-Score(Micro): {f_score_micro:.4f}, F-Score(Macro): {f_score_macro:.4f}\")"
   ]
  },
  {
   "cell_type": "code",
   "execution_count": 66,
   "id": "484c03a9-6d9d-4bda-ab77-7a0df3e6c17b",
   "metadata": {},
   "outputs": [
    {
     "name": "stdout",
     "output_type": "stream",
     "text": [
      "LR+CLIP accuracy for 0-2(class-0): 68.69%\n",
      "LR+CLIP accuracy for 3-9(class-1): 86.75%\n",
      "LR+CLIP accuracy for 10-19(class-2): 44.22%\n",
      "LR+CLIP accuracy for 20-29(class-3): 75.60%\n",
      "LR+CLIP accuracy for 30-39(class-4): 51.50%\n",
      "LR+CLIP accuracy for 40-49(class-5): 46.84%\n",
      "LR+CLIP accuracy for 50-59(class-6): 50.87%\n",
      "LR+CLIP accuracy for 60-69(class-7): 43.94%\n",
      "LR+CLIP accuracy for more than 70(class-8): 41.09%\n"
     ]
    }
   ],
   "source": [
    "cwise_acc = []\n",
    "for idx, age in enumerate([\"0-2\", \"3-9\", \"10-19\", \"20-29\", \"30-39\", \"40-49\", \"50-59\", \"60-69\", \"more than 70\"]):\n",
    "    age_mask = np.array(y_train_age) == idx\n",
    "    y_true = np.array(y_train_age)[age_mask]\n",
    "    y_rel_preds = np.array(y_preds)[age_mask]\n",
    "    age_acc = np.sum(y_true == y_rel_preds) / len(y_true) * 100\n",
    "    cwise_acc.append(age_acc)\n",
    "    print(f\"LR+CLIP accuracy for {age}(class-{idx}): {age_acc:.2f}%\")"
   ]
  },
  {
   "cell_type": "code",
   "execution_count": 67,
   "id": "8e883c9e-2988-42d6-b9a1-655bdeb3bb48",
   "metadata": {},
   "outputs": [
    {
     "name": "stdout",
     "output_type": "stream",
     "text": [
      "Validation set metrics - Age (LR + CLIP)\n",
      "========================================\n",
      "Accuracy: 0.6110 Precision: 0.6053, Recall: 0.6110, F-Score(Weighted): 0.6045, F-Score(Micro): 0.6110, F-Score(Macro): 0.5740\n"
     ]
    }
   ],
   "source": [
    "y_preds = lr_clf_age.predict(X_val)\n",
    "precision, recall, f_score_weighted, _ = precision_recall_fscore_support(y_val_age, y_preds, average='weighted')\n",
    "_, _, f_score_macro, _ = precision_recall_fscore_support(y_val_age, y_preds, average='macro')\n",
    "_, _, f_score_micro, _ = precision_recall_fscore_support(y_val_age, y_preds, average='micro')\n",
    "val_acc = lr_clf_age.score(X_val, y_val_age)\n",
    "print(f\"Validation set metrics - Age (LR + CLIP)\\n\" + \"=\"*40)\n",
    "print(f\"Accuracy: {val_acc:.4f} Precision: {precision:.4f}, Recall: {recall:.4f}, F-Score(Weighted): {f_score_weighted:.4f}, F-Score(Micro): {f_score_micro:.4f}, F-Score(Macro): {f_score_macro:.4f}\")"
   ]
  },
  {
   "cell_type": "code",
   "execution_count": 68,
   "id": "84ef64a0-36cf-4463-b226-bec537f1f6f3",
   "metadata": {},
   "outputs": [
    {
     "name": "stdout",
     "output_type": "stream",
     "text": [
      "LR+CLIP accuracy for 0-2(class-0): 71.36%\n",
      "LR+CLIP accuracy for 3-9(class-1): 86.36%\n",
      "LR+CLIP accuracy for 10-19(class-2): 44.03%\n",
      "LR+CLIP accuracy for 20-29(class-3): 75.12%\n",
      "LR+CLIP accuracy for 30-39(class-4): 51.03%\n",
      "LR+CLIP accuracy for 40-49(class-5): 46.56%\n",
      "LR+CLIP accuracy for 50-59(class-6): 46.48%\n",
      "LR+CLIP accuracy for 60-69(class-7): 48.91%\n",
      "LR+CLIP accuracy for more than 70(class-8): 29.66%\n"
     ]
    }
   ],
   "source": [
    "val_cwise_acc=[]\n",
    "for idx, age in enumerate([\"0-2\", \"3-9\", \"10-19\", \"20-29\", \"30-39\", \"40-49\", \"50-59\", \"60-69\", \"more than 70\"]):\n",
    "    age_mask = np.array(y_val_age) == idx\n",
    "    y_true = np.array(y_val_age)[age_mask]\n",
    "    y_rel_preds = np.array(y_preds)[age_mask]\n",
    "    age_acc = np.sum(y_true == y_rel_preds) / len(y_true) * 100\n",
    "    val_cwise_acc.append(age_acc)\n",
    "    print(f\"LR+CLIP accuracy for {age}(class-{idx}): {age_acc:.2f}%\")"
   ]
  },
  {
   "cell_type": "code",
   "execution_count": 69,
   "id": "c712aa4c",
   "metadata": {},
   "outputs": [
    {
     "name": "stdout",
     "output_type": "stream",
     "text": [
      "Validation set metrics - Age (Zero-Shot CLIP)\n",
      "========================================\n",
      "Accuracy: 0.6110 Precision: 0.4782, Recall: 0.3984, F-Score(Weighted): 0.4110, F-Score(Micro): 0.3984, F-Score(Macro): 0.3714\n"
     ]
    }
   ],
   "source": [
    "y_preds = valid_ds[\"zs_age_clip\"]\n",
    "precision, recall, f_score_weighted, _ = precision_recall_fscore_support(y_val_age, y_preds, average='weighted')\n",
    "_, _, f_score_macro, _ = precision_recall_fscore_support(y_val_age, y_preds, average='macro')\n",
    "_, _, f_score_micro, _ = precision_recall_fscore_support(y_val_age, y_preds, average='micro')\n",
    "val_acc = lr_clf_age.score(X_val, y_val_age)\n",
    "print(f\"Validation set metrics - Age (Zero-Shot CLIP)\\n\" + \"=\"*40)\n",
    "print(f\"Accuracy: {val_acc:.4f} Precision: {precision:.4f}, Recall: {recall:.4f}, F-Score(Weighted): {f_score_weighted:.4f}, F-Score(Micro): {f_score_micro:.4f}, F-Score(Macro): {f_score_macro:.4f}\")"
   ]
  },
  {
   "cell_type": "code",
   "execution_count": 70,
   "id": "b052962d",
   "metadata": {},
   "outputs": [
    {
     "name": "stdout",
     "output_type": "stream",
     "text": [
      "Zero-Shot CLIP accuracy for 0-2(class-0): 76.38%\n",
      "Zero-Shot CLIP accuracy for 3-9(class-1): 57.08%\n",
      "Zero-Shot CLIP accuracy for 10-19(class-2): 58.00%\n",
      "Zero-Shot CLIP accuracy for 20-29(class-3): 27.70%\n",
      "Zero-Shot CLIP accuracy for 30-39(class-4): 50.56%\n",
      "Zero-Shot CLIP accuracy for 40-49(class-5): 23.95%\n",
      "Zero-Shot CLIP accuracy for 50-59(class-6): 23.24%\n",
      "Zero-Shot CLIP accuracy for 60-69(class-7): 17.45%\n",
      "Zero-Shot CLIP accuracy for more than 70(class-8): 81.36%\n"
     ]
    }
   ],
   "source": [
    "val_cwise_zs_acc=[]\n",
    "for idx, age in enumerate([\"0-2\", \"3-9\", \"10-19\", \"20-29\", \"30-39\", \"40-49\", \"50-59\", \"60-69\", \"more than 70\"]):\n",
    "    age_mask = np.array(y_val_age) == idx\n",
    "    y_true = np.array(y_val_age)[age_mask]\n",
    "    y_rel_preds = np.array(y_preds)[age_mask]\n",
    "    age_acc = np.sum(y_true == y_rel_preds) / len(y_true) * 100\n",
    "    val_cwise_zs_acc.append(age_acc)\n",
    "    print(f\"Zero-Shot CLIP accuracy for {age}(class-{idx}): {age_acc:.2f}%\")"
   ]
  },
  {
   "cell_type": "code",
   "execution_count": 73,
   "id": "9dd4a491",
   "metadata": {},
   "outputs": [
    {
     "data": {
      "text/html": [
       "<div>\n",
       "<style scoped>\n",
       "    .dataframe tbody tr th:only-of-type {\n",
       "        vertical-align: middle;\n",
       "    }\n",
       "\n",
       "    .dataframe tbody tr th {\n",
       "        vertical-align: top;\n",
       "    }\n",
       "\n",
       "    .dataframe thead th {\n",
       "        text-align: right;\n",
       "    }\n",
       "</style>\n",
       "<table border=\"1\" class=\"dataframe\">\n",
       "  <thead>\n",
       "    <tr style=\"text-align: right;\">\n",
       "      <th></th>\n",
       "      <th>Age Group</th>\n",
       "      <th>Distribution</th>\n",
       "      <th>Training Accuracy</th>\n",
       "      <th>Validation Accuracy</th>\n",
       "      <th>Validation ZS Accuracy</th>\n",
       "      <th>Percent improvement</th>\n",
       "    </tr>\n",
       "  </thead>\n",
       "  <tbody>\n",
       "    <tr>\n",
       "      <th>0</th>\n",
       "      <td>0-2</td>\n",
       "      <td>2.065849</td>\n",
       "      <td>68.694196</td>\n",
       "      <td>71.356784</td>\n",
       "      <td>76.381910</td>\n",
       "      <td>-5.025126</td>\n",
       "    </tr>\n",
       "    <tr>\n",
       "      <th>1</th>\n",
       "      <td>3-9</td>\n",
       "      <td>11.998524</td>\n",
       "      <td>86.750576</td>\n",
       "      <td>86.356932</td>\n",
       "      <td>57.079646</td>\n",
       "      <td>29.277286</td>\n",
       "    </tr>\n",
       "    <tr>\n",
       "      <th>2</th>\n",
       "      <td>10-19</td>\n",
       "      <td>10.494098</td>\n",
       "      <td>44.216192</td>\n",
       "      <td>44.030483</td>\n",
       "      <td>58.001693</td>\n",
       "      <td>-13.971211</td>\n",
       "    </tr>\n",
       "    <tr>\n",
       "      <th>3</th>\n",
       "      <td>20-29</td>\n",
       "      <td>29.509822</td>\n",
       "      <td>75.595750</td>\n",
       "      <td>75.121212</td>\n",
       "      <td>27.696970</td>\n",
       "      <td>47.424242</td>\n",
       "    </tr>\n",
       "    <tr>\n",
       "      <th>4</th>\n",
       "      <td>30-39</td>\n",
       "      <td>22.191737</td>\n",
       "      <td>51.496104</td>\n",
       "      <td>51.030043</td>\n",
       "      <td>50.557940</td>\n",
       "      <td>0.472103</td>\n",
       "    </tr>\n",
       "    <tr>\n",
       "      <th>5</th>\n",
       "      <td>40-49</td>\n",
       "      <td>12.385871</td>\n",
       "      <td>46.835443</td>\n",
       "      <td>46.563193</td>\n",
       "      <td>23.946785</td>\n",
       "      <td>22.616408</td>\n",
       "    </tr>\n",
       "    <tr>\n",
       "      <th>6</th>\n",
       "      <td>50-59</td>\n",
       "      <td>7.179747</td>\n",
       "      <td>50.867052</td>\n",
       "      <td>46.482412</td>\n",
       "      <td>23.241206</td>\n",
       "      <td>23.241206</td>\n",
       "    </tr>\n",
       "    <tr>\n",
       "      <th>7</th>\n",
       "      <td>60-69</td>\n",
       "      <td>3.203680</td>\n",
       "      <td>43.936668</td>\n",
       "      <td>48.909657</td>\n",
       "      <td>17.445483</td>\n",
       "      <td>31.464174</td>\n",
       "    </tr>\n",
       "    <tr>\n",
       "      <th>8</th>\n",
       "      <td>more than 70</td>\n",
       "      <td>0.970672</td>\n",
       "      <td>41.092637</td>\n",
       "      <td>29.661017</td>\n",
       "      <td>81.355932</td>\n",
       "      <td>-51.694915</td>\n",
       "    </tr>\n",
       "  </tbody>\n",
       "</table>\n",
       "</div>"
      ],
      "text/plain": [
       "      Age Group  Distribution  Training Accuracy  Validation Accuracy  \\\n",
       "0           0-2      2.065849          68.694196            71.356784   \n",
       "1           3-9     11.998524          86.750576            86.356932   \n",
       "2         10-19     10.494098          44.216192            44.030483   \n",
       "3         20-29     29.509822          75.595750            75.121212   \n",
       "4         30-39     22.191737          51.496104            51.030043   \n",
       "5         40-49     12.385871          46.835443            46.563193   \n",
       "6         50-59      7.179747          50.867052            46.482412   \n",
       "7         60-69      3.203680          43.936668            48.909657   \n",
       "8  more than 70      0.970672          41.092637            29.661017   \n",
       "\n",
       "   Validation ZS Accuracy  Percent improvement  \n",
       "0               76.381910            -5.025126  \n",
       "1               57.079646            29.277286  \n",
       "2               58.001693           -13.971211  \n",
       "3               27.696970            47.424242  \n",
       "4               50.557940             0.472103  \n",
       "5               23.946785            22.616408  \n",
       "6               23.241206            23.241206  \n",
       "7               17.445483            31.464174  \n",
       "8               81.355932           -51.694915  "
      ]
     },
     "execution_count": 73,
     "metadata": {},
     "output_type": "execute_result"
    }
   ],
   "source": [
    "age_cats = [\"0-2\", \"3-9\", \"10-19\", \"20-29\", \"30-39\", \"40-49\", \"50-59\", \"60-69\", \"more than 70\"]\n",
    "results_df = pd.DataFrame({\n",
    "    \"Age Group\": age_cats, \n",
    "    \"Distribution\": pcts, \n",
    "    \"Training Accuracy\": cwise_acc, \n",
    "    \"Validation Accuracy\": val_cwise_acc, \n",
    "    \"Validation ZS Accuracy\": val_cwise_zs_acc\n",
    "    } )\n",
    "results_df[\"Percent improvement\"] = results_df[\"Validation Accuracy\"] - results_df[\"Validation ZS Accuracy\"] \n",
    "results_df"
   ]
  },
  {
   "cell_type": "code",
   "execution_count": 29,
   "id": "3b824bbb-3e0b-47fb-93b6-24d366fd6477",
   "metadata": {},
   "outputs": [
    {
     "name": "stdout",
     "output_type": "stream",
     "text": [
      "Model saved successfully!\n",
      "Model loaded successfully!\n"
     ]
    }
   ],
   "source": [
    "# Save Emotion model\n",
    "joblib.dump(lr_clf_age, '../models/lr_clf_age.joblib')\n",
    "print(\"Model saved successfully!\")\n",
    "# To load the model from the file later\n",
    "clf_age_loaded = joblib.load('../models/lr_clf_age.joblib')\n",
    "print(\"Model loaded successfully!\")"
   ]
  },
  {
   "cell_type": "code",
   "execution_count": null,
   "id": "3be59bea-354a-43c6-92e7-4363831e7fce",
   "metadata": {},
   "outputs": [],
   "source": []
  }
 ],
 "metadata": {
  "kernelspec": {
   "display_name": "dissertation-env",
   "language": "python",
   "name": "python3"
  },
  "language_info": {
   "codemirror_mode": {
    "name": "ipython",
    "version": 3
   },
   "file_extension": ".py",
   "mimetype": "text/x-python",
   "name": "python",
   "nbconvert_exporter": "python",
   "pygments_lexer": "ipython3",
   "version": "3.10.14"
  }
 },
 "nbformat": 4,
 "nbformat_minor": 5
}
