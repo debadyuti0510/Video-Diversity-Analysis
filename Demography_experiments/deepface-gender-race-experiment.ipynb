{
 "cells": [
  {
   "cell_type": "code",
   "execution_count": 1,
   "metadata": {
    "execution": {
     "iopub.execute_input": "2024-07-24T18:33:23.815450Z",
     "iopub.status.busy": "2024-07-24T18:33:23.815127Z",
     "iopub.status.idle": "2024-07-24T18:33:45.233448Z",
     "shell.execute_reply": "2024-07-24T18:33:45.232494Z",
     "shell.execute_reply.started": "2024-07-24T18:33:23.815422Z"
    }
   },
   "outputs": [
    {
     "name": "stdout",
     "output_type": "stream",
     "text": [
      "Collecting deepface\n",
      "  Downloading deepface-0.0.92-py3-none-any.whl.metadata (27 kB)\n",
      "Requirement already satisfied: requests>=2.27.1 in /opt/conda/lib/python3.10/site-packages (from deepface) (2.32.3)\n",
      "Requirement already satisfied: numpy>=1.14.0 in /opt/conda/lib/python3.10/site-packages (from deepface) (1.26.4)\n",
      "Requirement already satisfied: pandas>=0.23.4 in /opt/conda/lib/python3.10/site-packages (from deepface) (2.2.2)\n",
      "Collecting gdown>=3.10.1 (from deepface)\n",
      "  Downloading gdown-5.2.0-py3-none-any.whl.metadata (5.8 kB)\n",
      "Requirement already satisfied: tqdm>=4.30.0 in /opt/conda/lib/python3.10/site-packages (from deepface) (4.66.4)\n",
      "Requirement already satisfied: Pillow>=5.2.0 in /opt/conda/lib/python3.10/site-packages (from deepface) (9.5.0)\n",
      "Requirement already satisfied: opencv-python>=4.5.5.64 in /opt/conda/lib/python3.10/site-packages (from deepface) (4.10.0.84)\n",
      "Requirement already satisfied: tensorflow>=1.9.0 in /opt/conda/lib/python3.10/site-packages (from deepface) (2.15.0)\n",
      "Requirement already satisfied: keras>=2.2.0 in /opt/conda/lib/python3.10/site-packages (from deepface) (3.4.1)\n",
      "Requirement already satisfied: Flask>=1.1.2 in /opt/conda/lib/python3.10/site-packages (from deepface) (3.0.3)\n",
      "Collecting mtcnn>=0.1.0 (from deepface)\n",
      "  Downloading mtcnn-0.1.1-py3-none-any.whl.metadata (5.8 kB)\n",
      "Collecting retina-face>=0.0.1 (from deepface)\n",
      "  Downloading retina_face-0.0.17-py3-none-any.whl.metadata (10 kB)\n",
      "Collecting fire>=0.4.0 (from deepface)\n",
      "  Downloading fire-0.6.0.tar.gz (88 kB)\n",
      "\u001b[2K     \u001b[90m━━━━━━━━━━━━━━━━━━━━━━━━━━━━━━━━━━━━━━━━\u001b[0m \u001b[32m88.4/88.4 kB\u001b[0m \u001b[31m3.4 MB/s\u001b[0m eta \u001b[36m0:00:00\u001b[0m\n",
      "\u001b[?25h  Preparing metadata (setup.py) ... \u001b[?25ldone\n",
      "\u001b[?25hCollecting gunicorn>=20.1.0 (from deepface)\n",
      "  Downloading gunicorn-22.0.0-py3-none-any.whl.metadata (4.4 kB)\n",
      "Requirement already satisfied: six in /opt/conda/lib/python3.10/site-packages (from fire>=0.4.0->deepface) (1.16.0)\n",
      "Requirement already satisfied: termcolor in /opt/conda/lib/python3.10/site-packages (from fire>=0.4.0->deepface) (2.4.0)\n",
      "Requirement already satisfied: Werkzeug>=3.0.0 in /opt/conda/lib/python3.10/site-packages (from Flask>=1.1.2->deepface) (3.0.3)\n",
      "Requirement already satisfied: Jinja2>=3.1.2 in /opt/conda/lib/python3.10/site-packages (from Flask>=1.1.2->deepface) (3.1.2)\n",
      "Requirement already satisfied: itsdangerous>=2.1.2 in /opt/conda/lib/python3.10/site-packages (from Flask>=1.1.2->deepface) (2.2.0)\n",
      "Requirement already satisfied: click>=8.1.3 in /opt/conda/lib/python3.10/site-packages (from Flask>=1.1.2->deepface) (8.1.7)\n",
      "Requirement already satisfied: blinker>=1.6.2 in /opt/conda/lib/python3.10/site-packages (from Flask>=1.1.2->deepface) (1.8.2)\n",
      "Requirement already satisfied: beautifulsoup4 in /opt/conda/lib/python3.10/site-packages (from gdown>=3.10.1->deepface) (4.12.2)\n",
      "Requirement already satisfied: filelock in /opt/conda/lib/python3.10/site-packages (from gdown>=3.10.1->deepface) (3.13.1)\n",
      "Requirement already satisfied: packaging in /opt/conda/lib/python3.10/site-packages (from gunicorn>=20.1.0->deepface) (21.3)\n",
      "Requirement already satisfied: absl-py in /opt/conda/lib/python3.10/site-packages (from keras>=2.2.0->deepface) (1.4.0)\n",
      "Requirement already satisfied: rich in /opt/conda/lib/python3.10/site-packages (from keras>=2.2.0->deepface) (13.7.0)\n",
      "Requirement already satisfied: namex in /opt/conda/lib/python3.10/site-packages (from keras>=2.2.0->deepface) (0.0.8)\n",
      "Requirement already satisfied: h5py in /opt/conda/lib/python3.10/site-packages (from keras>=2.2.0->deepface) (3.10.0)\n",
      "Requirement already satisfied: optree in /opt/conda/lib/python3.10/site-packages (from keras>=2.2.0->deepface) (0.12.1)\n",
      "Requirement already satisfied: ml-dtypes in /opt/conda/lib/python3.10/site-packages (from keras>=2.2.0->deepface) (0.2.0)\n",
      "Requirement already satisfied: python-dateutil>=2.8.2 in /opt/conda/lib/python3.10/site-packages (from pandas>=0.23.4->deepface) (2.9.0.post0)\n",
      "Requirement already satisfied: pytz>=2020.1 in /opt/conda/lib/python3.10/site-packages (from pandas>=0.23.4->deepface) (2023.3.post1)\n",
      "Requirement already satisfied: tzdata>=2022.7 in /opt/conda/lib/python3.10/site-packages (from pandas>=0.23.4->deepface) (2023.4)\n",
      "Requirement already satisfied: charset-normalizer<4,>=2 in /opt/conda/lib/python3.10/site-packages (from requests>=2.27.1->deepface) (3.3.2)\n",
      "Requirement already satisfied: idna<4,>=2.5 in /opt/conda/lib/python3.10/site-packages (from requests>=2.27.1->deepface) (3.6)\n",
      "Requirement already satisfied: urllib3<3,>=1.21.1 in /opt/conda/lib/python3.10/site-packages (from requests>=2.27.1->deepface) (1.26.18)\n",
      "Requirement already satisfied: certifi>=2017.4.17 in /opt/conda/lib/python3.10/site-packages (from requests>=2.27.1->deepface) (2024.7.4)\n",
      "Requirement already satisfied: astunparse>=1.6.0 in /opt/conda/lib/python3.10/site-packages (from tensorflow>=1.9.0->deepface) (1.6.3)\n",
      "Requirement already satisfied: flatbuffers>=23.5.26 in /opt/conda/lib/python3.10/site-packages (from tensorflow>=1.9.0->deepface) (23.5.26)\n",
      "Requirement already satisfied: gast!=0.5.0,!=0.5.1,!=0.5.2,>=0.2.1 in /opt/conda/lib/python3.10/site-packages (from tensorflow>=1.9.0->deepface) (0.5.4)\n",
      "Requirement already satisfied: google-pasta>=0.1.1 in /opt/conda/lib/python3.10/site-packages (from tensorflow>=1.9.0->deepface) (0.2.0)\n",
      "Requirement already satisfied: libclang>=13.0.0 in /opt/conda/lib/python3.10/site-packages (from tensorflow>=1.9.0->deepface) (16.0.6)\n",
      "Requirement already satisfied: opt-einsum>=2.3.2 in /opt/conda/lib/python3.10/site-packages (from tensorflow>=1.9.0->deepface) (3.3.0)\n",
      "Requirement already satisfied: protobuf!=4.21.0,!=4.21.1,!=4.21.2,!=4.21.3,!=4.21.4,!=4.21.5,<5.0.0dev,>=3.20.3 in /opt/conda/lib/python3.10/site-packages (from tensorflow>=1.9.0->deepface) (3.20.3)\n",
      "Requirement already satisfied: setuptools in /opt/conda/lib/python3.10/site-packages (from tensorflow>=1.9.0->deepface) (69.0.3)\n",
      "Requirement already satisfied: typing-extensions>=3.6.6 in /opt/conda/lib/python3.10/site-packages (from tensorflow>=1.9.0->deepface) (4.9.0)\n",
      "Requirement already satisfied: wrapt<1.15,>=1.11.0 in /opt/conda/lib/python3.10/site-packages (from tensorflow>=1.9.0->deepface) (1.14.1)\n",
      "Requirement already satisfied: tensorflow-io-gcs-filesystem>=0.23.1 in /opt/conda/lib/python3.10/site-packages (from tensorflow>=1.9.0->deepface) (0.35.0)\n",
      "Requirement already satisfied: grpcio<2.0,>=1.24.3 in /opt/conda/lib/python3.10/site-packages (from tensorflow>=1.9.0->deepface) (1.60.0)\n",
      "Requirement already satisfied: tensorboard<2.16,>=2.15 in /opt/conda/lib/python3.10/site-packages (from tensorflow>=1.9.0->deepface) (2.15.1)\n",
      "Requirement already satisfied: tensorflow-estimator<2.16,>=2.15.0 in /opt/conda/lib/python3.10/site-packages (from tensorflow>=1.9.0->deepface) (2.15.0)\n",
      "Collecting keras>=2.2.0 (from deepface)\n",
      "  Downloading keras-2.15.0-py3-none-any.whl.metadata (2.4 kB)\n",
      "Requirement already satisfied: wheel<1.0,>=0.23.0 in /opt/conda/lib/python3.10/site-packages (from astunparse>=1.6.0->tensorflow>=1.9.0->deepface) (0.42.0)\n",
      "Requirement already satisfied: MarkupSafe>=2.0 in /opt/conda/lib/python3.10/site-packages (from Jinja2>=3.1.2->Flask>=1.1.2->deepface) (2.1.3)\n",
      "Requirement already satisfied: google-auth<3,>=1.6.3 in /opt/conda/lib/python3.10/site-packages (from tensorboard<2.16,>=2.15->tensorflow>=1.9.0->deepface) (2.26.1)\n",
      "Requirement already satisfied: google-auth-oauthlib<2,>=0.5 in /opt/conda/lib/python3.10/site-packages (from tensorboard<2.16,>=2.15->tensorflow>=1.9.0->deepface) (1.2.0)\n",
      "Requirement already satisfied: markdown>=2.6.8 in /opt/conda/lib/python3.10/site-packages (from tensorboard<2.16,>=2.15->tensorflow>=1.9.0->deepface) (3.5.2)\n",
      "Requirement already satisfied: tensorboard-data-server<0.8.0,>=0.7.0 in /opt/conda/lib/python3.10/site-packages (from tensorboard<2.16,>=2.15->tensorflow>=1.9.0->deepface) (0.7.2)\n",
      "Requirement already satisfied: soupsieve>1.2 in /opt/conda/lib/python3.10/site-packages (from beautifulsoup4->gdown>=3.10.1->deepface) (2.5)\n",
      "Requirement already satisfied: pyparsing!=3.0.5,>=2.0.2 in /opt/conda/lib/python3.10/site-packages (from packaging->gunicorn>=20.1.0->deepface) (3.1.1)\n",
      "Requirement already satisfied: PySocks!=1.5.7,>=1.5.6 in /opt/conda/lib/python3.10/site-packages (from requests[socks]->gdown>=3.10.1->deepface) (1.7.1)\n",
      "Requirement already satisfied: cachetools<6.0,>=2.0.0 in /opt/conda/lib/python3.10/site-packages (from google-auth<3,>=1.6.3->tensorboard<2.16,>=2.15->tensorflow>=1.9.0->deepface) (4.2.4)\n",
      "Requirement already satisfied: pyasn1-modules>=0.2.1 in /opt/conda/lib/python3.10/site-packages (from google-auth<3,>=1.6.3->tensorboard<2.16,>=2.15->tensorflow>=1.9.0->deepface) (0.3.0)\n",
      "Requirement already satisfied: rsa<5,>=3.1.4 in /opt/conda/lib/python3.10/site-packages (from google-auth<3,>=1.6.3->tensorboard<2.16,>=2.15->tensorflow>=1.9.0->deepface) (4.9)\n",
      "Requirement already satisfied: requests-oauthlib>=0.7.0 in /opt/conda/lib/python3.10/site-packages (from google-auth-oauthlib<2,>=0.5->tensorboard<2.16,>=2.15->tensorflow>=1.9.0->deepface) (1.3.1)\n",
      "Requirement already satisfied: pyasn1<0.6.0,>=0.4.6 in /opt/conda/lib/python3.10/site-packages (from pyasn1-modules>=0.2.1->google-auth<3,>=1.6.3->tensorboard<2.16,>=2.15->tensorflow>=1.9.0->deepface) (0.5.1)\n",
      "Requirement already satisfied: oauthlib>=3.0.0 in /opt/conda/lib/python3.10/site-packages (from requests-oauthlib>=0.7.0->google-auth-oauthlib<2,>=0.5->tensorboard<2.16,>=2.15->tensorflow>=1.9.0->deepface) (3.2.2)\n",
      "Requirement already satisfied: markdown-it-py>=2.2.0 in /opt/conda/lib/python3.10/site-packages (from rich->keras>=2.2.0->deepface) (3.0.0)\n",
      "Requirement already satisfied: pygments<3.0.0,>=2.13.0 in /opt/conda/lib/python3.10/site-packages (from rich->keras>=2.2.0->deepface) (2.17.2)\n",
      "Requirement already satisfied: mdurl~=0.1 in /opt/conda/lib/python3.10/site-packages (from markdown-it-py>=2.2.0->rich->keras>=2.2.0->deepface) (0.1.2)\n",
      "Downloading deepface-0.0.92-py3-none-any.whl (105 kB)\n",
      "\u001b[2K   \u001b[90m━━━━━━━━━━━━━━━━━━━━━━━━━━━━━━━━━━━━━━━━\u001b[0m \u001b[32m105.5/105.5 kB\u001b[0m \u001b[31m6.3 MB/s\u001b[0m eta \u001b[36m0:00:00\u001b[0m\n",
      "\u001b[?25hDownloading gdown-5.2.0-py3-none-any.whl (18 kB)\n",
      "Downloading gunicorn-22.0.0-py3-none-any.whl (84 kB)\n",
      "\u001b[2K   \u001b[90m━━━━━━━━━━━━━━━━━━━━━━━━━━━━━━━━━━━━━━━━\u001b[0m \u001b[32m84.4/84.4 kB\u001b[0m \u001b[31m5.3 MB/s\u001b[0m eta \u001b[36m0:00:00\u001b[0m\n",
      "\u001b[?25hDownloading mtcnn-0.1.1-py3-none-any.whl (2.3 MB)\n",
      "\u001b[2K   \u001b[90m━━━━━━━━━━━━━━━━━━━━━━━━━━━━━━━━━━━━━━━━\u001b[0m \u001b[32m2.3/2.3 MB\u001b[0m \u001b[31m36.9 MB/s\u001b[0m eta \u001b[36m0:00:00\u001b[0ma \u001b[36m0:00:01\u001b[0m\n",
      "\u001b[?25hDownloading retina_face-0.0.17-py3-none-any.whl (25 kB)\n",
      "Downloading keras-2.15.0-py3-none-any.whl (1.7 MB)\n",
      "\u001b[2K   \u001b[90m━━━━━━━━━━━━━━━━━━━━━━━━━━━━━━━━━━━━━━━━\u001b[0m \u001b[32m1.7/1.7 MB\u001b[0m \u001b[31m60.0 MB/s\u001b[0m eta \u001b[36m0:00:00\u001b[0m\n",
      "\u001b[?25hBuilding wheels for collected packages: fire\n",
      "  Building wheel for fire (setup.py) ... \u001b[?25ldone\n",
      "\u001b[?25h  Created wheel for fire: filename=fire-0.6.0-py2.py3-none-any.whl size=117031 sha256=033cc856210eae244ee698709cd6294d24257dfe37d69de244cff79a932c9860\n",
      "  Stored in directory: /root/.cache/pip/wheels/d6/6d/5d/5b73fa0f46d01a793713f8859201361e9e581ced8c75e5c6a3\n",
      "Successfully built fire\n",
      "Installing collected packages: keras, fire, mtcnn, gunicorn, gdown, retina-face, deepface\n",
      "  Attempting uninstall: keras\n",
      "    Found existing installation: keras 3.4.1\n",
      "    Uninstalling keras-3.4.1:\n",
      "      Successfully uninstalled keras-3.4.1\n",
      "\u001b[31mERROR: pip's dependency resolver does not currently take into account all the packages that are installed. This behaviour is the source of the following dependency conflicts.\n",
      "tensorflow-decision-forests 1.8.1 requires wurlitzer, which is not installed.\u001b[0m\u001b[31m\n",
      "\u001b[0mSuccessfully installed deepface-0.0.92 fire-0.6.0 gdown-5.2.0 gunicorn-22.0.0 keras-2.15.0 mtcnn-0.1.1 retina-face-0.0.17\n"
     ]
    }
   ],
   "source": [
    "!pip install deepface"
   ]
  },
  {
   "cell_type": "code",
   "execution_count": 2,
   "metadata": {
    "execution": {
     "iopub.execute_input": "2024-07-24T18:33:45.236014Z",
     "iopub.status.busy": "2024-07-24T18:33:45.235721Z",
     "iopub.status.idle": "2024-07-24T18:34:04.270725Z",
     "shell.execute_reply": "2024-07-24T18:34:04.269814Z",
     "shell.execute_reply.started": "2024-07-24T18:33:45.235986Z"
    }
   },
   "outputs": [
    {
     "name": "stderr",
     "output_type": "stream",
     "text": [
      "2024-07-24 18:33:49.021401: E external/local_xla/xla/stream_executor/cuda/cuda_dnn.cc:9261] Unable to register cuDNN factory: Attempting to register factory for plugin cuDNN when one has already been registered\n",
      "2024-07-24 18:33:49.021537: E external/local_xla/xla/stream_executor/cuda/cuda_fft.cc:607] Unable to register cuFFT factory: Attempting to register factory for plugin cuFFT when one has already been registered\n",
      "2024-07-24 18:33:49.155943: E external/local_xla/xla/stream_executor/cuda/cuda_blas.cc:1515] Unable to register cuBLAS factory: Attempting to register factory for plugin cuBLAS when one has already been registered\n"
     ]
    }
   ],
   "source": [
    "from PIL import Image\n",
    "import datasets\n",
    "import cv2\n",
    "import numpy as np\n",
    "from tqdm.auto import tqdm\n",
    "from deepface.modules import modeling, preprocessing\n",
    "from deepface.extendedmodels import Race, Gender\n",
    "import torch\n",
    "from torchvision import transforms\n",
    "import numpy as np\n",
    "import cv2\n",
    "from PIL import Image\n",
    "import tensorflow as tf\n",
    "import os\n",
    "from datasets import load_dataset\n",
    "from torch.utils.data import DataLoader, Dataset\n",
    "from sklearn.metrics import precision_recall_fscore_support"
   ]
  },
  {
   "cell_type": "code",
   "execution_count": 3,
   "metadata": {
    "execution": {
     "iopub.execute_input": "2024-07-24T18:34:04.272552Z",
     "iopub.status.busy": "2024-07-24T18:34:04.271878Z",
     "iopub.status.idle": "2024-07-24T18:34:12.173560Z",
     "shell.execute_reply": "2024-07-24T18:34:12.172639Z",
     "shell.execute_reply.started": "2024-07-24T18:34:04.272525Z"
    }
   },
   "outputs": [
    {
     "name": "stdout",
     "output_type": "stream",
     "text": [
      "24-07-24 18:34:04 - race_model_single_batch.h5 will be downloaded...\n"
     ]
    },
    {
     "name": "stderr",
     "output_type": "stream",
     "text": [
      "Downloading...\n",
      "From: https://github.com/serengil/deepface_models/releases/download/v1.0/race_model_single_batch.h5\n",
      "To: /root/.deepface/weights/race_model_single_batch.h5\n",
      "100%|██████████| 537M/537M [00:02<00:00, 199MB/s]  \n"
     ]
    },
    {
     "name": "stdout",
     "output_type": "stream",
     "text": [
      "24-07-24 18:34:09 - gender_model_weights.h5 will be downloaded...\n"
     ]
    },
    {
     "name": "stderr",
     "output_type": "stream",
     "text": [
      "Downloading...\n",
      "From: https://github.com/serengil/deepface_models/releases/download/v1.0/gender_model_weights.h5\n",
      "To: /root/.deepface/weights/gender_model_weights.h5\n",
      "100%|██████████| 537M/537M [00:01<00:00, 382MB/s] \n"
     ]
    }
   ],
   "source": [
    "if not os.path.exists('/root/.deepface/weights'):\n",
    "    os.mkdir('/root/.deepface')\n",
    "    os.mkdir('/root/.deepface/weights')\n",
    "race_model = modeling.build_model(\"Race\").model\n",
    "gender_model = modeling.build_model(\"Gender\").model"
   ]
  },
  {
   "cell_type": "code",
   "execution_count": 4,
   "metadata": {
    "execution": {
     "iopub.execute_input": "2024-07-24T18:34:12.176196Z",
     "iopub.status.busy": "2024-07-24T18:34:12.175891Z",
     "iopub.status.idle": "2024-07-24T18:34:12.182608Z",
     "shell.execute_reply": "2024-07-24T18:34:12.181544Z",
     "shell.execute_reply.started": "2024-07-24T18:34:12.176169Z"
    }
   },
   "outputs": [],
   "source": [
    "def resize_and_combine_classes(sample):\n",
    "    \n",
    "    # Combine East and SouthEast asian\n",
    "    if sample[\"race\"] in {0,6}:\n",
    "        sample[\"race\"] = 0\n",
    "    # Preprocessing\n",
    "    img_content = np.array(sample[\"image\"])\n",
    "    # Convert RGB image to BGR\n",
    "    img_content = cv2.cvtColor(img_content, cv2.COLOR_RGB2BGR)\n",
    "\n",
    "    # resize input image\n",
    "    img_content = preprocessing.resize_image(img=img_content, target_size=(224, 224))\n",
    "    sample[\"image\"] = np.array(img_content)\n",
    "    return sample"
   ]
  },
  {
   "cell_type": "code",
   "execution_count": 5,
   "metadata": {
    "execution": {
     "iopub.execute_input": "2024-07-24T18:34:12.184374Z",
     "iopub.status.busy": "2024-07-24T18:34:12.183980Z",
     "iopub.status.idle": "2024-07-24T18:34:41.693565Z",
     "shell.execute_reply": "2024-07-24T18:34:41.692438Z",
     "shell.execute_reply.started": "2024-07-24T18:34:12.184340Z"
    }
   },
   "outputs": [
    {
     "data": {
      "application/vnd.jupyter.widget-view+json": {
       "model_id": "63079a868c5b4d869bd4e44cf31b6b47",
       "version_major": 2,
       "version_minor": 0
      },
      "text/plain": [
       "Downloading readme:   0%|          | 0.00/5.89k [00:00<?, ?B/s]"
      ]
     },
     "metadata": {},
     "output_type": "display_data"
    },
    {
     "data": {
      "application/vnd.jupyter.widget-view+json": {
       "model_id": "b54d6cccadfd4c88a62083bfb1e5c612",
       "version_major": 2,
       "version_minor": 0
      },
      "text/plain": [
       "Downloading data:   0%|          | 0.00/468M [00:00<?, ?B/s]"
      ]
     },
     "metadata": {},
     "output_type": "display_data"
    },
    {
     "data": {
      "application/vnd.jupyter.widget-view+json": {
       "model_id": "ebf9bc8ce2fa4976b9f9a8a836f690f0",
       "version_major": 2,
       "version_minor": 0
      },
      "text/plain": [
       "Downloading data:   0%|          | 0.00/466M [00:00<?, ?B/s]"
      ]
     },
     "metadata": {},
     "output_type": "display_data"
    },
    {
     "data": {
      "application/vnd.jupyter.widget-view+json": {
       "model_id": "7a606225d2aa494faf534138b907393d",
       "version_major": 2,
       "version_minor": 0
      },
      "text/plain": [
       "Downloading data:   0%|          | 0.00/466M [00:00<?, ?B/s]"
      ]
     },
     "metadata": {},
     "output_type": "display_data"
    },
    {
     "data": {
      "application/vnd.jupyter.widget-view+json": {
       "model_id": "51b7adec49954c6ea69203bd460ba871",
       "version_major": 2,
       "version_minor": 0
      },
      "text/plain": [
       "Downloading data:   0%|          | 0.00/468M [00:00<?, ?B/s]"
      ]
     },
     "metadata": {},
     "output_type": "display_data"
    },
    {
     "data": {
      "application/vnd.jupyter.widget-view+json": {
       "model_id": "f6db8b3563cc4c67a21cedfa7e2731d9",
       "version_major": 2,
       "version_minor": 0
      },
      "text/plain": [
       "Downloading data:   0%|          | 0.00/237M [00:00<?, ?B/s]"
      ]
     },
     "metadata": {},
     "output_type": "display_data"
    },
    {
     "data": {
      "application/vnd.jupyter.widget-view+json": {
       "model_id": "041e08a0c7f84f56a9d9be64abd557d3",
       "version_major": 2,
       "version_minor": 0
      },
      "text/plain": [
       "Generating train split:   0%|          | 0/86744 [00:00<?, ? examples/s]"
      ]
     },
     "metadata": {},
     "output_type": "display_data"
    },
    {
     "data": {
      "application/vnd.jupyter.widget-view+json": {
       "model_id": "642d32faafed44cbb35de4186687e56d",
       "version_major": 2,
       "version_minor": 0
      },
      "text/plain": [
       "Generating validation split:   0%|          | 0/10954 [00:00<?, ? examples/s]"
      ]
     },
     "metadata": {},
     "output_type": "display_data"
    }
   ],
   "source": [
    "# Load training data\n",
    "train_ds = datasets.load_dataset('HuggingFaceM4/FairFace', '1.25', split='train', verification_mode=\"no_checks\")"
   ]
  },
  {
   "cell_type": "code",
   "execution_count": 6,
   "metadata": {
    "execution": {
     "iopub.execute_input": "2024-07-24T18:34:41.695369Z",
     "iopub.status.busy": "2024-07-24T18:34:41.695011Z",
     "iopub.status.idle": "2024-07-24T18:34:41.703483Z",
     "shell.execute_reply": "2024-07-24T18:34:41.702437Z",
     "shell.execute_reply.started": "2024-07-24T18:34:41.695340Z"
    }
   },
   "outputs": [],
   "source": [
    "\n",
    "class ResizeAndCombineClasses(object):\n",
    "    def __init__(self, size):\n",
    "        pass\n",
    "#         self.size = size  # Set the target size for resizing\n",
    "#         self.resize = transforms.Resize(self.size)  # Initialize the resize transformation\n",
    "\n",
    "    def __call__(self, sample):\n",
    "        image, race, gender = sample['image'], sample['race'], sample['gender']\n",
    "\n",
    "        # Combine East and SouthEast Asian classes\n",
    "        if race in {0, 6}:\n",
    "            race = 0\n",
    "\n",
    "        # Preprocessing\n",
    "        image = np.array(image)\n",
    "        # Convert RGB image to BGR\n",
    "        image = cv2.cvtColor(image, cv2.COLOR_RGB2BGR)\n",
    "\n",
    "        # resize input image\n",
    "        image = preprocessing.resize_image(img=image, target_size=(224, 224))\n",
    "\n",
    "#         # Convert to tensor (optional here depending on subsequent use)\n",
    "#         image = transforms.ToTensor()(image)\n",
    "\n",
    "        return {'image': np.array(image).squeeze(), 'race': race, 'gender': gender}\n"
   ]
  },
  {
   "cell_type": "code",
   "execution_count": 7,
   "metadata": {
    "execution": {
     "iopub.execute_input": "2024-07-24T18:34:41.705382Z",
     "iopub.status.busy": "2024-07-24T18:34:41.704932Z",
     "iopub.status.idle": "2024-07-24T18:34:42.860524Z",
     "shell.execute_reply": "2024-07-24T18:34:42.859466Z",
     "shell.execute_reply.started": "2024-07-24T18:34:41.705355Z"
    }
   },
   "outputs": [],
   "source": [
    "\n",
    "\n",
    "class HuggingFaceTorchDataset(Dataset):\n",
    "    def __init__(self, hf_dataset):\n",
    "        self.hf_dataset = hf_dataset\n",
    "        self.transform = ResizeAndCombineClasses(size=(224, 224))\n",
    "\n",
    "    def __len__(self):\n",
    "        return len(self.hf_dataset)\n",
    "\n",
    "    def __getitem__(self, idx):\n",
    "        sample = self.hf_dataset[idx]\n",
    "        sample = self.transform(sample)\n",
    "        image = sample['image']\n",
    "        race = sample['race']\n",
    "        gender = sample['gender']\n",
    "        return image, race, gender\n",
    "\n",
    "# Load training data\n",
    "train_hf_dataset = load_dataset('HuggingFaceM4/FairFace', '1.25', split='train', verification_mode=\"no_checks\")\n",
    "train_dataset = HuggingFaceTorchDataset(train_hf_dataset)\n",
    "\n",
    "# DataLoader\n",
    "train_loader = DataLoader(train_dataset, batch_size=8, shuffle=True)"
   ]
  },
  {
   "cell_type": "code",
   "execution_count": 8,
   "metadata": {
    "execution": {
     "iopub.execute_input": "2024-07-24T18:34:42.862140Z",
     "iopub.status.busy": "2024-07-24T18:34:42.861780Z",
     "iopub.status.idle": "2024-07-24T18:34:42.867993Z",
     "shell.execute_reply": "2024-07-24T18:34:42.866743Z",
     "shell.execute_reply.started": "2024-07-24T18:34:42.862108Z"
    }
   },
   "outputs": [],
   "source": [
    "ref = {\n",
    "        \"Man\": 0,\n",
    "        \"Woman\": 1,\n",
    "        \"asian\": 0, \n",
    "        \"indian\": 1, \n",
    "        \"black\": 2, \n",
    "        \"white\": 3, \n",
    "        \"middle eastern\": 4, \n",
    "        \"latino hispanic\": 5, \n",
    "    }"
   ]
  },
  {
   "cell_type": "code",
   "execution_count": 9,
   "metadata": {
    "execution": {
     "iopub.execute_input": "2024-07-24T18:34:42.870274Z",
     "iopub.status.busy": "2024-07-24T18:34:42.869685Z",
     "iopub.status.idle": "2024-07-24T18:51:37.024273Z",
     "shell.execute_reply": "2024-07-24T18:51:37.023145Z",
     "shell.execute_reply.started": "2024-07-24T18:34:42.870215Z"
    }
   },
   "outputs": [
    {
     "data": {
      "application/vnd.jupyter.widget-view+json": {
       "model_id": "ae6cbd33663a4676932b91c6c574577e",
       "version_major": 2,
       "version_minor": 0
      },
      "text/plain": [
       "  0%|          | 0/10843 [00:00<?, ?it/s]"
      ]
     },
     "metadata": {},
     "output_type": "display_data"
    }
   ],
   "source": [
    "correct_races = correct_genders = total = 0\n",
    "all_race_preds = []\n",
    "all_gender_preds = []\n",
    "true_race_preds = []\n",
    "true_gender_preds = []\n",
    "for images, races, genders in tqdm(train_loader):\n",
    "#     import pdb; pdb.set_trace()\n",
    "    race_preds = race_model(np.array(images).squeeze())\n",
    "    race_preds = np.argmax(race_preds, axis=1)\n",
    "    race_preds = [ref[Race.labels[pred]] for pred in race_preds]\n",
    "    correct_races += np.sum(race_preds == np.array(races))\n",
    "    all_race_preds += race_preds\n",
    "    true_race_preds += races\n",
    "    total += len(races)\n",
    "    \n",
    "    gender_preds = gender_model(np.array(images).squeeze())\n",
    "    gender_preds = np.argmax(gender_preds, axis=1)\n",
    "    gender_preds = [ref[Gender.labels[pred]] for pred in gender_preds]\n",
    "    correct_genders += np.sum(gender_preds == np.array(genders))\n",
    "    all_gender_preds += gender_preds\n",
    "    true_gender_preds += genders"
   ]
  },
  {
   "cell_type": "code",
   "execution_count": 10,
   "metadata": {
    "execution": {
     "iopub.execute_input": "2024-07-24T18:51:37.029190Z",
     "iopub.status.busy": "2024-07-24T18:51:37.028563Z",
     "iopub.status.idle": "2024-07-24T18:51:37.035375Z",
     "shell.execute_reply": "2024-07-24T18:51:37.034364Z",
     "shell.execute_reply.started": "2024-07-24T18:51:37.029144Z"
    }
   },
   "outputs": [
    {
     "name": "stdout",
     "output_type": "stream",
     "text": [
      "Race prediction accuracy on training data: 37.70%\n",
      "Gender prediction accuracy on training data: 74.32%\n"
     ]
    }
   ],
   "source": [
    "train_acc_race = (correct_races / total)*100\n",
    "train_acc_gender = (correct_genders / total)*100\n",
    "print(f\"Race prediction accuracy on training data: {train_acc_race:.2f}%\")\n",
    "print(f\"Gender prediction accuracy on training data: {train_acc_gender:.2f}%\")"
   ]
  },
  {
   "cell_type": "code",
   "execution_count": 11,
   "metadata": {
    "execution": {
     "iopub.execute_input": "2024-07-24T18:51:37.037084Z",
     "iopub.status.busy": "2024-07-24T18:51:37.036717Z",
     "iopub.status.idle": "2024-07-24T18:51:50.056011Z",
     "shell.execute_reply": "2024-07-24T18:51:50.054972Z",
     "shell.execute_reply.started": "2024-07-24T18:51:37.037050Z"
    }
   },
   "outputs": [
    {
     "name": "stdout",
     "output_type": "stream",
     "text": [
      "Training set metrics - Race (Deepface) \n",
      "========================================\n",
      "Accuracy: 0.3770 Precision: 0.3972, Recall: 0.3770, F-Score(Weighted): 0.3412, F-Score(Micro): 0.3770, F-Score(Macro): 0.3124\n"
     ]
    }
   ],
   "source": [
    "# Calculate F-score, precision, recall - Race - Training set \n",
    "\n",
    "precision, recall, f_score_weighted, _ = precision_recall_fscore_support(true_race_preds, all_race_preds, average='weighted')\n",
    "_, _, f_score_macro, _ = precision_recall_fscore_support(true_race_preds, all_race_preds, average='macro')\n",
    "_, _, f_score_micro, _ = precision_recall_fscore_support(true_race_preds, all_race_preds, average='micro')\n",
    "train_acc = np.sum(np.array(all_race_preds) == np.array(true_race_preds)) / total\n",
    "print(f\"Training set metrics - Race (Deepface) \\n\" + \"=\"*40)\n",
    "print(f\"Accuracy: {train_acc:.4f} Precision: {precision:.4f}, Recall: {recall:.4f}, F-Score(Weighted): {f_score_weighted:.4f}, F-Score(Micro): {f_score_micro:.4f}, F-Score(Macro): {f_score_macro:.4f}\")"
   ]
  },
  {
   "cell_type": "code",
   "execution_count": 12,
   "metadata": {
    "execution": {
     "iopub.execute_input": "2024-07-24T18:51:50.057570Z",
     "iopub.status.busy": "2024-07-24T18:51:50.057167Z",
     "iopub.status.idle": "2024-07-24T18:52:03.211304Z",
     "shell.execute_reply": "2024-07-24T18:52:03.210017Z",
     "shell.execute_reply.started": "2024-07-24T18:51:50.057543Z"
    }
   },
   "outputs": [
    {
     "name": "stdout",
     "output_type": "stream",
     "text": [
      "Training set metrics - Gender (Deepface) \n",
      "========================================\n",
      "Accuracy: 0.7432 Precision: 0.7624, Recall: 0.7432, F-Score(Weighted): 0.7349, F-Score(Micro): 0.7432, F-Score(Macro): 0.7315\n"
     ]
    }
   ],
   "source": [
    "# Calculate F-score, precision, recall - Gender - Training set \n",
    "\n",
    "precision, recall, f_score_weighted, _ = precision_recall_fscore_support(true_gender_preds, all_gender_preds, average='weighted')\n",
    "_, _, f_score_macro, _ = precision_recall_fscore_support(true_gender_preds, all_gender_preds, average='macro')\n",
    "_, _, f_score_micro, _ = precision_recall_fscore_support(true_gender_preds, all_gender_preds, average='micro')\n",
    "train_acc = np.sum(np.array(all_gender_preds) == np.array(true_gender_preds)) / total\n",
    "print(f\"Training set metrics - Gender (Deepface) \\n\" + \"=\"*40)\n",
    "print(f\"Accuracy: {train_acc:.4f} Precision: {precision:.4f}, Recall: {recall:.4f}, F-Score(Weighted): {f_score_weighted:.4f}, F-Score(Micro): {f_score_micro:.4f}, F-Score(Macro): {f_score_macro:.4f}\")"
   ]
  },
  {
   "cell_type": "code",
   "execution_count": 13,
   "metadata": {
    "execution": {
     "iopub.execute_input": "2024-07-24T18:52:03.212823Z",
     "iopub.status.busy": "2024-07-24T18:52:03.212503Z",
     "iopub.status.idle": "2024-07-24T18:52:04.366878Z",
     "shell.execute_reply": "2024-07-24T18:52:04.365842Z",
     "shell.execute_reply.started": "2024-07-24T18:52:03.212796Z"
    }
   },
   "outputs": [],
   "source": [
    "# Load validation data as test data\n",
    "valid_ds = datasets.load_dataset('HuggingFaceM4/FairFace', '1.25', split=\"validation\", verification_mode=\"no_checks\")\n",
    "# valid_ds = valid_ds.shuffle(seed=42).select([i for i in range(6_000)]) # Take only first 6_000 images\n",
    "valid_dataset = HuggingFaceTorchDataset(valid_ds)\n",
    "\n",
    "# DataLoader\n",
    "valid_loader = DataLoader(valid_dataset, batch_size=8, shuffle=True)"
   ]
  },
  {
   "cell_type": "code",
   "execution_count": 14,
   "metadata": {
    "execution": {
     "iopub.execute_input": "2024-07-24T18:52:04.368952Z",
     "iopub.status.busy": "2024-07-24T18:52:04.368212Z",
     "iopub.status.idle": "2024-07-24T18:54:13.633166Z",
     "shell.execute_reply": "2024-07-24T18:54:13.632129Z",
     "shell.execute_reply.started": "2024-07-24T18:52:04.368905Z"
    }
   },
   "outputs": [
    {
     "data": {
      "application/vnd.jupyter.widget-view+json": {
       "model_id": "8a8894cd4acc408393aa81354480066f",
       "version_major": 2,
       "version_minor": 0
      },
      "text/plain": [
       "  0%|          | 0/1370 [00:00<?, ?it/s]"
      ]
     },
     "metadata": {},
     "output_type": "display_data"
    }
   ],
   "source": [
    "correct_races = correct_genders = total = 0\n",
    "all_race_preds = []\n",
    "all_gender_preds = []\n",
    "true_race_preds = []\n",
    "true_gender_preds = []\n",
    "for images, races, genders in tqdm(valid_loader):\n",
    "#     import pdb; pdb.set_trace()\n",
    "    race_preds = race_model(np.array(images).squeeze())\n",
    "    race_preds = np.argmax(race_preds, axis=1)\n",
    "    race_preds = [ref[Race.labels[pred]] for pred in race_preds]\n",
    "    correct_races += np.sum(race_preds == np.array(races))\n",
    "    all_race_preds += race_preds\n",
    "    true_race_preds += races\n",
    "    total += len(races)\n",
    "    \n",
    "    gender_preds = gender_model(np.array(images).squeeze())\n",
    "    gender_preds = np.argmax(gender_preds, axis=1)\n",
    "    gender_preds = [ref[Gender.labels[pred]] for pred in gender_preds]\n",
    "    correct_genders += np.sum(gender_preds == np.array(genders))\n",
    "    all_gender_preds += gender_preds\n",
    "    true_gender_preds += genders"
   ]
  },
  {
   "cell_type": "code",
   "execution_count": 15,
   "metadata": {
    "execution": {
     "iopub.execute_input": "2024-07-24T18:54:13.634877Z",
     "iopub.status.busy": "2024-07-24T18:54:13.634562Z",
     "iopub.status.idle": "2024-07-24T18:54:13.641098Z",
     "shell.execute_reply": "2024-07-24T18:54:13.640137Z",
     "shell.execute_reply.started": "2024-07-24T18:54:13.634850Z"
    }
   },
   "outputs": [
    {
     "name": "stdout",
     "output_type": "stream",
     "text": [
      "Race prediction accuracy on validation data: 37.37%\n",
      "Gender prediction accuracy on validation data: 74.08%\n"
     ]
    }
   ],
   "source": [
    "valid_acc_race = (correct_races / total)*100\n",
    "valid_acc_gender = (correct_genders / total)*100\n",
    "print(f\"Race prediction accuracy on validation data: {valid_acc_race:.2f}%\")\n",
    "print(f\"Gender prediction accuracy on validation data: {valid_acc_gender:.2f}%\")"
   ]
  },
  {
   "cell_type": "code",
   "execution_count": 16,
   "metadata": {
    "execution": {
     "iopub.execute_input": "2024-07-24T18:54:13.642533Z",
     "iopub.status.busy": "2024-07-24T18:54:13.642199Z",
     "iopub.status.idle": "2024-07-24T18:54:14.977143Z",
     "shell.execute_reply": "2024-07-24T18:54:14.976156Z",
     "shell.execute_reply.started": "2024-07-24T18:54:13.642509Z"
    }
   },
   "outputs": [
    {
     "name": "stdout",
     "output_type": "stream",
     "text": [
      "Validation set metrics - Race (Deepface) \n",
      "========================================\n",
      "Accuracy: 0.3737 Precision: 0.3970, Recall: 0.3737, F-Score(Weighted): 0.3404, F-Score(Micro): 0.3737, F-Score(Macro): 0.3102\n"
     ]
    }
   ],
   "source": [
    "# Calculate F-score, precision, recall - Race - Validation set \n",
    "\n",
    "precision, recall, f_score_weighted, _ = precision_recall_fscore_support(true_race_preds, all_race_preds, average='weighted')\n",
    "_, _, f_score_macro, _ = precision_recall_fscore_support(true_race_preds, all_race_preds, average='macro')\n",
    "_, _, f_score_micro, _ = precision_recall_fscore_support(true_race_preds, all_race_preds, average='micro')\n",
    "train_acc = np.sum(np.array(all_race_preds) == np.array(true_race_preds)) / total\n",
    "print(f\"Validation set metrics - Race (Deepface) \\n\" + \"=\"*40)\n",
    "print(f\"Accuracy: {train_acc:.4f} Precision: {precision:.4f}, Recall: {recall:.4f}, F-Score(Weighted): {f_score_weighted:.4f}, F-Score(Micro): {f_score_micro:.4f}, F-Score(Macro): {f_score_macro:.4f}\")"
   ]
  },
  {
   "cell_type": "code",
   "execution_count": 17,
   "metadata": {
    "execution": {
     "iopub.execute_input": "2024-07-24T18:54:14.980842Z",
     "iopub.status.busy": "2024-07-24T18:54:14.980093Z",
     "iopub.status.idle": "2024-07-24T18:54:16.622373Z",
     "shell.execute_reply": "2024-07-24T18:54:16.621392Z",
     "shell.execute_reply.started": "2024-07-24T18:54:14.980814Z"
    }
   },
   "outputs": [
    {
     "name": "stdout",
     "output_type": "stream",
     "text": [
      "Validation set metrics - Gender (Deepface) \n",
      "========================================\n",
      "Accuracy: 0.7408 Precision: 0.7590, Recall: 0.7408, F-Score(Weighted): 0.7329, F-Score(Micro): 0.7408, F-Score(Macro): 0.7297\n"
     ]
    }
   ],
   "source": [
    "# Calculate F-score, precision, recall - Gender - Validation set \n",
    "\n",
    "precision, recall, f_score_weighted, _ = precision_recall_fscore_support(true_gender_preds, all_gender_preds, average='weighted')\n",
    "_, _, f_score_macro, _ = precision_recall_fscore_support(true_gender_preds, all_gender_preds, average='macro')\n",
    "_, _, f_score_micro, _ = precision_recall_fscore_support(true_gender_preds, all_gender_preds, average='micro')\n",
    "train_acc = np.sum(np.array(all_gender_preds) == np.array(true_gender_preds)) / total\n",
    "print(f\"Validation set metrics - Gender (Deepface) \\n\" + \"=\"*40)\n",
    "print(f\"Accuracy: {train_acc:.4f} Precision: {precision:.4f}, Recall: {recall:.4f}, F-Score(Weighted): {f_score_weighted:.4f}, F-Score(Micro): {f_score_micro:.4f}, F-Score(Macro): {f_score_macro:.4f}\")"
   ]
  },
  {
   "cell_type": "code",
   "execution_count": null,
   "metadata": {},
   "outputs": [],
   "source": []
  },
  {
   "cell_type": "code",
   "execution_count": null,
   "metadata": {},
   "outputs": [],
   "source": []
  }
 ],
 "metadata": {
  "kaggle": {
   "accelerator": "gpu",
   "dataSources": [],
   "dockerImageVersionId": 30746,
   "isGpuEnabled": true,
   "isInternetEnabled": true,
   "language": "python",
   "sourceType": "notebook"
  },
  "kernelspec": {
   "display_name": "Python 3 (ipykernel)",
   "language": "python",
   "name": "python3"
  },
  "language_info": {
   "codemirror_mode": {
    "name": "ipython",
    "version": 3
   },
   "file_extension": ".py",
   "mimetype": "text/x-python",
   "name": "python",
   "nbconvert_exporter": "python",
   "pygments_lexer": "ipython3",
   "version": "3.12.4"
  }
 },
 "nbformat": 4,
 "nbformat_minor": 4
}
