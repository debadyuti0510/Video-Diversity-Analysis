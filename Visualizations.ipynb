{
 "cells": [
  {
   "cell_type": "code",
   "execution_count": 32,
   "id": "de5a0e04-a285-449c-b9cb-797e80edcced",
   "metadata": {},
   "outputs": [],
   "source": [
    "import pandas as pd\n",
    "import os\n",
    "import json\n",
    "from tqdm import tqdm\n",
    "import plotly.express as px\n",
    "import plotly.graph_objects as go"
   ]
  },
  {
   "cell_type": "code",
   "execution_count": 33,
   "id": "43a2af98-ce23-4df1-a1e5-a6034101fcf2",
   "metadata": {},
   "outputs": [
    {
     "name": "stdout",
     "output_type": "stream",
     "text": [
      "Requirement already satisfied: dash in c:\\python310\\lib\\site-packages (2.17.1)\n",
      "Requirement already satisfied: plotly in c:\\python310\\lib\\site-packages (5.22.0)\n",
      "Requirement already satisfied: Flask<3.1,>=1.0.4 in c:\\python310\\lib\\site-packages (from dash) (3.0.3)\n",
      "Requirement already satisfied: Werkzeug<3.1 in c:\\python310\\lib\\site-packages (from dash) (3.0.3)\n",
      "Requirement already satisfied: dash-html-components==2.0.0 in c:\\python310\\lib\\site-packages (from dash) (2.0.0)\n",
      "Requirement already satisfied: dash-core-components==2.0.0 in c:\\python310\\lib\\site-packages (from dash) (2.0.0)\n",
      "Requirement already satisfied: dash-table==5.0.0 in c:\\python310\\lib\\site-packages (from dash) (5.0.0)\n",
      "Requirement already satisfied: importlib-metadata in c:\\python310\\lib\\site-packages (from dash) (8.0.0)\n",
      "Requirement already satisfied: typing-extensions>=4.1.1 in c:\\python310\\lib\\site-packages (from dash) (4.9.0)\n",
      "Requirement already satisfied: requests in c:\\python310\\lib\\site-packages (from dash) (2.31.0)\n",
      "Requirement already satisfied: retrying in c:\\python310\\lib\\site-packages (from dash) (1.3.4)\n",
      "Requirement already satisfied: nest-asyncio in c:\\users\\debadyuti\\appdata\\roaming\\python\\python310\\site-packages (from dash) (1.6.0)\n",
      "Requirement already satisfied: setuptools in c:\\python310\\lib\\site-packages (from dash) (58.1.0)\n",
      "Requirement already satisfied: tenacity>=6.2.0 in c:\\python310\\lib\\site-packages (from plotly) (8.5.0)\n",
      "Requirement already satisfied: packaging in c:\\python310\\lib\\site-packages (from plotly) (23.2)\n",
      "Requirement already satisfied: Jinja2>=3.1.2 in c:\\python310\\lib\\site-packages (from Flask<3.1,>=1.0.4->dash) (3.1.3)\n",
      "Requirement already satisfied: itsdangerous>=2.1.2 in c:\\python310\\lib\\site-packages (from Flask<3.1,>=1.0.4->dash) (2.2.0)\n",
      "Requirement already satisfied: click>=8.1.3 in c:\\python310\\lib\\site-packages (from Flask<3.1,>=1.0.4->dash) (8.1.7)\n",
      "Requirement already satisfied: blinker>=1.6.2 in c:\\python310\\lib\\site-packages (from Flask<3.1,>=1.0.4->dash) (1.8.2)\n",
      "Requirement already satisfied: MarkupSafe>=2.1.1 in c:\\python310\\lib\\site-packages (from Werkzeug<3.1->dash) (2.1.4)\n",
      "Requirement already satisfied: zipp>=0.5 in c:\\python310\\lib\\site-packages (from importlib-metadata->dash) (3.19.2)\n",
      "Requirement already satisfied: charset-normalizer<4,>=2 in c:\\python310\\lib\\site-packages (from requests->dash) (3.3.2)\n",
      "Requirement already satisfied: idna<4,>=2.5 in c:\\python310\\lib\\site-packages (from requests->dash) (3.6)\n",
      "Requirement already satisfied: urllib3<3,>=1.21.1 in c:\\python310\\lib\\site-packages (from requests->dash) (2.2.0)\n",
      "Requirement already satisfied: certifi>=2017.4.17 in c:\\python310\\lib\\site-packages (from requests->dash) (2023.11.17)\n",
      "Requirement already satisfied: six>=1.7.0 in c:\\python310\\lib\\site-packages (from retrying->dash) (1.16.0)\n",
      "Requirement already satisfied: colorama in c:\\python310\\lib\\site-packages (from click>=8.1.3->Flask<3.1,>=1.0.4->dash) (0.4.6)\n"
     ]
    },
    {
     "name": "stderr",
     "output_type": "stream",
     "text": [
      "WARNING: Ignoring invalid distribution -ip (c:\\python310\\lib\\site-packages)\n",
      "WARNING: Ignoring invalid distribution -umpy (c:\\python310\\lib\\site-packages)\n",
      "WARNING: Ignoring invalid distribution -ip (c:\\python310\\lib\\site-packages)\n",
      "WARNING: Ignoring invalid distribution -umpy (c:\\python310\\lib\\site-packages)\n"
     ]
    }
   ],
   "source": [
    "!pip install dash plotly"
   ]
  },
  {
   "cell_type": "code",
   "execution_count": 34,
   "id": "2757fa31-cdf7-4d6d-aaf3-aa7fcea0e8df",
   "metadata": {},
   "outputs": [
    {
     "data": {
      "text/html": [
       "        <script type=\"text/javascript\">\n",
       "        window.PlotlyConfig = {MathJaxConfig: 'local'};\n",
       "        if (window.MathJax && window.MathJax.Hub && window.MathJax.Hub.Config) {window.MathJax.Hub.Config({SVG: {font: \"STIX-Web\"}});}\n",
       "        if (typeof require !== 'undefined') {\n",
       "        require.undef(\"plotly\");\n",
       "        requirejs.config({\n",
       "            paths: {\n",
       "                'plotly': ['https://cdn.plot.ly/plotly-2.32.0.min']\n",
       "            }\n",
       "        });\n",
       "        require(['plotly'], function(Plotly) {\n",
       "            window._Plotly = Plotly;\n",
       "        });\n",
       "        }\n",
       "        </script>\n",
       "        "
      ]
     },
     "metadata": {},
     "output_type": "display_data"
    }
   ],
   "source": [
    "import plotly.offline as pyo\n",
    "pyo.init_notebook_mode(connected=True)"
   ]
  },
  {
   "cell_type": "code",
   "execution_count": 35,
   "id": "431ccbec-c621-4bc3-bcee-43aa31a39437",
   "metadata": {},
   "outputs": [],
   "source": [
    "def get_demography_df():\n",
    "    files = os.listdir(\"data/demography/\")\n",
    "    entries = []\n",
    "    for file in tqdm(files):\n",
    "        with open(f\"data/demography/{file}\",\"r\") as f:\n",
    "            entry = json.load(f)\n",
    "            entry[\"frame_id\"] = int(file.split(\"_\")[1])\n",
    "            entries.append(entry)\n",
    "    demography_df = pd.DataFrame(entries)\n",
    "    return demography_df"
   ]
  },
  {
   "cell_type": "code",
   "execution_count": 36,
   "id": "c4c0426c-d425-4d5e-8208-8237d86ea93a",
   "metadata": {},
   "outputs": [
    {
     "name": "stderr",
     "output_type": "stream",
     "text": [
      "100%|█████████████████████████████████████████████████████████████████████| 1127/1127 [00:02<00:00, 552.10it/s]\n"
     ]
    }
   ],
   "source": [
    "demo_df = get_demography_df()"
   ]
  },
  {
   "cell_type": "code",
   "execution_count": 37,
   "id": "dae2558f-f34a-49ba-ac27-e652ee5f31e2",
   "metadata": {},
   "outputs": [
    {
     "data": {
      "text/html": [
       "<div>\n",
       "<style scoped>\n",
       "    .dataframe tbody tr th:only-of-type {\n",
       "        vertical-align: middle;\n",
       "    }\n",
       "\n",
       "    .dataframe tbody tr th {\n",
       "        vertical-align: top;\n",
       "    }\n",
       "\n",
       "    .dataframe thead th {\n",
       "        text-align: right;\n",
       "    }\n",
       "</style>\n",
       "<table border=\"1\" class=\"dataframe\">\n",
       "  <thead>\n",
       "    <tr style=\"text-align: right;\">\n",
       "      <th></th>\n",
       "      <th>emotion</th>\n",
       "      <th>dominant_emotion</th>\n",
       "      <th>region</th>\n",
       "      <th>face_confidence</th>\n",
       "      <th>age</th>\n",
       "      <th>gender</th>\n",
       "      <th>dominant_gender</th>\n",
       "      <th>race</th>\n",
       "      <th>dominant_race</th>\n",
       "      <th>frame_id</th>\n",
       "    </tr>\n",
       "  </thead>\n",
       "  <tbody>\n",
       "    <tr>\n",
       "      <th>0</th>\n",
       "      <td>{'angry': 0.07739887564168878, 'disgust': 2.20...</td>\n",
       "      <td>sad</td>\n",
       "      <td>{'x': 191, 'y': 157, 'w': 168, 'h': 292, 'left...</td>\n",
       "      <td>1.00</td>\n",
       "      <td>31</td>\n",
       "      <td>{'Woman': 22.41971045732498, 'Man': 77.5802910...</td>\n",
       "      <td>Man</td>\n",
       "      <td>{'asian': 1.7354777289006387, 'indian': 1.1071...</td>\n",
       "      <td>white</td>\n",
       "      <td>10005</td>\n",
       "    </tr>\n",
       "    <tr>\n",
       "      <th>1</th>\n",
       "      <td>{'angry': 0.05867492408528019, 'disgust': 9.89...</td>\n",
       "      <td>sad</td>\n",
       "      <td>{'x': 196, 'y': 138, 'w': 163, 'h': 295, 'left...</td>\n",
       "      <td>1.00</td>\n",
       "      <td>30</td>\n",
       "      <td>{'Woman': 16.770778596401215, 'Man': 83.229219...</td>\n",
       "      <td>Man</td>\n",
       "      <td>{'asian': 4.841800034046173, 'indian': 3.40968...</td>\n",
       "      <td>white</td>\n",
       "      <td>10020</td>\n",
       "    </tr>\n",
       "    <tr>\n",
       "      <th>2</th>\n",
       "      <td>{'angry': 3.0267726747068555, 'disgust': 2.485...</td>\n",
       "      <td>neutral</td>\n",
       "      <td>{'x': 205, 'y': 115, 'w': 163, 'h': 276, 'left...</td>\n",
       "      <td>1.00</td>\n",
       "      <td>31</td>\n",
       "      <td>{'Woman': 13.677968084812164, 'Man': 86.322033...</td>\n",
       "      <td>Man</td>\n",
       "      <td>{'asian': 1.998317427933216, 'indian': 1.90386...</td>\n",
       "      <td>white</td>\n",
       "      <td>10035</td>\n",
       "    </tr>\n",
       "    <tr>\n",
       "      <th>3</th>\n",
       "      <td>{'angry': 1.7797511020489765e-06, 'disgust': 1...</td>\n",
       "      <td>neutral</td>\n",
       "      <td>{'x': 344, 'y': 80, 'w': 153, 'h': 288, 'left_...</td>\n",
       "      <td>0.98</td>\n",
       "      <td>33</td>\n",
       "      <td>{'Woman': 93.70995759963989, 'Man': 6.29003867...</td>\n",
       "      <td>Woman</td>\n",
       "      <td>{'asian': 0.13043524231761694, 'indian': 0.189...</td>\n",
       "      <td>white</td>\n",
       "      <td>10050</td>\n",
       "    </tr>\n",
       "    <tr>\n",
       "      <th>4</th>\n",
       "      <td>{'angry': 17.719951272010803, 'disgust': 7.726...</td>\n",
       "      <td>neutral</td>\n",
       "      <td>{'x': 349, 'y': 72, 'w': 153, 'h': 304, 'left_...</td>\n",
       "      <td>0.99</td>\n",
       "      <td>33</td>\n",
       "      <td>{'Woman': 95.17351388931274, 'Man': 4.82648648...</td>\n",
       "      <td>Woman</td>\n",
       "      <td>{'asian': 1.2738639488816261, 'indian': 2.4188...</td>\n",
       "      <td>white</td>\n",
       "      <td>10065</td>\n",
       "    </tr>\n",
       "  </tbody>\n",
       "</table>\n",
       "</div>"
      ],
      "text/plain": [
       "                                             emotion dominant_emotion  \\\n",
       "0  {'angry': 0.07739887564168878, 'disgust': 2.20...              sad   \n",
       "1  {'angry': 0.05867492408528019, 'disgust': 9.89...              sad   \n",
       "2  {'angry': 3.0267726747068555, 'disgust': 2.485...          neutral   \n",
       "3  {'angry': 1.7797511020489765e-06, 'disgust': 1...          neutral   \n",
       "4  {'angry': 17.719951272010803, 'disgust': 7.726...          neutral   \n",
       "\n",
       "                                              region  face_confidence  age  \\\n",
       "0  {'x': 191, 'y': 157, 'w': 168, 'h': 292, 'left...             1.00   31   \n",
       "1  {'x': 196, 'y': 138, 'w': 163, 'h': 295, 'left...             1.00   30   \n",
       "2  {'x': 205, 'y': 115, 'w': 163, 'h': 276, 'left...             1.00   31   \n",
       "3  {'x': 344, 'y': 80, 'w': 153, 'h': 288, 'left_...             0.98   33   \n",
       "4  {'x': 349, 'y': 72, 'w': 153, 'h': 304, 'left_...             0.99   33   \n",
       "\n",
       "                                              gender dominant_gender  \\\n",
       "0  {'Woman': 22.41971045732498, 'Man': 77.5802910...             Man   \n",
       "1  {'Woman': 16.770778596401215, 'Man': 83.229219...             Man   \n",
       "2  {'Woman': 13.677968084812164, 'Man': 86.322033...             Man   \n",
       "3  {'Woman': 93.70995759963989, 'Man': 6.29003867...           Woman   \n",
       "4  {'Woman': 95.17351388931274, 'Man': 4.82648648...           Woman   \n",
       "\n",
       "                                                race dominant_race  frame_id  \n",
       "0  {'asian': 1.7354777289006387, 'indian': 1.1071...         white     10005  \n",
       "1  {'asian': 4.841800034046173, 'indian': 3.40968...         white     10020  \n",
       "2  {'asian': 1.998317427933216, 'indian': 1.90386...         white     10035  \n",
       "3  {'asian': 0.13043524231761694, 'indian': 0.189...         white     10050  \n",
       "4  {'asian': 1.2738639488816261, 'indian': 2.4188...         white     10065  "
      ]
     },
     "execution_count": 37,
     "metadata": {},
     "output_type": "execute_result"
    }
   ],
   "source": [
    "demo_df.head()"
   ]
  },
  {
   "cell_type": "code",
   "execution_count": 38,
   "id": "4c1714fa-0073-455e-9b43-05c3f48e1aa9",
   "metadata": {},
   "outputs": [
    {
     "data": {
      "text/html": [
       "<div>\n",
       "<style scoped>\n",
       "    .dataframe tbody tr th:only-of-type {\n",
       "        vertical-align: middle;\n",
       "    }\n",
       "\n",
       "    .dataframe tbody tr th {\n",
       "        vertical-align: top;\n",
       "    }\n",
       "\n",
       "    .dataframe thead th {\n",
       "        text-align: right;\n",
       "    }\n",
       "</style>\n",
       "<table border=\"1\" class=\"dataframe\">\n",
       "  <thead>\n",
       "    <tr style=\"text-align: right;\">\n",
       "      <th></th>\n",
       "      <th>dominant_race</th>\n",
       "      <th>dominant_emotion</th>\n",
       "      <th>count</th>\n",
       "      <th>percentage</th>\n",
       "    </tr>\n",
       "  </thead>\n",
       "  <tbody>\n",
       "    <tr>\n",
       "      <th>0</th>\n",
       "      <td>asian</td>\n",
       "      <td>angry</td>\n",
       "      <td>4</td>\n",
       "      <td>0.354925</td>\n",
       "    </tr>\n",
       "    <tr>\n",
       "      <th>1</th>\n",
       "      <td>asian</td>\n",
       "      <td>fear</td>\n",
       "      <td>12</td>\n",
       "      <td>1.064774</td>\n",
       "    </tr>\n",
       "    <tr>\n",
       "      <th>2</th>\n",
       "      <td>asian</td>\n",
       "      <td>happy</td>\n",
       "      <td>7</td>\n",
       "      <td>0.621118</td>\n",
       "    </tr>\n",
       "    <tr>\n",
       "      <th>3</th>\n",
       "      <td>asian</td>\n",
       "      <td>neutral</td>\n",
       "      <td>9</td>\n",
       "      <td>0.798580</td>\n",
       "    </tr>\n",
       "    <tr>\n",
       "      <th>4</th>\n",
       "      <td>asian</td>\n",
       "      <td>sad</td>\n",
       "      <td>71</td>\n",
       "      <td>6.299911</td>\n",
       "    </tr>\n",
       "  </tbody>\n",
       "</table>\n",
       "</div>"
      ],
      "text/plain": [
       "  dominant_race dominant_emotion  count  percentage\n",
       "0         asian            angry      4    0.354925\n",
       "1         asian             fear     12    1.064774\n",
       "2         asian            happy      7    0.621118\n",
       "3         asian          neutral      9    0.798580\n",
       "4         asian              sad     71    6.299911"
      ]
     },
     "execution_count": 38,
     "metadata": {},
     "output_type": "execute_result"
    }
   ],
   "source": [
    "race_emotion_count = demo_df.groupby(['dominant_race', 'dominant_emotion']).size().reset_index(name='count')\n",
    "# Calculate the total count for normalization\n",
    "total_count = race_emotion_count['count'].sum()\n",
    "\n",
    "# Calculate percentages\n",
    "race_emotion_count['percentage'] = (race_emotion_count['count'] / total_count) * 100\n",
    "race_emotion_count.head()"
   ]
  },
  {
   "cell_type": "code",
   "execution_count": 39,
   "id": "bf8e911b-4176-4b08-8e1c-ef120dd5100e",
   "metadata": {},
   "outputs": [],
   "source": [
    "# Get unique lists of races and emotions\n",
    "unique_races = race_emotion_count['dominant_race'].unique().tolist()\n",
    "unique_emotions = race_emotion_count['dominant_emotion'].unique().tolist()\n",
    "\n",
    "# Create a mapping of race and emotion to index\n",
    "race_to_index = {race: i for i, race in enumerate(unique_races)}\n",
    "emotion_to_index = {emotion: i + len(unique_races) for i, emotion in enumerate(unique_emotions)}\n",
    "\n",
    "# Apply mapping to get sources and targets\n",
    "race_emotion_count['source'] = race_emotion_count['dominant_race'].map(race_to_index)\n",
    "race_emotion_count['target'] = race_emotion_count['dominant_emotion'].map(emotion_to_index)\n"
   ]
  },
  {
   "cell_type": "code",
   "execution_count": 40,
   "id": "9095113e-4c0c-41f7-a961-885e5e31d4bd",
   "metadata": {},
   "outputs": [
    {
     "data": {
      "application/vnd.plotly.v1+json": {
       "config": {
        "plotlyServerURL": "https://plot.ly"
       },
       "data": [
        {
         "link": {
          "source": [
           0,
           0,
           0,
           0,
           0,
           1,
           1,
           1,
           1,
           1,
           2,
           2,
           2,
           2,
           2,
           3,
           3,
           3,
           3,
           3,
           3,
           4,
           4,
           4,
           4,
           4,
           4
          ],
          "target": [
           5,
           6,
           7,
           8,
           9,
           5,
           6,
           7,
           8,
           9,
           5,
           6,
           7,
           8,
           9,
           5,
           6,
           7,
           8,
           9,
           10,
           5,
           6,
           7,
           8,
           9,
           10
          ],
          "value": [
           0.354924578527063,
           1.064773735581189,
           0.6211180124223602,
           0.7985803016858917,
           6.299911268855368,
           0.1774622892635315,
           0.6211180124223602,
           0.08873114463176575,
           0.1774622892635315,
           0.8873114463176575,
           0.08873114463176575,
           0.1774622892635315,
           0.08873114463176575,
           0.1774622892635315,
           0.7985803016858917,
           0.5323868677905945,
           0.8873114463176575,
           0.1774622892635315,
           0.709849157054126,
           1.3309671694764862,
           0.08873114463176575,
           7.808340727595386,
           14.463176574977817,
           5.590062111801243,
           12.688553682342501,
           42.41348713398403,
           0.8873114463176575
          ]
         },
         "node": {
          "color": "blue",
          "label": [
           "asian",
           "black",
           "latino hispanic",
           "middle eastern",
           "white",
           "angry",
           "fear",
           "happy",
           "neutral",
           "sad",
           "surprise"
          ],
          "line": {
           "color": "black",
           "width": 0.5
          },
          "pad": 15,
          "thickness": 20
         },
         "type": "sankey"
        }
       ],
       "layout": {
        "font": {
         "size": 10
        },
        "template": {
         "data": {
          "bar": [
           {
            "error_x": {
             "color": "#2a3f5f"
            },
            "error_y": {
             "color": "#2a3f5f"
            },
            "marker": {
             "line": {
              "color": "#E5ECF6",
              "width": 0.5
             },
             "pattern": {
              "fillmode": "overlay",
              "size": 10,
              "solidity": 0.2
             }
            },
            "type": "bar"
           }
          ],
          "barpolar": [
           {
            "marker": {
             "line": {
              "color": "#E5ECF6",
              "width": 0.5
             },
             "pattern": {
              "fillmode": "overlay",
              "size": 10,
              "solidity": 0.2
             }
            },
            "type": "barpolar"
           }
          ],
          "carpet": [
           {
            "aaxis": {
             "endlinecolor": "#2a3f5f",
             "gridcolor": "white",
             "linecolor": "white",
             "minorgridcolor": "white",
             "startlinecolor": "#2a3f5f"
            },
            "baxis": {
             "endlinecolor": "#2a3f5f",
             "gridcolor": "white",
             "linecolor": "white",
             "minorgridcolor": "white",
             "startlinecolor": "#2a3f5f"
            },
            "type": "carpet"
           }
          ],
          "choropleth": [
           {
            "colorbar": {
             "outlinewidth": 0,
             "ticks": ""
            },
            "type": "choropleth"
           }
          ],
          "contour": [
           {
            "colorbar": {
             "outlinewidth": 0,
             "ticks": ""
            },
            "colorscale": [
             [
              0,
              "#0d0887"
             ],
             [
              0.1111111111111111,
              "#46039f"
             ],
             [
              0.2222222222222222,
              "#7201a8"
             ],
             [
              0.3333333333333333,
              "#9c179e"
             ],
             [
              0.4444444444444444,
              "#bd3786"
             ],
             [
              0.5555555555555556,
              "#d8576b"
             ],
             [
              0.6666666666666666,
              "#ed7953"
             ],
             [
              0.7777777777777778,
              "#fb9f3a"
             ],
             [
              0.8888888888888888,
              "#fdca26"
             ],
             [
              1,
              "#f0f921"
             ]
            ],
            "type": "contour"
           }
          ],
          "contourcarpet": [
           {
            "colorbar": {
             "outlinewidth": 0,
             "ticks": ""
            },
            "type": "contourcarpet"
           }
          ],
          "heatmap": [
           {
            "colorbar": {
             "outlinewidth": 0,
             "ticks": ""
            },
            "colorscale": [
             [
              0,
              "#0d0887"
             ],
             [
              0.1111111111111111,
              "#46039f"
             ],
             [
              0.2222222222222222,
              "#7201a8"
             ],
             [
              0.3333333333333333,
              "#9c179e"
             ],
             [
              0.4444444444444444,
              "#bd3786"
             ],
             [
              0.5555555555555556,
              "#d8576b"
             ],
             [
              0.6666666666666666,
              "#ed7953"
             ],
             [
              0.7777777777777778,
              "#fb9f3a"
             ],
             [
              0.8888888888888888,
              "#fdca26"
             ],
             [
              1,
              "#f0f921"
             ]
            ],
            "type": "heatmap"
           }
          ],
          "heatmapgl": [
           {
            "colorbar": {
             "outlinewidth": 0,
             "ticks": ""
            },
            "colorscale": [
             [
              0,
              "#0d0887"
             ],
             [
              0.1111111111111111,
              "#46039f"
             ],
             [
              0.2222222222222222,
              "#7201a8"
             ],
             [
              0.3333333333333333,
              "#9c179e"
             ],
             [
              0.4444444444444444,
              "#bd3786"
             ],
             [
              0.5555555555555556,
              "#d8576b"
             ],
             [
              0.6666666666666666,
              "#ed7953"
             ],
             [
              0.7777777777777778,
              "#fb9f3a"
             ],
             [
              0.8888888888888888,
              "#fdca26"
             ],
             [
              1,
              "#f0f921"
             ]
            ],
            "type": "heatmapgl"
           }
          ],
          "histogram": [
           {
            "marker": {
             "pattern": {
              "fillmode": "overlay",
              "size": 10,
              "solidity": 0.2
             }
            },
            "type": "histogram"
           }
          ],
          "histogram2d": [
           {
            "colorbar": {
             "outlinewidth": 0,
             "ticks": ""
            },
            "colorscale": [
             [
              0,
              "#0d0887"
             ],
             [
              0.1111111111111111,
              "#46039f"
             ],
             [
              0.2222222222222222,
              "#7201a8"
             ],
             [
              0.3333333333333333,
              "#9c179e"
             ],
             [
              0.4444444444444444,
              "#bd3786"
             ],
             [
              0.5555555555555556,
              "#d8576b"
             ],
             [
              0.6666666666666666,
              "#ed7953"
             ],
             [
              0.7777777777777778,
              "#fb9f3a"
             ],
             [
              0.8888888888888888,
              "#fdca26"
             ],
             [
              1,
              "#f0f921"
             ]
            ],
            "type": "histogram2d"
           }
          ],
          "histogram2dcontour": [
           {
            "colorbar": {
             "outlinewidth": 0,
             "ticks": ""
            },
            "colorscale": [
             [
              0,
              "#0d0887"
             ],
             [
              0.1111111111111111,
              "#46039f"
             ],
             [
              0.2222222222222222,
              "#7201a8"
             ],
             [
              0.3333333333333333,
              "#9c179e"
             ],
             [
              0.4444444444444444,
              "#bd3786"
             ],
             [
              0.5555555555555556,
              "#d8576b"
             ],
             [
              0.6666666666666666,
              "#ed7953"
             ],
             [
              0.7777777777777778,
              "#fb9f3a"
             ],
             [
              0.8888888888888888,
              "#fdca26"
             ],
             [
              1,
              "#f0f921"
             ]
            ],
            "type": "histogram2dcontour"
           }
          ],
          "mesh3d": [
           {
            "colorbar": {
             "outlinewidth": 0,
             "ticks": ""
            },
            "type": "mesh3d"
           }
          ],
          "parcoords": [
           {
            "line": {
             "colorbar": {
              "outlinewidth": 0,
              "ticks": ""
             }
            },
            "type": "parcoords"
           }
          ],
          "pie": [
           {
            "automargin": true,
            "type": "pie"
           }
          ],
          "scatter": [
           {
            "fillpattern": {
             "fillmode": "overlay",
             "size": 10,
             "solidity": 0.2
            },
            "type": "scatter"
           }
          ],
          "scatter3d": [
           {
            "line": {
             "colorbar": {
              "outlinewidth": 0,
              "ticks": ""
             }
            },
            "marker": {
             "colorbar": {
              "outlinewidth": 0,
              "ticks": ""
             }
            },
            "type": "scatter3d"
           }
          ],
          "scattercarpet": [
           {
            "marker": {
             "colorbar": {
              "outlinewidth": 0,
              "ticks": ""
             }
            },
            "type": "scattercarpet"
           }
          ],
          "scattergeo": [
           {
            "marker": {
             "colorbar": {
              "outlinewidth": 0,
              "ticks": ""
             }
            },
            "type": "scattergeo"
           }
          ],
          "scattergl": [
           {
            "marker": {
             "colorbar": {
              "outlinewidth": 0,
              "ticks": ""
             }
            },
            "type": "scattergl"
           }
          ],
          "scattermapbox": [
           {
            "marker": {
             "colorbar": {
              "outlinewidth": 0,
              "ticks": ""
             }
            },
            "type": "scattermapbox"
           }
          ],
          "scatterpolar": [
           {
            "marker": {
             "colorbar": {
              "outlinewidth": 0,
              "ticks": ""
             }
            },
            "type": "scatterpolar"
           }
          ],
          "scatterpolargl": [
           {
            "marker": {
             "colorbar": {
              "outlinewidth": 0,
              "ticks": ""
             }
            },
            "type": "scatterpolargl"
           }
          ],
          "scatterternary": [
           {
            "marker": {
             "colorbar": {
              "outlinewidth": 0,
              "ticks": ""
             }
            },
            "type": "scatterternary"
           }
          ],
          "surface": [
           {
            "colorbar": {
             "outlinewidth": 0,
             "ticks": ""
            },
            "colorscale": [
             [
              0,
              "#0d0887"
             ],
             [
              0.1111111111111111,
              "#46039f"
             ],
             [
              0.2222222222222222,
              "#7201a8"
             ],
             [
              0.3333333333333333,
              "#9c179e"
             ],
             [
              0.4444444444444444,
              "#bd3786"
             ],
             [
              0.5555555555555556,
              "#d8576b"
             ],
             [
              0.6666666666666666,
              "#ed7953"
             ],
             [
              0.7777777777777778,
              "#fb9f3a"
             ],
             [
              0.8888888888888888,
              "#fdca26"
             ],
             [
              1,
              "#f0f921"
             ]
            ],
            "type": "surface"
           }
          ],
          "table": [
           {
            "cells": {
             "fill": {
              "color": "#EBF0F8"
             },
             "line": {
              "color": "white"
             }
            },
            "header": {
             "fill": {
              "color": "#C8D4E3"
             },
             "line": {
              "color": "white"
             }
            },
            "type": "table"
           }
          ]
         },
         "layout": {
          "annotationdefaults": {
           "arrowcolor": "#2a3f5f",
           "arrowhead": 0,
           "arrowwidth": 1
          },
          "autotypenumbers": "strict",
          "coloraxis": {
           "colorbar": {
            "outlinewidth": 0,
            "ticks": ""
           }
          },
          "colorscale": {
           "diverging": [
            [
             0,
             "#8e0152"
            ],
            [
             0.1,
             "#c51b7d"
            ],
            [
             0.2,
             "#de77ae"
            ],
            [
             0.3,
             "#f1b6da"
            ],
            [
             0.4,
             "#fde0ef"
            ],
            [
             0.5,
             "#f7f7f7"
            ],
            [
             0.6,
             "#e6f5d0"
            ],
            [
             0.7,
             "#b8e186"
            ],
            [
             0.8,
             "#7fbc41"
            ],
            [
             0.9,
             "#4d9221"
            ],
            [
             1,
             "#276419"
            ]
           ],
           "sequential": [
            [
             0,
             "#0d0887"
            ],
            [
             0.1111111111111111,
             "#46039f"
            ],
            [
             0.2222222222222222,
             "#7201a8"
            ],
            [
             0.3333333333333333,
             "#9c179e"
            ],
            [
             0.4444444444444444,
             "#bd3786"
            ],
            [
             0.5555555555555556,
             "#d8576b"
            ],
            [
             0.6666666666666666,
             "#ed7953"
            ],
            [
             0.7777777777777778,
             "#fb9f3a"
            ],
            [
             0.8888888888888888,
             "#fdca26"
            ],
            [
             1,
             "#f0f921"
            ]
           ],
           "sequentialminus": [
            [
             0,
             "#0d0887"
            ],
            [
             0.1111111111111111,
             "#46039f"
            ],
            [
             0.2222222222222222,
             "#7201a8"
            ],
            [
             0.3333333333333333,
             "#9c179e"
            ],
            [
             0.4444444444444444,
             "#bd3786"
            ],
            [
             0.5555555555555556,
             "#d8576b"
            ],
            [
             0.6666666666666666,
             "#ed7953"
            ],
            [
             0.7777777777777778,
             "#fb9f3a"
            ],
            [
             0.8888888888888888,
             "#fdca26"
            ],
            [
             1,
             "#f0f921"
            ]
           ]
          },
          "colorway": [
           "#636efa",
           "#EF553B",
           "#00cc96",
           "#ab63fa",
           "#FFA15A",
           "#19d3f3",
           "#FF6692",
           "#B6E880",
           "#FF97FF",
           "#FECB52"
          ],
          "font": {
           "color": "#2a3f5f"
          },
          "geo": {
           "bgcolor": "white",
           "lakecolor": "white",
           "landcolor": "#E5ECF6",
           "showlakes": true,
           "showland": true,
           "subunitcolor": "white"
          },
          "hoverlabel": {
           "align": "left"
          },
          "hovermode": "closest",
          "mapbox": {
           "style": "light"
          },
          "paper_bgcolor": "white",
          "plot_bgcolor": "#E5ECF6",
          "polar": {
           "angularaxis": {
            "gridcolor": "white",
            "linecolor": "white",
            "ticks": ""
           },
           "bgcolor": "#E5ECF6",
           "radialaxis": {
            "gridcolor": "white",
            "linecolor": "white",
            "ticks": ""
           }
          },
          "scene": {
           "xaxis": {
            "backgroundcolor": "#E5ECF6",
            "gridcolor": "white",
            "gridwidth": 2,
            "linecolor": "white",
            "showbackground": true,
            "ticks": "",
            "zerolinecolor": "white"
           },
           "yaxis": {
            "backgroundcolor": "#E5ECF6",
            "gridcolor": "white",
            "gridwidth": 2,
            "linecolor": "white",
            "showbackground": true,
            "ticks": "",
            "zerolinecolor": "white"
           },
           "zaxis": {
            "backgroundcolor": "#E5ECF6",
            "gridcolor": "white",
            "gridwidth": 2,
            "linecolor": "white",
            "showbackground": true,
            "ticks": "",
            "zerolinecolor": "white"
           }
          },
          "shapedefaults": {
           "line": {
            "color": "#2a3f5f"
           }
          },
          "ternary": {
           "aaxis": {
            "gridcolor": "white",
            "linecolor": "white",
            "ticks": ""
           },
           "baxis": {
            "gridcolor": "white",
            "linecolor": "white",
            "ticks": ""
           },
           "bgcolor": "#E5ECF6",
           "caxis": {
            "gridcolor": "white",
            "linecolor": "white",
            "ticks": ""
           }
          },
          "title": {
           "x": 0.05
          },
          "xaxis": {
           "automargin": true,
           "gridcolor": "white",
           "linecolor": "white",
           "ticks": "",
           "title": {
            "standoff": 15
           },
           "zerolinecolor": "white",
           "zerolinewidth": 2
          },
          "yaxis": {
           "automargin": true,
           "gridcolor": "white",
           "linecolor": "white",
           "ticks": "",
           "title": {
            "standoff": 15
           },
           "zerolinecolor": "white",
           "zerolinewidth": 2
          }
         }
        },
        "title": {
         "text": "Sankey Diagram: Race and Emotion Flow in Movie"
        }
       }
      },
      "text/html": [
       "<div>                            <div id=\"9a3eee7b-cb46-4335-b169-4d34f7e84649\" class=\"plotly-graph-div\" style=\"height:525px; width:100%;\"></div>            <script type=\"text/javascript\">                require([\"plotly\"], function(Plotly) {                    window.PLOTLYENV=window.PLOTLYENV || {};                                    if (document.getElementById(\"9a3eee7b-cb46-4335-b169-4d34f7e84649\")) {                    Plotly.newPlot(                        \"9a3eee7b-cb46-4335-b169-4d34f7e84649\",                        [{\"link\":{\"source\":[0,0,0,0,0,1,1,1,1,1,2,2,2,2,2,3,3,3,3,3,3,4,4,4,4,4,4],\"target\":[5,6,7,8,9,5,6,7,8,9,5,6,7,8,9,5,6,7,8,9,10,5,6,7,8,9,10],\"value\":[0.354924578527063,1.064773735581189,0.6211180124223602,0.7985803016858917,6.299911268855368,0.1774622892635315,0.6211180124223602,0.08873114463176575,0.1774622892635315,0.8873114463176575,0.08873114463176575,0.1774622892635315,0.08873114463176575,0.1774622892635315,0.7985803016858917,0.5323868677905945,0.8873114463176575,0.1774622892635315,0.709849157054126,1.3309671694764862,0.08873114463176575,7.808340727595386,14.463176574977817,5.590062111801243,12.688553682342501,42.41348713398403,0.8873114463176575]},\"node\":{\"color\":\"blue\",\"label\":[\"asian\",\"black\",\"latino hispanic\",\"middle eastern\",\"white\",\"angry\",\"fear\",\"happy\",\"neutral\",\"sad\",\"surprise\"],\"line\":{\"color\":\"black\",\"width\":0.5},\"pad\":15,\"thickness\":20},\"type\":\"sankey\"}],                        {\"template\":{\"data\":{\"histogram2dcontour\":[{\"type\":\"histogram2dcontour\",\"colorbar\":{\"outlinewidth\":0,\"ticks\":\"\"},\"colorscale\":[[0.0,\"#0d0887\"],[0.1111111111111111,\"#46039f\"],[0.2222222222222222,\"#7201a8\"],[0.3333333333333333,\"#9c179e\"],[0.4444444444444444,\"#bd3786\"],[0.5555555555555556,\"#d8576b\"],[0.6666666666666666,\"#ed7953\"],[0.7777777777777778,\"#fb9f3a\"],[0.8888888888888888,\"#fdca26\"],[1.0,\"#f0f921\"]]}],\"choropleth\":[{\"type\":\"choropleth\",\"colorbar\":{\"outlinewidth\":0,\"ticks\":\"\"}}],\"histogram2d\":[{\"type\":\"histogram2d\",\"colorbar\":{\"outlinewidth\":0,\"ticks\":\"\"},\"colorscale\":[[0.0,\"#0d0887\"],[0.1111111111111111,\"#46039f\"],[0.2222222222222222,\"#7201a8\"],[0.3333333333333333,\"#9c179e\"],[0.4444444444444444,\"#bd3786\"],[0.5555555555555556,\"#d8576b\"],[0.6666666666666666,\"#ed7953\"],[0.7777777777777778,\"#fb9f3a\"],[0.8888888888888888,\"#fdca26\"],[1.0,\"#f0f921\"]]}],\"heatmap\":[{\"type\":\"heatmap\",\"colorbar\":{\"outlinewidth\":0,\"ticks\":\"\"},\"colorscale\":[[0.0,\"#0d0887\"],[0.1111111111111111,\"#46039f\"],[0.2222222222222222,\"#7201a8\"],[0.3333333333333333,\"#9c179e\"],[0.4444444444444444,\"#bd3786\"],[0.5555555555555556,\"#d8576b\"],[0.6666666666666666,\"#ed7953\"],[0.7777777777777778,\"#fb9f3a\"],[0.8888888888888888,\"#fdca26\"],[1.0,\"#f0f921\"]]}],\"heatmapgl\":[{\"type\":\"heatmapgl\",\"colorbar\":{\"outlinewidth\":0,\"ticks\":\"\"},\"colorscale\":[[0.0,\"#0d0887\"],[0.1111111111111111,\"#46039f\"],[0.2222222222222222,\"#7201a8\"],[0.3333333333333333,\"#9c179e\"],[0.4444444444444444,\"#bd3786\"],[0.5555555555555556,\"#d8576b\"],[0.6666666666666666,\"#ed7953\"],[0.7777777777777778,\"#fb9f3a\"],[0.8888888888888888,\"#fdca26\"],[1.0,\"#f0f921\"]]}],\"contourcarpet\":[{\"type\":\"contourcarpet\",\"colorbar\":{\"outlinewidth\":0,\"ticks\":\"\"}}],\"contour\":[{\"type\":\"contour\",\"colorbar\":{\"outlinewidth\":0,\"ticks\":\"\"},\"colorscale\":[[0.0,\"#0d0887\"],[0.1111111111111111,\"#46039f\"],[0.2222222222222222,\"#7201a8\"],[0.3333333333333333,\"#9c179e\"],[0.4444444444444444,\"#bd3786\"],[0.5555555555555556,\"#d8576b\"],[0.6666666666666666,\"#ed7953\"],[0.7777777777777778,\"#fb9f3a\"],[0.8888888888888888,\"#fdca26\"],[1.0,\"#f0f921\"]]}],\"surface\":[{\"type\":\"surface\",\"colorbar\":{\"outlinewidth\":0,\"ticks\":\"\"},\"colorscale\":[[0.0,\"#0d0887\"],[0.1111111111111111,\"#46039f\"],[0.2222222222222222,\"#7201a8\"],[0.3333333333333333,\"#9c179e\"],[0.4444444444444444,\"#bd3786\"],[0.5555555555555556,\"#d8576b\"],[0.6666666666666666,\"#ed7953\"],[0.7777777777777778,\"#fb9f3a\"],[0.8888888888888888,\"#fdca26\"],[1.0,\"#f0f921\"]]}],\"mesh3d\":[{\"type\":\"mesh3d\",\"colorbar\":{\"outlinewidth\":0,\"ticks\":\"\"}}],\"scatter\":[{\"fillpattern\":{\"fillmode\":\"overlay\",\"size\":10,\"solidity\":0.2},\"type\":\"scatter\"}],\"parcoords\":[{\"type\":\"parcoords\",\"line\":{\"colorbar\":{\"outlinewidth\":0,\"ticks\":\"\"}}}],\"scatterpolargl\":[{\"type\":\"scatterpolargl\",\"marker\":{\"colorbar\":{\"outlinewidth\":0,\"ticks\":\"\"}}}],\"bar\":[{\"error_x\":{\"color\":\"#2a3f5f\"},\"error_y\":{\"color\":\"#2a3f5f\"},\"marker\":{\"line\":{\"color\":\"#E5ECF6\",\"width\":0.5},\"pattern\":{\"fillmode\":\"overlay\",\"size\":10,\"solidity\":0.2}},\"type\":\"bar\"}],\"scattergeo\":[{\"type\":\"scattergeo\",\"marker\":{\"colorbar\":{\"outlinewidth\":0,\"ticks\":\"\"}}}],\"scatterpolar\":[{\"type\":\"scatterpolar\",\"marker\":{\"colorbar\":{\"outlinewidth\":0,\"ticks\":\"\"}}}],\"histogram\":[{\"marker\":{\"pattern\":{\"fillmode\":\"overlay\",\"size\":10,\"solidity\":0.2}},\"type\":\"histogram\"}],\"scattergl\":[{\"type\":\"scattergl\",\"marker\":{\"colorbar\":{\"outlinewidth\":0,\"ticks\":\"\"}}}],\"scatter3d\":[{\"type\":\"scatter3d\",\"line\":{\"colorbar\":{\"outlinewidth\":0,\"ticks\":\"\"}},\"marker\":{\"colorbar\":{\"outlinewidth\":0,\"ticks\":\"\"}}}],\"scattermapbox\":[{\"type\":\"scattermapbox\",\"marker\":{\"colorbar\":{\"outlinewidth\":0,\"ticks\":\"\"}}}],\"scatterternary\":[{\"type\":\"scatterternary\",\"marker\":{\"colorbar\":{\"outlinewidth\":0,\"ticks\":\"\"}}}],\"scattercarpet\":[{\"type\":\"scattercarpet\",\"marker\":{\"colorbar\":{\"outlinewidth\":0,\"ticks\":\"\"}}}],\"carpet\":[{\"aaxis\":{\"endlinecolor\":\"#2a3f5f\",\"gridcolor\":\"white\",\"linecolor\":\"white\",\"minorgridcolor\":\"white\",\"startlinecolor\":\"#2a3f5f\"},\"baxis\":{\"endlinecolor\":\"#2a3f5f\",\"gridcolor\":\"white\",\"linecolor\":\"white\",\"minorgridcolor\":\"white\",\"startlinecolor\":\"#2a3f5f\"},\"type\":\"carpet\"}],\"table\":[{\"cells\":{\"fill\":{\"color\":\"#EBF0F8\"},\"line\":{\"color\":\"white\"}},\"header\":{\"fill\":{\"color\":\"#C8D4E3\"},\"line\":{\"color\":\"white\"}},\"type\":\"table\"}],\"barpolar\":[{\"marker\":{\"line\":{\"color\":\"#E5ECF6\",\"width\":0.5},\"pattern\":{\"fillmode\":\"overlay\",\"size\":10,\"solidity\":0.2}},\"type\":\"barpolar\"}],\"pie\":[{\"automargin\":true,\"type\":\"pie\"}]},\"layout\":{\"autotypenumbers\":\"strict\",\"colorway\":[\"#636efa\",\"#EF553B\",\"#00cc96\",\"#ab63fa\",\"#FFA15A\",\"#19d3f3\",\"#FF6692\",\"#B6E880\",\"#FF97FF\",\"#FECB52\"],\"font\":{\"color\":\"#2a3f5f\"},\"hovermode\":\"closest\",\"hoverlabel\":{\"align\":\"left\"},\"paper_bgcolor\":\"white\",\"plot_bgcolor\":\"#E5ECF6\",\"polar\":{\"bgcolor\":\"#E5ECF6\",\"angularaxis\":{\"gridcolor\":\"white\",\"linecolor\":\"white\",\"ticks\":\"\"},\"radialaxis\":{\"gridcolor\":\"white\",\"linecolor\":\"white\",\"ticks\":\"\"}},\"ternary\":{\"bgcolor\":\"#E5ECF6\",\"aaxis\":{\"gridcolor\":\"white\",\"linecolor\":\"white\",\"ticks\":\"\"},\"baxis\":{\"gridcolor\":\"white\",\"linecolor\":\"white\",\"ticks\":\"\"},\"caxis\":{\"gridcolor\":\"white\",\"linecolor\":\"white\",\"ticks\":\"\"}},\"coloraxis\":{\"colorbar\":{\"outlinewidth\":0,\"ticks\":\"\"}},\"colorscale\":{\"sequential\":[[0.0,\"#0d0887\"],[0.1111111111111111,\"#46039f\"],[0.2222222222222222,\"#7201a8\"],[0.3333333333333333,\"#9c179e\"],[0.4444444444444444,\"#bd3786\"],[0.5555555555555556,\"#d8576b\"],[0.6666666666666666,\"#ed7953\"],[0.7777777777777778,\"#fb9f3a\"],[0.8888888888888888,\"#fdca26\"],[1.0,\"#f0f921\"]],\"sequentialminus\":[[0.0,\"#0d0887\"],[0.1111111111111111,\"#46039f\"],[0.2222222222222222,\"#7201a8\"],[0.3333333333333333,\"#9c179e\"],[0.4444444444444444,\"#bd3786\"],[0.5555555555555556,\"#d8576b\"],[0.6666666666666666,\"#ed7953\"],[0.7777777777777778,\"#fb9f3a\"],[0.8888888888888888,\"#fdca26\"],[1.0,\"#f0f921\"]],\"diverging\":[[0,\"#8e0152\"],[0.1,\"#c51b7d\"],[0.2,\"#de77ae\"],[0.3,\"#f1b6da\"],[0.4,\"#fde0ef\"],[0.5,\"#f7f7f7\"],[0.6,\"#e6f5d0\"],[0.7,\"#b8e186\"],[0.8,\"#7fbc41\"],[0.9,\"#4d9221\"],[1,\"#276419\"]]},\"xaxis\":{\"gridcolor\":\"white\",\"linecolor\":\"white\",\"ticks\":\"\",\"title\":{\"standoff\":15},\"zerolinecolor\":\"white\",\"automargin\":true,\"zerolinewidth\":2},\"yaxis\":{\"gridcolor\":\"white\",\"linecolor\":\"white\",\"ticks\":\"\",\"title\":{\"standoff\":15},\"zerolinecolor\":\"white\",\"automargin\":true,\"zerolinewidth\":2},\"scene\":{\"xaxis\":{\"backgroundcolor\":\"#E5ECF6\",\"gridcolor\":\"white\",\"linecolor\":\"white\",\"showbackground\":true,\"ticks\":\"\",\"zerolinecolor\":\"white\",\"gridwidth\":2},\"yaxis\":{\"backgroundcolor\":\"#E5ECF6\",\"gridcolor\":\"white\",\"linecolor\":\"white\",\"showbackground\":true,\"ticks\":\"\",\"zerolinecolor\":\"white\",\"gridwidth\":2},\"zaxis\":{\"backgroundcolor\":\"#E5ECF6\",\"gridcolor\":\"white\",\"linecolor\":\"white\",\"showbackground\":true,\"ticks\":\"\",\"zerolinecolor\":\"white\",\"gridwidth\":2}},\"shapedefaults\":{\"line\":{\"color\":\"#2a3f5f\"}},\"annotationdefaults\":{\"arrowcolor\":\"#2a3f5f\",\"arrowhead\":0,\"arrowwidth\":1},\"geo\":{\"bgcolor\":\"white\",\"landcolor\":\"#E5ECF6\",\"subunitcolor\":\"white\",\"showland\":true,\"showlakes\":true,\"lakecolor\":\"white\"},\"title\":{\"x\":0.05},\"mapbox\":{\"style\":\"light\"}}},\"title\":{\"text\":\"Sankey Diagram: Race and Emotion Flow in Movie\"},\"font\":{\"size\":10}},                        {\"responsive\": true}                    ).then(function(){\n",
       "                            \n",
       "var gd = document.getElementById('9a3eee7b-cb46-4335-b169-4d34f7e84649');\n",
       "var x = new MutationObserver(function (mutations, observer) {{\n",
       "        var display = window.getComputedStyle(gd).display;\n",
       "        if (!display || display === 'none') {{\n",
       "            console.log([gd, 'removed!']);\n",
       "            Plotly.purge(gd);\n",
       "            observer.disconnect();\n",
       "        }}\n",
       "}});\n",
       "\n",
       "// Listen for the removal of the full notebook cells\n",
       "var notebookContainer = gd.closest('#notebook-container');\n",
       "if (notebookContainer) {{\n",
       "    x.observe(notebookContainer, {childList: true});\n",
       "}}\n",
       "\n",
       "// Listen for the clearing of the current output cell\n",
       "var outputEl = gd.closest('.output');\n",
       "if (outputEl) {{\n",
       "    x.observe(outputEl, {childList: true});\n",
       "}}\n",
       "\n",
       "                        })                };                });            </script>        </div>"
      ]
     },
     "metadata": {},
     "output_type": "display_data"
    }
   ],
   "source": [
    "# Create the Sankey diagram\n",
    "fig = go.Figure(data=[go.Sankey(\n",
    "    node=dict(\n",
    "      pad=15,\n",
    "      thickness=20,\n",
    "      line=dict(color=\"black\", width=0.5),\n",
    "      label=unique_races + unique_emotions,\n",
    "      color=\"blue\"\n",
    "    ),\n",
    "    link=dict(\n",
    "      source=race_emotion_count['source'].tolist(),\n",
    "      target=race_emotion_count['target'].tolist(),\n",
    "      value=race_emotion_count['percentage'].tolist()\n",
    "    ))])\n",
    "\n",
    "fig.update_layout(title_text=\"Sankey Diagram: Race and Emotion Flow in Movie\", font_size=10)\n",
    "fig.show()"
   ]
  },
  {
   "cell_type": "code",
   "execution_count": 41,
   "id": "63f9a56a-30a8-4f0c-911e-5936ea2b9afd",
   "metadata": {},
   "outputs": [],
   "source": [
    "from dash import Dash, dcc, html\n",
    "# import dash_mantine_components as dmc\n",
    "from dash.dependencies import Input, Output"
   ]
  },
  {
   "cell_type": "code",
   "execution_count": 42,
   "id": "6ef8b21c-8920-4ca1-992f-d15a9c175a05",
   "metadata": {},
   "outputs": [],
   "source": [
    "app = Dash()"
   ]
  },
  {
   "cell_type": "code",
   "execution_count": 43,
   "id": "920e4ce5-90a2-44ed-8555-91bf76bce037",
   "metadata": {},
   "outputs": [],
   "source": [
    "def get_filtered_df(selected_range):\n",
    "    # Compute min and max frame_id\n",
    "    min_frame_id = demo_df['frame_id'].min()\n",
    "    max_frame_id = demo_df['frame_id'].max()\n",
    "    range_frame_id = max_frame_id - min_frame_id\n",
    "    \n",
    "    # Convert percentage slider values to frame_id range\n",
    "    start_id = min_frame_id + (selected_range[0] / 100.0) * range_frame_id\n",
    "    end_id = min_frame_id + (selected_range[1] / 100.0) * range_frame_id\n",
    "    \n",
    "    # Filter the DataFrame based on the calculated frame_id range\n",
    "    filtered_df = demo_df[(demo_df['frame_id'] >= start_id) & (demo_df['frame_id'] <= end_id)]\n",
    "    return filtered_df"
   ]
  },
  {
   "cell_type": "code",
   "execution_count": 44,
   "id": "9edafb4d-9d5b-451b-8772-215e92593fc2",
   "metadata": {},
   "outputs": [],
   "source": [
    "# Callback to update the sankey diagram based on the slider\n",
    "@app.callback(\n",
    "    Output('sankey-emotion-race-graph', 'figure'),\n",
    "    Input('frame-slider', 'value'),\n",
    "    Input('race-emotion-radio-btn', 'value'))\n",
    "def update_emotion_race_sankey_graph_slider(selected_range, col_radio):\n",
    "    filtered_df = get_filtered_df(selected_range)\n",
    "    \n",
    "    race_emotion_count = demo_df.groupby(['dominant_race', 'dominant_emotion']).size().reset_index(name='count')\n",
    "    # Calculate the total count for normalization\n",
    "    total_count = race_emotion_count['count'].sum()\n",
    "    \n",
    "    # Calculate percentages\n",
    "    race_emotion_count['percentage'] = (race_emotion_count['count'] / total_count) * 100\n",
    "\n",
    "    # Get unique lists of races and emotions\n",
    "    unique_races = race_emotion_count['dominant_race'].unique().tolist()\n",
    "    unique_emotions = race_emotion_count['dominant_emotion'].unique().tolist()\n",
    "    \n",
    "    # Create a mapping of race and emotion to index\n",
    "    race_to_index = {race: i for i, race in enumerate(unique_races)}\n",
    "    emotion_to_index = {emotion: i + len(unique_races) for i, emotion in enumerate(unique_emotions)}\n",
    "    \n",
    "    # Apply mapping to get sources and targets\n",
    "    race_col = \"source\" if col_radio == \"dominant_race\" else \"target\"\n",
    "    emotion_col = \"target\" if col_radio == \"dominant_race\" else \"source\"\n",
    "    race_emotion_count[race_col] = race_emotion_count['dominant_race'].map(race_to_index)\n",
    "    race_emotion_count[emotion_col] = race_emotion_count['dominant_emotion'].map(emotion_to_index)\n",
    "    # Create the Sankey diagram\n",
    "    fig = go.Figure(data=[go.Sankey(\n",
    "        node=dict(\n",
    "          pad=15,\n",
    "          thickness=20,\n",
    "          line=dict(color=\"black\", width=0.5),\n",
    "          label=unique_races + unique_emotions,\n",
    "          color=\"blue\"\n",
    "        ),\n",
    "        link=dict(\n",
    "          source=race_emotion_count['source'].tolist(),\n",
    "          target=race_emotion_count['target'].tolist(),\n",
    "          value=race_emotion_count['percentage'].tolist()\n",
    "        ))])\n",
    "    \n",
    "    fig.update_layout(title_text=\"Sankey Diagram: Race and Emotion Flow in Movie\", font_size=10)\n",
    "    return fig\n"
   ]
  },
  {
   "cell_type": "code",
   "execution_count": 45,
   "id": "59e47e50-fae5-44d9-a7fa-2f1c65126ca5",
   "metadata": {},
   "outputs": [],
   "source": [
    "# Callback to update the gender race bar graph based on the slider\n",
    "@app.callback(\n",
    "    Output('gender-emotion-race-bar-graph', 'figure'),\n",
    "    Input('race-emotion-radio-btn', 'value'),\n",
    "    Input('frame-slider', 'value'))\n",
    "def update_gender_emotion_race_graph_slider(col_radio, selected_range):\n",
    "    filtered_df = get_filtered_df(selected_range)\n",
    "    gender_df = filtered_df.groupby([col_radio,\"dominant_gender\"]).size().unstack(fill_value=0)\n",
    "    grouped_percent = gender_df.div(gender_df.sum(axis=1), axis=0) * 100\n",
    "    title_val = \"Race\" if col_radio==\"dominant_race\" else \"Emotion\"\n",
    "    # Plotting the stacked bar chart\n",
    "    fig = go.Figure()\n",
    "    \n",
    "    # Add one trace for each gender\n",
    "    for gender in grouped_percent.columns:\n",
    "        fig.add_trace(go.Bar(\n",
    "            name=gender,\n",
    "            x=grouped_percent[gender],  # percentage values\n",
    "            y=grouped_percent.index,  # race/emotion categories\n",
    "            orientation='h'\n",
    "        ))\n",
    "    \n",
    "    # Update layout for a stacked bar chart\n",
    "    fig.update_layout(\n",
    "        barmode='stack',\n",
    "        title=f'Distribution of Gender by {title_val}',\n",
    "        xaxis_title=f'Percentage of {title_val}',\n",
    "        yaxis_title=f'{title_val}',\n",
    "    )\n",
    "    \n",
    "    return fig"
   ]
  },
  {
   "cell_type": "code",
   "execution_count": 46,
   "id": "06222118-2800-45ef-96b7-316d86a72788",
   "metadata": {},
   "outputs": [],
   "source": [
    "# Callback to update the spider graph based on the slider\n",
    "@app.callback(\n",
    "    Output('spider-graph', 'figure'),\n",
    "    Input('frame-slider', 'value'),\n",
    "    Input('race-emotion-radio-btn', 'value'))\n",
    "def update_radial_graph_slider(selected_range, col_radio):\n",
    "    filtered_df = get_filtered_df(selected_range)\n",
    "    \n",
    "    specific_df = pd.DataFrame(filtered_df[col_radio].value_counts(normalize=True)*100).reset_index()\n",
    "    # Create the figure\n",
    "    fig = go.Figure(data=go.Scatterpolar(\n",
    "        r=specific_df['proportion'],\n",
    "        theta=specific_df[col_radio],\n",
    "        fill='toself'\n",
    "    ))\n",
    "\n",
    "    fig.update_layout(\n",
    "        title=\"Percentage representation in movie segment\",\n",
    "        polar=dict(\n",
    "            radialaxis=dict(\n",
    "                visible=True\n",
    "            ),\n",
    "        ),\n",
    "        showlegend=False\n",
    "    )\n",
    "    \n",
    "    return fig"
   ]
  },
  {
   "cell_type": "code",
   "execution_count": 47,
   "id": "666ccd5c-7d82-4198-98ce-ab68170344fb",
   "metadata": {},
   "outputs": [],
   "source": [
    "# Callback to update the line graph based on the slider\n",
    "@app.callback(\n",
    "    Output('evolution-line-graph', 'figure'),\n",
    "    Input('frame-slider', 'value'),\n",
    "    Input('race-emotion-radio-btn', 'value'))\n",
    "def update_line_graph_slider(selected_range, col_radio):\n",
    "    filtered_df = get_filtered_df(selected_range)\n",
    "    filtered_df.loc[:,\"count\"] = 1\n",
    "    pivot_df = filtered_df.pivot_table(index=\"frame_id\", columns=col_radio, values=\"count\", aggfunc=\"sum\", fill_value=0).cumsum()\n",
    "    # Create the figure\n",
    "    fig = go.Figure()\n",
    "\n",
    "    # Adding traces for each race/emotion\n",
    "    for column in pivot_df.columns:\n",
    "        fig.add_trace(go.Scatter(\n",
    "            x=pivot_df.index,\n",
    "            y=pivot_df[column],\n",
    "            mode='lines',\n",
    "            name=column,\n",
    "            stackgroup='one' # Stacking\n",
    "        ))\n",
    "    \n",
    "    # updating the layout\n",
    "    fig.update_layout(\n",
    "        title= \"Representation over time in movie segment\",\n",
    "        xaxis_title=\"Frame ID\",\n",
    "        yaxis_title=\"Cumulative count of appearances\",\n",
    "        hovermode=\"x\"\n",
    "    )\n",
    "    \n",
    "    return fig"
   ]
  },
  {
   "cell_type": "code",
   "execution_count": 48,
   "id": "376641bd-6456-4b9a-94ad-491b3eb128c4",
   "metadata": {},
   "outputs": [],
   "source": [
    "app.layout = html.Div([\n",
    "    html.H1(children=\"Movie Visualizations\"),\n",
    "    dcc.RangeSlider(\n",
    "        id='frame-slider',\n",
    "        min=0,\n",
    "        max=100,\n",
    "        value=[0, 100],\n",
    "        step=5,  # Percentage step\n",
    "        marks={i: f'{i}%' for i in range(0, 101, 10)}\n",
    "    ),\n",
    "    html.H2(children=\"Distribution of Race and Emotion\"),\n",
    "    html.Div([\n",
    "        dcc.RadioItems(\n",
    "            id='race-emotion-radio-btn',\n",
    "            options=[\n",
    "                {'label': 'Race', 'value': 'dominant_race'},\n",
    "                {'label': 'Emotion', 'value': 'dominant_emotion'}\n",
    "            ],\n",
    "            value='dominant_race',  # Default value\n",
    "            labelStyle={'display': 'inline-block', 'margin-right': '20px'}  # Space out the buttons\n",
    "        )\n",
    "    ], style={'margin-bottom': '20px'}),  # Space below the radio buttons\n",
    "    # Container for graphs\n",
    "    html.Div([\n",
    "        dcc.Graph(id='spider-graph', style={'display': 'inline-block', 'width': '50%'}),\n",
    "        dcc.Graph(id='evolution-line-graph', style={'display': 'inline-block', 'width': '50%'})\n",
    "    ], style={'display': 'flex'}),\n",
    "    html.Div([\n",
    "        dcc.Graph(id='gender-emotion-race-bar-graph', style={'display': 'inline-block', 'width': '50%'}),\n",
    "        dcc.Graph(id='sankey-emotion-race-graph', style={'display': 'inline-block', 'width': '50%'})\n",
    "    ], style={'display': 'flex'})\n",
    "])"
   ]
  },
  {
   "cell_type": "code",
   "execution_count": 49,
   "id": "751b8593-0d71-4b93-bec4-80a1864b6acf",
   "metadata": {},
   "outputs": [
    {
     "data": {
      "text/html": [
       "\n",
       "        <iframe\n",
       "            width=\"100%\"\n",
       "            height=\"650\"\n",
       "            src=\"http://127.0.0.1:8050/\"\n",
       "            frameborder=\"0\"\n",
       "            allowfullscreen\n",
       "            \n",
       "        ></iframe>\n",
       "        "
      ],
      "text/plain": [
       "<IPython.lib.display.IFrame at 0x242ace15720>"
      ]
     },
     "metadata": {},
     "output_type": "display_data"
    }
   ],
   "source": [
    "app.run(debug=True)"
   ]
  },
  {
   "cell_type": "code",
   "execution_count": null,
   "id": "da7d6060-d27a-4470-a2ee-82cef1cdf72c",
   "metadata": {},
   "outputs": [],
   "source": []
  },
  {
   "cell_type": "code",
   "execution_count": null,
   "id": "84fcc54a-71de-4079-aa80-464574d4774a",
   "metadata": {},
   "outputs": [],
   "source": []
  },
  {
   "cell_type": "code",
   "execution_count": null,
   "id": "06d3d1d5-505e-4cad-aa77-c6d594e746fd",
   "metadata": {},
   "outputs": [],
   "source": []
  }
 ],
 "metadata": {
  "kernelspec": {
   "display_name": "dissertation-env",
   "language": "python",
   "name": "dissertation-env"
  },
  "language_info": {
   "codemirror_mode": {
    "name": "ipython",
    "version": 3
   },
   "file_extension": ".py",
   "mimetype": "text/x-python",
   "name": "python",
   "nbconvert_exporter": "python",
   "pygments_lexer": "ipython3",
   "version": "3.10.1"
  }
 },
 "nbformat": 4,
 "nbformat_minor": 5
}
