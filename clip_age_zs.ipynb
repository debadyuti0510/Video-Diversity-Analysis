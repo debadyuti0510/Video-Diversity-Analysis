{
 "cells": [
  {
   "cell_type": "code",
   "execution_count": 2,
   "metadata": {},
   "outputs": [],
   "source": [
    "from io import BytesIO\n",
    "from PIL import Image\n",
    "import datasets\n",
    "import joblib\n",
    "from transformers import CLIPProcessor, CLIPModel, CLIPVisionModel\n",
    "from sklearn.linear_model import LogisticRegression\n",
    "import torch\n",
    "import numpy as np\n",
    "from tqdm.auto import tqdm\n",
    "from sklearn.metrics import precision_recall_fscore_support\n",
    "import pandas as pd\n",
    "from sklearn.metrics import classification_report"
   ]
  },
  {
   "cell_type": "code",
   "execution_count": 3,
   "metadata": {},
   "outputs": [],
   "source": [
    "torch.manual_seed(42)\n",
    "device = torch.device(\"cuda\" if torch.cuda.is_available() else \"cpu\")"
   ]
  },
  {
   "cell_type": "code",
   "execution_count": 4,
   "metadata": {},
   "outputs": [],
   "source": [
    "# Load model and pre-processor\n",
    "model = CLIPModel.from_pretrained(\"openai/clip-vit-base-patch32\")\n",
    "model.to(device)\n",
    "vision_model = CLIPVisionModel.from_pretrained(\"openai/clip-vit-base-patch32\")\n",
    "vision_model.to(device)\n",
    "processor = CLIPProcessor.from_pretrained(\"openai/clip-vit-base-patch32\")"
   ]
  },
  {
   "cell_type": "code",
   "execution_count": 5,
   "metadata": {},
   "outputs": [],
   "source": [
    "def get_embedding_and_zs(sample):\n",
    "    # import pdb; pdb.set_trace()\n",
    "\n",
    "    # Age prediction\n",
    "    age_texts = [f\"A person in the {c} age group\" for c in [\"0-2\", \"3-9\", \"10-19\", \"20-29\", \"30-39\", \"40-49\", \"50-59\", \"60-69\", \"more than 70\"]]\n",
    "    inputs = processor(text=age_texts, images=sample[\"image\"], return_tensors=\"pt\", padding=True).to(device)\n",
    "    outputs = model(**inputs)\n",
    "    logits_per_image = outputs.logits_per_image # this is the image-text similarity score\n",
    "    age_pred = logits_per_image.argmax(dim=1) # we can take the argmax\n",
    "    sample[\"zs_age_clip\"] = [int(gp) for gp in age_pred]\n",
    "\n",
    "    return sample"
   ]
  },
  {
   "cell_type": "code",
   "execution_count": 6,
   "metadata": {},
   "outputs": [],
   "source": [
    "# Load training data\n",
    "train_ds = datasets.load_dataset('HuggingFaceM4/FairFace', '1.25', split='train', verification_mode=\"no_checks\")\n",
    "# train_ds = train_ds.shuffle(seed=42).select([i for i in range(1_000)]) # Take only first 20_000 images\n",
    "train_ds = train_ds.shuffle(seed=42)\n",
    "train_ds = train_ds.map(get_embedding_and_zs, batched = True, batch_size=16)"
   ]
  },
  {
   "cell_type": "code",
   "execution_count": 7,
   "metadata": {},
   "outputs": [
    {
     "data": {
      "application/vnd.jupyter.widget-view+json": {
       "model_id": "b28346662294445ba9cebd05d3e5f762",
       "version_major": 2,
       "version_minor": 0
      },
      "text/plain": [
       "Map:   0%|          | 0/10954 [00:00<?, ? examples/s]"
      ]
     },
     "metadata": {},
     "output_type": "display_data"
    },
    {
     "name": "stderr",
     "output_type": "stream",
     "text": [
      "c:\\Users\\Debadyuti\\.conda\\envs\\dissertation-env\\lib\\site-packages\\transformers\\models\\clip\\modeling_clip.py:480: UserWarning: 1Torch was not compiled with flash attention. (Triggered internally at C:\\actions-runner\\_work\\pytorch\\pytorch\\builder\\windows\\pytorch\\aten\\src\\ATen\\native\\transformers\\cuda\\sdp_utils.cpp:555.)\n",
      "  attn_output = torch.nn.functional.scaled_dot_product_attention(\n"
     ]
    }
   ],
   "source": [
    "# Load validation data and test on this\n",
    "valid_ds = datasets.load_dataset('HuggingFaceM4/FairFace', '1.25', split=\"validation\", verification_mode=\"no_checks\")\n",
    "valid_ds = valid_ds.shuffle(seed=42)\n",
    "# valid_ds = valid_ds.shuffle(seed=42) \n",
    "valid_ds = valid_ds.map(get_embedding_and_zs, batched = True, batch_size=16)"
   ]
  },
  {
   "cell_type": "code",
   "execution_count": 8,
   "metadata": {},
   "outputs": [],
   "source": [
    "y_train_age = np.array(train_ds[\"age\"])\n",
    "y_val_age = np.array(valid_ds[\"age\"])"
   ]
  },
  {
   "cell_type": "code",
   "execution_count": 9,
   "metadata": {},
   "outputs": [
    {
     "data": {
      "text/plain": [
       "array([ 1792, 10408,  9103, 25598, 19250, 10744,  6228,  2779,   842],\n",
       "      dtype=int64)"
      ]
     },
     "execution_count": 9,
     "metadata": {},
     "output_type": "execute_result"
    }
   ],
   "source": [
    "np.bincount(y_train_age)"
   ]
  },
  {
   "cell_type": "code",
   "execution_count": 10,
   "metadata": {},
   "outputs": [
    {
     "data": {
      "text/plain": [
       "array([ 199, 1356, 1181, 3300, 2330, 1353,  796,  321,  118], dtype=int64)"
      ]
     },
     "execution_count": 10,
     "metadata": {},
     "output_type": "execute_result"
    }
   ],
   "source": [
    "np.bincount(y_val_age)"
   ]
  },
  {
   "cell_type": "code",
   "execution_count": 11,
   "metadata": {},
   "outputs": [
    {
     "name": "stdout",
     "output_type": "stream",
     "text": [
      "              precision    recall  f1-score   support\n",
      "\n",
      "           0       0.41      0.77      0.54      1792\n",
      "           1       0.80      0.57      0.66     10408\n",
      "           2       0.39      0.55      0.46      9103\n",
      "           3       0.57      0.29      0.39     25598\n",
      "           4       0.41      0.51      0.45     19250\n",
      "           5       0.30      0.23      0.26     10744\n",
      "           6       0.30      0.24      0.27      6228\n",
      "           7       0.26      0.15      0.19      2779\n",
      "           8       0.05      0.75      0.10       842\n",
      "\n",
      "    accuracy                           0.40     86744\n",
      "   macro avg       0.39      0.45      0.37     86744\n",
      "weighted avg       0.47      0.40      0.41     86744\n",
      "\n"
     ]
    }
   ],
   "source": [
    "print(classification_report( y_train_age, np.array(train_ds[\"zs_age_clip\"])))"
   ]
  },
  {
   "cell_type": "code",
   "execution_count": 12,
   "metadata": {},
   "outputs": [
    {
     "name": "stdout",
     "output_type": "stream",
     "text": [
      "Training set metrics - Age (CLIP ZS) \n",
      "========================================\n",
      "Accuracy: 0.3980 Precision: 0.4741, Recall: 0.3980, F-Score(Weighted): 0.4121, F-Score(Micro): 0.3980, F-Score(Macro): 0.3688\n"
     ]
    }
   ],
   "source": [
    "y_preds = np.array(train_ds[\"zs_age_clip\"])\n",
    "precision, recall, f_score_weighted, _ = precision_recall_fscore_support(y_train_age, y_preds, average='weighted')\n",
    "_, _, f_score_macro, _ = precision_recall_fscore_support(y_train_age, y_preds, average='macro')\n",
    "_, _, f_score_micro, _ = precision_recall_fscore_support(y_train_age, y_preds, average='micro')\n",
    "class_rep = classification_report( y_train_age, y_preds, output_dict=True)\n",
    "print(f\"Training set metrics - Age (CLIP ZS) \\n\" + \"=\"*40)\n",
    "print(f\"Accuracy: {class_rep['accuracy']:.4f} Precision: {precision:.4f}, Recall: {recall:.4f}, F-Score(Weighted): {f_score_weighted:.4f}, F-Score(Micro): {f_score_micro:.4f}, F-Score(Macro): {f_score_macro:.4f}\")"
   ]
  },
  {
   "cell_type": "code",
   "execution_count": 15,
   "metadata": {},
   "outputs": [
    {
     "data": {
      "text/plain": [
       "86744"
      ]
     },
     "execution_count": 15,
     "metadata": {},
     "output_type": "execute_result"
    }
   ],
   "source": [
    "len(np.array(train_ds[\"zs_age_clip\"]))"
   ]
  },
  {
   "cell_type": "code",
   "execution_count": null,
   "metadata": {},
   "outputs": [
    {
     "ename": "",
     "evalue": "",
     "output_type": "error",
     "traceback": [
      "\u001b[1;31mThe Kernel crashed while executing code in the current cell or a previous cell. \n",
      "\u001b[1;31mPlease review the code in the cell(s) to identify a possible cause of the failure. \n",
      "\u001b[1;31mClick <a href='https://aka.ms/vscodeJupyterKernelCrash'>here</a> for more info. \n",
      "\u001b[1;31mView Jupyter <a href='command:jupyter.viewOutput'>log</a> for further details."
     ]
    }
   ],
   "source": [
    "np.save(\"clip_zs_age_preds_train_42.npy\", np.array(train_ds[\"zs_age_clip\"]))"
   ]
  },
  {
   "cell_type": "code",
   "execution_count": 13,
   "metadata": {},
   "outputs": [
    {
     "name": "stdout",
     "output_type": "stream",
     "text": [
      "              precision    recall  f1-score   support\n",
      "\n",
      "           0       0.38      0.76      0.50       199\n",
      "           1       0.83      0.57      0.68      1356\n",
      "           2       0.40      0.58      0.48      1181\n",
      "           3       0.57      0.28      0.37      3300\n",
      "           4       0.40      0.51      0.44      2330\n",
      "           5       0.31      0.24      0.27      1353\n",
      "           6       0.31      0.23      0.27       796\n",
      "           7       0.28      0.17      0.22       321\n",
      "           8       0.06      0.81      0.12       118\n",
      "\n",
      "    accuracy                           0.40     10954\n",
      "   macro avg       0.39      0.46      0.37     10954\n",
      "weighted avg       0.48      0.40      0.41     10954\n",
      "\n"
     ]
    }
   ],
   "source": [
    "print(classification_report(y_val_age, np.array(valid_ds[\"zs_age_clip\"])))"
   ]
  },
  {
   "cell_type": "code",
   "execution_count": 14,
   "metadata": {},
   "outputs": [
    {
     "name": "stdout",
     "output_type": "stream",
     "text": [
      "Validation set metrics - Age (CLIP ZS) \n",
      "========================================\n",
      "Accuracy: 0.3984 Precision: 0.4782, Recall: 0.3984, F-Score(Weighted): 0.4110, F-Score(Micro): 0.3984, F-Score(Macro): 0.3714\n"
     ]
    }
   ],
   "source": [
    "y_preds = np.array(valid_ds[\"zs_age_clip\"])\n",
    "precision, recall, f_score_weighted, _ = precision_recall_fscore_support(y_val_age, y_preds, average='weighted')\n",
    "_, _, f_score_macro, _ = precision_recall_fscore_support(y_val_age, y_preds, average='macro')\n",
    "_, _, f_score_micro, _ = precision_recall_fscore_support(y_val_age, y_preds, average='micro')\n",
    "class_rep = classification_report( y_val_age, y_preds, output_dict=True)\n",
    "print(f\"Validation set metrics - Age (CLIP ZS) \\n\" + \"=\"*40)\n",
    "print(f\"Accuracy: {class_rep['accuracy']:.4f} Precision: {precision:.4f}, Recall: {recall:.4f}, F-Score(Weighted): {f_score_weighted:.4f}, F-Score(Micro): {f_score_micro:.4f}, F-Score(Macro): {f_score_macro:.4f}\")"
   ]
  },
  {
   "cell_type": "code",
   "execution_count": 16,
   "metadata": {},
   "outputs": [
    {
     "data": {
      "text/plain": [
       "10954"
      ]
     },
     "execution_count": 16,
     "metadata": {},
     "output_type": "execute_result"
    }
   ],
   "source": [
    "len(np.array(valid_ds[\"zs_age_clip\"]))"
   ]
  },
  {
   "cell_type": "code",
   "execution_count": 17,
   "metadata": {},
   "outputs": [],
   "source": [
    "np.save(\"clip_zs_age_preds_val_42.npy\", np.array(valid_ds[\"zs_age_clip\"]))"
   ]
  },
  {
   "cell_type": "code",
   "execution_count": null,
   "metadata": {},
   "outputs": [],
   "source": []
  }
 ],
 "metadata": {
  "kernelspec": {
   "display_name": "dissertation-env",
   "language": "python",
   "name": "python3"
  },
  "language_info": {
   "codemirror_mode": {
    "name": "ipython",
    "version": 3
   },
   "file_extension": ".py",
   "mimetype": "text/x-python",
   "name": "python",
   "nbconvert_exporter": "python",
   "pygments_lexer": "ipython3",
   "version": "3.10.14"
  }
 },
 "nbformat": 4,
 "nbformat_minor": 2
}
