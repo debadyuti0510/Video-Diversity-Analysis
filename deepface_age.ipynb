{
 "cells": [
  {
   "cell_type": "code",
   "execution_count": 18,
   "metadata": {},
   "outputs": [],
   "source": [
    "from io import BytesIO\n",
    "from PIL import Image\n",
    "import datasets\n",
    "import joblib\n",
    "from transformers import CLIPProcessor, CLIPModel, CLIPVisionModel\n",
    "from sklearn.linear_model import LogisticRegression\n",
    "import torch\n",
    "import numpy as np\n",
    "from tqdm.auto import tqdm\n",
    "from sklearn.metrics import precision_recall_fscore_support\n",
    "import pandas as pd\n",
    "from sklearn.metrics import classification_report\n",
    "from deepface.extendedmodels import Age\n",
    "from deepface.modules import modeling, detection, preprocessing\n",
    "import tensorflow as tf"
   ]
  },
  {
   "cell_type": "code",
   "execution_count": 4,
   "metadata": {},
   "outputs": [],
   "source": [
    "torch.manual_seed(42)\n",
    "device = torch.device(\"cuda\" if torch.cuda.is_available() else \"cpu\")"
   ]
  },
  {
   "cell_type": "code",
   "execution_count": 5,
   "metadata": {},
   "outputs": [],
   "source": [
    "def _load_age_model():\n",
    "    # if not os.path.exists('/root/.deepface/weights'):\n",
    "    #     os.mkdir('/root/.deepface')\n",
    "    #     os.mkdir('/root/.deepface/weights')\n",
    "    age_model = modeling.build_model(\"Age\").model\n",
    "    return age_model\n"
   ]
  },
  {
   "cell_type": "code",
   "execution_count": 19,
   "metadata": {},
   "outputs": [],
   "source": [
    "def _predict_age(age_model, bgr_images):\n",
    "    bgr_images = [preprocessing.resize_image(img=np.array(img_content), target_size=(224, 224)) for img_content in bgr_images]\n",
    "    # Returns predictions of each batch - (batch_size, age_classes)\n",
    "    # age_preds = age_model(np.array(bgr_images).squeeze())\n",
    "\n",
    "    input_array = np.array(bgr_images).squeeze()\n",
    "    with tf.device('/GPU:0'):  # TensorFlow syntax for forcing GPU\n",
    "        age_preds = age_model(input_array, training=False)  # Important to set training=False for inference\n",
    "\n",
    "    output_indexes = np.arange(101)\n",
    "\n",
    "    # Multiply each age class probability by its corresponding age index and sum across the age axis\n",
    "    apparent_ages = np.sum(age_preds * output_indexes, axis=1)\n",
    "\n",
    "    return apparent_ages"
   ]
  },
  {
   "cell_type": "code",
   "execution_count": 15,
   "metadata": {},
   "outputs": [],
   "source": [
    "age_model = _load_age_model()"
   ]
  },
  {
   "cell_type": "code",
   "execution_count": 16,
   "metadata": {},
   "outputs": [],
   "source": [
    "def get_deepface_preds(sample):\n",
    "    # import pdb; pdb.set_trace()\n",
    "\n",
    "    # Age prediction\n",
    "    # age_texts = [f\"A person in the {c} age group\" for c in [\"0-2\", \"3-9\", \"10-19\", \"20-29\", \"30-39\", \"40-49\", \"50-59\", \"60-69\", \"more than 70\"]]\n",
    "    # inputs = processor(text=age_texts, images=sample[\"image\"], return_tensors=\"pt\", padding=True).to(device)\n",
    "    # outputs = model(**inputs)\n",
    "    # logits_per_image = outputs.logits_per_image # this is the image-text similarity score\n",
    "    # age_pred = logits_per_image.argmax(dim=1) # we can take the argmax\n",
    "    # sample[\"zs_age_clip\"] = [int(gp) for gp in age_pred]\n",
    "    age_pred = _predict_age(age_model, sample[\"image\"])\n",
    "    sample[\"deepface_pred\"] = [int(gp) for gp in age_pred]\n",
    "    return sample"
   ]
  },
  {
   "cell_type": "code",
   "execution_count": 21,
   "metadata": {},
   "outputs": [
    {
     "name": "stdout",
     "output_type": "stream",
     "text": [
      "GPUs Available:  []\n"
     ]
    }
   ],
   "source": [
    "print(\"GPUs Available: \", tf.config.list_physical_devices('GPU'))"
   ]
  },
  {
   "cell_type": "code",
   "execution_count": 32,
   "metadata": {},
   "outputs": [
    {
     "data": {
      "application/vnd.jupyter.widget-view+json": {
       "model_id": "3db4cdcab6114cf4b2bddbd04cf76097",
       "version_major": 2,
       "version_minor": 0
      },
      "text/plain": [
       "Map:   0%|          | 0/86744 [00:00<?, ? examples/s]"
      ]
     },
     "metadata": {},
     "output_type": "display_data"
    }
   ],
   "source": [
    "# Load training data\n",
    "train_ds = datasets.load_dataset('HuggingFaceM4/FairFace', '1.25', split='train', verification_mode=\"no_checks\")\n",
    "# train_ds = train_ds.shuffle(seed=42).select([i for i in range(1_000)]) # Take only first 20_000 images\n",
    "train_ds = train_ds.shuffle(seed=42)\n",
    "train_ds = train_ds.map(get_deepface_preds, batched = True, batch_size=16)"
   ]
  },
  {
   "cell_type": "code",
   "execution_count": null,
   "metadata": {},
   "outputs": [
    {
     "ename": "",
     "evalue": "",
     "output_type": "error",
     "traceback": [
      "\u001b[1;31mThe Kernel crashed while executing code in the current cell or a previous cell. \n",
      "\u001b[1;31mPlease review the code in the cell(s) to identify a possible cause of the failure. \n",
      "\u001b[1;31mClick <a href='https://aka.ms/vscodeJupyterKernelCrash'>here</a> for more info. \n",
      "\u001b[1;31mView Jupyter <a href='command:jupyter.viewOutput'>log</a> for further details."
     ]
    }
   ],
   "source": [
    "df_preds_train = np.array(train_ds[\"deepface_pred\"])\n",
    "np.save(\"deepace_age_preds_train_42.npy\", df_preds_train)"
   ]
  },
  {
   "cell_type": "code",
   "execution_count": null,
   "metadata": {},
   "outputs": [
    {
     "data": {
      "application/vnd.jupyter.widget-view+json": {
       "model_id": "83f69d1c96ef42bea6cbed100c76ddd8",
       "version_major": 2,
       "version_minor": 0
      },
      "text/plain": [
       "Map:   0%|          | 0/10954 [00:00<?, ? examples/s]"
      ]
     },
     "metadata": {},
     "output_type": "display_data"
    }
   ],
   "source": [
    "# # Load validation data and test on this\n",
    "# valid_ds = datasets.load_dataset('HuggingFaceM4/FairFace', '1.25', split=\"validation\", verification_mode=\"no_checks\")\n",
    "# valid_ds = valid_ds.shuffle(seed=42)\n",
    "# # valid_ds = valid_ds.shuffle(seed=42) \n",
    "# valid_ds = valid_ds.map(get_deepface_preds, batched = True, batch_size=16)"
   ]
  },
  {
   "cell_type": "code",
   "execution_count": null,
   "metadata": {},
   "outputs": [],
   "source": [
    "# df_preds_val = np.array(valid_ds[\"deepface_pred\"])"
   ]
  },
  {
   "cell_type": "code",
   "execution_count": null,
   "metadata": {},
   "outputs": [],
   "source": [
    "# np.save(\"deepace_age_preds_val_42.npy\", df_preds_val)"
   ]
  },
  {
   "cell_type": "code",
   "execution_count": null,
   "metadata": {},
   "outputs": [
    {
     "data": {
      "text/plain": [
       "10954"
      ]
     },
     "execution_count": 29,
     "metadata": {},
     "output_type": "execute_result"
    }
   ],
   "source": []
  },
  {
   "cell_type": "code",
   "execution_count": null,
   "metadata": {},
   "outputs": [],
   "source": []
  }
 ],
 "metadata": {
  "kernelspec": {
   "display_name": "dissertation-env",
   "language": "python",
   "name": "python3"
  },
  "language_info": {
   "codemirror_mode": {
    "name": "ipython",
    "version": 3
   },
   "file_extension": ".py",
   "mimetype": "text/x-python",
   "name": "python",
   "nbconvert_exporter": "python",
   "pygments_lexer": "ipython3",
   "version": "3.10.14"
  }
 },
 "nbformat": 4,
 "nbformat_minor": 2
}
