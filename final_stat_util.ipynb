{
 "cells": [
  {
   "cell_type": "code",
   "execution_count": 4,
   "metadata": {},
   "outputs": [],
   "source": [
    "import datasets\n",
    "from transformers import CLIPProcessor, CLIPModel, CLIPVisionModel\n",
    "import torch\n",
    "import numpy as np\n",
    "import pandas as pd\n",
    "import utils\n",
    "import os\n",
    "import json\n",
    "from tqdm.auto import tqdm\n",
    "import joblib"
   ]
  },
  {
   "cell_type": "code",
   "execution_count": 5,
   "metadata": {},
   "outputs": [],
   "source": [
    "train_ds = datasets.load_dataset('HuggingFaceM4/FairFace', '1.25', split='train', verification_mode=\"no_checks\")"
   ]
  },
  {
   "cell_type": "code",
   "execution_count": 50,
   "metadata": {},
   "outputs": [],
   "source": [
    "validation_ds = datasets.load_dataset('HuggingFaceM4/FairFace', '1.25', split=\"validation\", verification_mode=\"no_checks\")\n",
    "validation_ds = validation_ds.shuffle(seed=42)"
   ]
  },
  {
   "cell_type": "code",
   "execution_count": 29,
   "metadata": {},
   "outputs": [],
   "source": [
    "reported_stats = {}"
   ]
  },
  {
   "cell_type": "code",
   "execution_count": 30,
   "metadata": {},
   "outputs": [],
   "source": [
    "torch.manual_seed(42)\n",
    "device = torch.device(\"cuda\" if torch.cuda.is_available() else \"cpu\")"
   ]
  },
  {
   "cell_type": "code",
   "execution_count": 31,
   "metadata": {},
   "outputs": [],
   "source": [
    "# Load model and pre-processor\n",
    "model = CLIPModel.from_pretrained(\"openai/clip-vit-base-patch32\")\n",
    "model.to(device)\n",
    "vision_model = CLIPVisionModel.from_pretrained(\"openai/clip-vit-base-patch32\")\n",
    "vision_model.to(device)\n",
    "processor = CLIPProcessor.from_pretrained(\"openai/clip-vit-base-patch32\")"
   ]
  },
  {
   "cell_type": "code",
   "execution_count": 32,
   "metadata": {},
   "outputs": [],
   "source": [
    "def get_embedding_and_zs(sample):\n",
    "\n",
    "    # Age prediction\n",
    "    inputs = processor(text=[\"text\"]*len(sample), images=sample[\"image\"], return_tensors=\"pt\", padding=True).to(device)\n",
    "    # outputs = model.get_image_features(**inputs)\n",
    "    # Store embeddings - dim 512\n",
    "    # sample[\"proj_embeddings\"] = model.get_image_features(**inputs)\n",
    "    outputs = model(**inputs)\n",
    "    # Store embeddings - dim 512\n",
    "    sample[\"proj_embeddings\"] = outputs.image_embeds\n",
    "    # # Reduce the age by 2\n",
    "    # sample[\"age\"] = [age - 2 for age in sample[\"age\"]] # Since classes 0 and 1 have been deleted\n",
    "    return sample"
   ]
  },
  {
   "cell_type": "code",
   "execution_count": 33,
   "metadata": {},
   "outputs": [],
   "source": [
    "# train_ds = train_ds.map(get_embedding_and_zs, batched = True, batch_size=32)"
   ]
  },
  {
   "cell_type": "code",
   "execution_count": 34,
   "metadata": {},
   "outputs": [],
   "source": [
    "# age_labels = np.array(train_ds[\"age\"])"
   ]
  },
  {
   "cell_type": "code",
   "execution_count": 35,
   "metadata": {},
   "outputs": [],
   "source": [
    "# np.bincount(age_labels)"
   ]
  },
  {
   "cell_type": "code",
   "execution_count": 36,
   "metadata": {},
   "outputs": [],
   "source": [
    "# from sklearn.metrics import classification_report\n",
    "\n",
    "\n",
    "# age_scaler = joblib.load(\"models/projected_scaler.joblib\")\n",
    "# age_clf = joblib.load(\"models/lr_clf_proj_age.joblib\")\n",
    "# X_train_scaled = age_scaler.transform(np.array(train_ds[\"proj_embeddings\"]))\n",
    "# y_train_preds = age_clf.predict(X_train_scaled)\n",
    "# print(classification_report(age_labels, y_train_preds))"
   ]
  },
  {
   "cell_type": "code",
   "execution_count": 37,
   "metadata": {},
   "outputs": [],
   "source": [
    "# np.save(\"clip_lr_age_preds_train_42.npy\", y_train_preds)"
   ]
  },
  {
   "cell_type": "code",
   "execution_count": 38,
   "metadata": {},
   "outputs": [],
   "source": [
    "# from sklearn.metrics import precision_recall_fscore_support\n",
    "\n",
    "# precision, recall, f_score_weighted, _ = precision_recall_fscore_support(age_labels, y_train_preds, average='weighted')\n",
    "# _, _, f_score_macro, _ = precision_recall_fscore_support(age_labels, y_train_preds, average='macro')\n",
    "# _, _, f_score_micro, _ = precision_recall_fscore_support(age_labels, y_train_preds, average='micro')\n",
    "# class_rep = classification_report( age_labels, y_train_preds, output_dict=True)\n",
    "# print(f\"Training set metrics - Age (CLIP + LR) \\n\" + \"=\"*40)\n",
    "# print(f\"Accuracy: {class_rep['accuracy']:.4f} Precision: {precision:.4f}, Recall: {recall:.4f}, F-Score(Weighted): {f_score_weighted:.4f}, F-Score(Micro): {f_score_micro:.4f}, F-Score(Macro): {f_score_macro:.4f}\")"
   ]
  },
  {
   "cell_type": "code",
   "execution_count": 51,
   "metadata": {},
   "outputs": [
    {
     "data": {
      "application/vnd.jupyter.widget-view+json": {
       "model_id": "9625177093a748ab819af3ffb44de39f",
       "version_major": 2,
       "version_minor": 0
      },
      "text/plain": [
       "Map:   0%|          | 0/10954 [00:00<?, ? examples/s]"
      ]
     },
     "metadata": {},
     "output_type": "display_data"
    }
   ],
   "source": [
    "validation_ds = validation_ds.map(get_embedding_and_zs, batched = True, batch_size=32)"
   ]
  },
  {
   "cell_type": "code",
   "execution_count": 52,
   "metadata": {},
   "outputs": [],
   "source": [
    "# def adjust_ages(sample):\n",
    "#     sample[\"age\"] = [age - 2 for age in sample[\"age\"]] # Since classes 0 and 1 have been deleted\n",
    "#     return sample"
   ]
  },
  {
   "cell_type": "code",
   "execution_count": 53,
   "metadata": {},
   "outputs": [],
   "source": [
    "# Get gender stats first\n",
    "# 0 - Male, 1 - Female\n",
    "gender_labels = np.array(validation_ds[\"gender\"])\n",
    "reported_stats[\"perc_fem_val\"] = round(np.sum(gender_labels == 1) / len(gender_labels) * 100, ndigits=2) \n",
    "reported_stats[\"perc_mal_val\"] = round(np.sum(gender_labels == 0) / len(gender_labels) * 100, ndigits=2) "
   ]
  },
  {
   "cell_type": "code",
   "execution_count": 57,
   "metadata": {},
   "outputs": [],
   "source": [
    "# Get gender predictions\n",
    "gender_model, _, _ = utils._load_lr_classifiers()\n",
    "gender_preds = utils._predict_gender(gender_model=gender_model, images=np.array(validation_ds[\"proj_embeddings\"]))"
   ]
  },
  {
   "cell_type": "code",
   "execution_count": 58,
   "metadata": {},
   "outputs": [],
   "source": [
    "gender_labels_pred = np.argmax(gender_preds, axis=1)\n",
    "reported_stats[\"perc_fem_val_pred\"] = round(np.sum(gender_labels_pred == 1) / len(gender_labels_pred) * 100, ndigits=2) \n",
    "reported_stats[\"perc_mal_val_pred\"] = round(np.sum(gender_labels_pred == 0) / len(gender_labels_pred) * 100, ndigits=2) "
   ]
  },
  {
   "cell_type": "code",
   "execution_count": 59,
   "metadata": {},
   "outputs": [],
   "source": [
    "np.save(\"clip_lr_gender_preds_val_42.npy\", gender_labels_pred)"
   ]
  },
  {
   "cell_type": "code",
   "execution_count": 43,
   "metadata": {},
   "outputs": [
    {
     "data": {
      "text/plain": [
       "{'perc_fem_val': 47.12,\n",
       " 'perc_mal_val': 52.88,\n",
       " 'perc_fem_val_pred': 47.39,\n",
       " 'perc_mal_val_pred': 52.61}"
      ]
     },
     "execution_count": 43,
     "metadata": {},
     "output_type": "execute_result"
    }
   ],
   "source": [
    "reported_stats"
   ]
  },
  {
   "cell_type": "code",
   "execution_count": null,
   "metadata": {},
   "outputs": [],
   "source": []
  },
  {
   "cell_type": "code",
   "execution_count": 44,
   "metadata": {},
   "outputs": [
    {
     "data": {
      "text/plain": [
       "0.96"
      ]
     },
     "execution_count": 44,
     "metadata": {},
     "output_type": "execute_result"
    }
   ],
   "source": [
    "round(np.sum(gender_labels_pred == gender_labels) / len(gender_labels), 2)"
   ]
  },
  {
   "cell_type": "code",
   "execution_count": 45,
   "metadata": {},
   "outputs": [],
   "source": [
    "# Filter and adjust age data\n",
    "# age_validation_ds = validation_ds.filter(lambda sample: sample[\"age\"] not in {0, 1}).map(adjust_ages, batched = True, batch_size=32) # Filter out the first two classes"
   ]
  },
  {
   "cell_type": "code",
   "execution_count": 46,
   "metadata": {},
   "outputs": [],
   "source": [
    "# 0,1,2,3,4,5 - Up to 50 & 6,7,8 - Over 50\n",
    "age_labels = np.array(validation_ds[\"age\"])\n",
    "reported_stats[\"perc_ut50_val\"] = round(np.sum(age_labels <= 5) / len(age_labels) * 100, ndigits=2) \n",
    "reported_stats[\"perc_o50_val\"] = round(np.sum(age_labels >= 6) / len(age_labels) * 100, ndigits=2)"
   ]
  },
  {
   "cell_type": "code",
   "execution_count": 47,
   "metadata": {},
   "outputs": [],
   "source": [
    "# Get age predictions\n",
    "age_scaler, age_model = utils._load_age_model()\n",
    "age_preds = utils._predict_age(age_scaler=age_scaler, age_model=age_model, images=np.array(validation_ds[\"proj_embeddings\"]))"
   ]
  },
  {
   "cell_type": "code",
   "execution_count": null,
   "metadata": {},
   "outputs": [],
   "source": []
  },
  {
   "cell_type": "code",
   "execution_count": 48,
   "metadata": {},
   "outputs": [
    {
     "name": "stdout",
     "output_type": "stream",
     "text": [
      "              precision    recall  f1-score   support\n",
      "\n",
      "           0       0.73      0.71      0.72       199\n",
      "           1       0.79      0.84      0.81      1356\n",
      "           2       0.60      0.45      0.51      1181\n",
      "           3       0.65      0.74      0.69      3300\n",
      "           4       0.51      0.50      0.51      2330\n",
      "           5       0.49      0.45      0.47      1353\n",
      "           6       0.50      0.46      0.48       796\n",
      "           7       0.48      0.48      0.48       321\n",
      "           8       0.48      0.39      0.43       118\n",
      "\n",
      "    accuracy                           0.60     10954\n",
      "   macro avg       0.58      0.56      0.57     10954\n",
      "weighted avg       0.60      0.60      0.60     10954\n",
      "\n"
     ]
    }
   ],
   "source": [
    "from sklearn.metrics import classification_report\n",
    "\n",
    "\n",
    "age_scaler = joblib.load(\"models/projected_scaler.joblib\")\n",
    "age_clf = joblib.load(\"models/lr_clf_proj_age.joblib\")\n",
    "X_val_scaled = age_scaler.transform(np.array(validation_ds[\"proj_embeddings\"]))\n",
    "y_val_preds = age_clf.predict(X_val_scaled)\n",
    "print(classification_report(age_labels, y_val_preds))"
   ]
  },
  {
   "cell_type": "code",
   "execution_count": 49,
   "metadata": {},
   "outputs": [],
   "source": [
    "np.save(\"clip_lr_age_preds_val_42.npy\", y_val_preds)"
   ]
  },
  {
   "cell_type": "code",
   "execution_count": 23,
   "metadata": {},
   "outputs": [
    {
     "name": "stdout",
     "output_type": "stream",
     "text": [
      "Validation set metrics - Age (CLIP + LR) \n",
      "========================================\n",
      "Accuracy: 0.6021 Precision: 0.5962, Recall: 0.6021, F-Score(Weighted): 0.5966, F-Score(Micro): 0.6021, F-Score(Macro): 0.5675\n"
     ]
    }
   ],
   "source": [
    "from sklearn.metrics import precision_recall_fscore_support\n",
    "\n",
    "precision, recall, f_score_weighted, _ = precision_recall_fscore_support(age_labels, y_val_preds, average='weighted')\n",
    "_, _, f_score_macro, _ = precision_recall_fscore_support(age_labels, y_val_preds, average='macro')\n",
    "_, _, f_score_micro, _ = precision_recall_fscore_support(age_labels, y_val_preds, average='micro')\n",
    "class_rep = classification_report( age_labels, y_val_preds, output_dict=True)\n",
    "print(f\"Validation set metrics - Age (CLIP + LR) \\n\" + \"=\"*40)\n",
    "print(f\"Accuracy: {class_rep['accuracy']:.4f} Precision: {precision:.4f}, Recall: {recall:.4f}, F-Score(Weighted): {f_score_weighted:.4f}, F-Score(Micro): {f_score_micro:.4f}, F-Score(Macro): {f_score_macro:.4f}\")"
   ]
  },
  {
   "cell_type": "code",
   "execution_count": 27,
   "metadata": {},
   "outputs": [],
   "source": [
    "np.save(\"clip_lr_age_preds_val_42_sure.npy\", y_val_preds)"
   ]
  },
  {
   "cell_type": "code",
   "execution_count": 25,
   "metadata": {},
   "outputs": [
    {
     "data": {
      "text/plain": [
       "array([ True,  True,  True, ...,  True,  True,  True])"
      ]
     },
     "execution_count": 25,
     "metadata": {},
     "output_type": "execute_result"
    }
   ],
   "source": [
    "np.load(\"clip_lr_age_preds_val_42.npy\") == y_val_preds"
   ]
  },
  {
   "cell_type": "code",
   "execution_count": 26,
   "metadata": {},
   "outputs": [
    {
     "data": {
      "text/plain": [
       "(array([0, 1, 2, 3, 4, 5, 6, 7, 8], dtype=int64),\n",
       " array([ 193, 1447,  878, 3767, 2294, 1230,  730,  318,   97], dtype=int64))"
      ]
     },
     "execution_count": 26,
     "metadata": {},
     "output_type": "execute_result"
    }
   ],
   "source": [
    "np.unique(np.argmax(age_preds, axis=1), return_counts=True)"
   ]
  },
  {
   "cell_type": "code",
   "execution_count": 20,
   "metadata": {},
   "outputs": [
    {
     "data": {
      "text/plain": [
       "0.6013"
      ]
     },
     "execution_count": 20,
     "metadata": {},
     "output_type": "execute_result"
    }
   ],
   "source": [
    "round(np.sum(np.argmax(age_preds, axis=1) == age_labels) / len(age_labels), 4)"
   ]
  },
  {
   "cell_type": "code",
   "execution_count": 21,
   "metadata": {},
   "outputs": [
    {
     "data": {
      "application/vnd.jupyter.widget-view+json": {
       "model_id": "17f98b6f627e4b0fb5796851bccc5b9f",
       "version_major": 2,
       "version_minor": 0
      },
      "text/plain": [
       "  0%|          | 0/10954 [00:00<?, ?it/s]"
      ]
     },
     "metadata": {},
     "output_type": "display_data"
    }
   ],
   "source": [
    "age_labels_pred = []\n",
    "for pred in tqdm(age_preds):\n",
    "    # print(pred)\n",
    "    max_sum_age = {\n",
    "        \"Up to 50\": sum([p for p in pred[:-3]]),\n",
    "        \"Over 50\": sum([p for p in pred[-3:]])\n",
    "    }\n",
    "    # print(max_sum_age)\n",
    "    age_labels_pred.append(int(max_sum_age[\"Up to 50\"] < max_sum_age[\"Over 50\"]))\n",
    "\n",
    "age_labels_pred = np.array(age_labels_pred)"
   ]
  },
  {
   "cell_type": "code",
   "execution_count": 22,
   "metadata": {},
   "outputs": [],
   "source": [
    "# age_labels_pred = np.argmax(age_preds, axis=1)\n",
    "reported_stats[\"perc_ut50_val_pred\"] = round(np.sum(age_labels_pred == 0) / len(age_labels_pred) * 100, ndigits=2) \n",
    "reported_stats[\"perc_o50_val_pred\"] = round(np.sum(age_labels_pred == 1) / len(age_labels_pred) * 100, ndigits=2)"
   ]
  },
  {
   "cell_type": "code",
   "execution_count": 27,
   "metadata": {},
   "outputs": [],
   "source": [
    "# \"Over 50\"if dominant_age in {\"50-59\", \"60-69\", \"more than 70\"} else \"Up to 50\"\n",
    "reported_stats[\"perc_ut50_direct_val_pred\"] = round(np.sum(np.argmax(age_preds, axis=1) <= 5) / len(age_preds) * 100, ndigits=2)\n",
    "reported_stats[\"perc_o50_direct_val_pred\"] = round(np.sum(np.argmax(age_preds, axis=1) >= 6) / len(age_preds) * 100, ndigits=2) "
   ]
  },
  {
   "cell_type": "code",
   "execution_count": 28,
   "metadata": {},
   "outputs": [
    {
     "data": {
      "text/plain": [
       "{'perc_fem_val': 47.12,\n",
       " 'perc_mal_val': 52.88,\n",
       " 'perc_fem_val_pred': 47.39,\n",
       " 'perc_mal_val_pred': 52.61,\n",
       " 'perc_ut50_val': 88.73,\n",
       " 'perc_o50_val': 11.27,\n",
       " 'perc_ut50_val_pred': 89.96,\n",
       " 'perc_o50_val_pred': 10.04,\n",
       " 'perc_ut50_direct_val_pred': 89.54,\n",
       " 'perc_o50_direct_val_pred': 10.46}"
      ]
     },
     "execution_count": 28,
     "metadata": {},
     "output_type": "execute_result"
    }
   ],
   "source": [
    "reported_stats"
   ]
  },
  {
   "cell_type": "code",
   "execution_count": 29,
   "metadata": {},
   "outputs": [],
   "source": [
    "if os.path.exists(\"black_panther_demography.csv\"):\n",
    "    df = pd.read_csv(\"black_panther_demography.csv\", index_col=0)\n",
    "    reported_stats[\"avg_conf_gender_blackpanther\"] = round(df.gender.apply(lambda gender: max(json.loads(gender.replace(\"\\'\", \"\\\"\")).values())).mean(), ndigits=4)\n",
    "    reported_stats[\"avg_conf_age_blackpanther\"] = round(df.max_sum_age.apply(lambda max_sum_age: max(json.loads(max_sum_age.replace(\"\\'\", \"\\\"\")).values())).mean(), ndigits=4)\n",
    "    if \"direct_age_group\" not in df.columns:\n",
    "        df[\"direct_age_group\"] = df[\"dominant_age\"].apply(lambda dominant_age: \"Over 50\"if dominant_age in {\"50-59\", \"60-69\", \"more than 70\"} else \"Up to 50\")\n",
    "        df.to_csv(\"black_panther_demography.csv\")\n",
    "    reported_stats[\"avg_conf_direct_age_blackpanther\"] = round(df.age.apply(lambda age: max(json.loads(age.replace(\"\\'\", \"\\\"\")).values())).mean(), ndigits=4)"
   ]
  },
  {
   "cell_type": "code",
   "execution_count": 30,
   "metadata": {},
   "outputs": [],
   "source": [
    "# df"
   ]
  },
  {
   "cell_type": "code",
   "execution_count": 31,
   "metadata": {},
   "outputs": [],
   "source": [
    "if os.path.exists(\"mama_mia_demography.csv\"):\n",
    "    df = pd.read_csv(\"mama_mia_demography.csv\", index_col=0)\n",
    "    reported_stats[\"avg_conf_gender_mamamia\"] = round(df.gender.apply(lambda gender: max(json.loads(gender.replace(\"\\'\", \"\\\"\")).values())).mean(), ndigits=4)\n",
    "    reported_stats[\"avg_conf_age_mamamia\"] = round(df.max_sum_age.apply(lambda max_sum_age: max(json.loads(max_sum_age.replace(\"\\'\", \"\\\"\")).values())).mean(), ndigits=4)\n",
    "    if \"direct_age_group\" not in df.columns:\n",
    "        df[\"direct_age_group\"] = df[\"dominant_age\"].apply(lambda dominant_age: \"Over 50\"if dominant_age in {\"50-59\", \"60-69\", \"more than 70\"} else \"Up to 50\")\n",
    "        df.to_csv(\"mama_mia_demography.csv\")\n",
    "    reported_stats[\"avg_conf_direct_age_mamamia\"] = round(df.age.apply(lambda age: max(json.loads(age.replace(\"\\'\", \"\\\"\")).values())).mean(), ndigits=4)"
   ]
  },
  {
   "cell_type": "code",
   "execution_count": 32,
   "metadata": {},
   "outputs": [],
   "source": [
    "if os.path.exists(\"marigold_demography.csv\"):\n",
    "    df = pd.read_csv(\"marigold_demography.csv\", index_col=0)\n",
    "    reported_stats[\"avg_conf_gender_marigold\"] = round(df.gender.apply(lambda gender: max(json.loads(gender.replace(\"\\'\", \"\\\"\")).values())).mean(), ndigits=4)\n",
    "    reported_stats[\"avg_conf_age_marigold\"] = round(df.max_sum_age.apply(lambda max_sum_age: max(json.loads(max_sum_age.replace(\"\\'\", \"\\\"\")).values())).mean(), ndigits=4)\n",
    "    if \"direct_age_group\" not in df.columns:\n",
    "        df[\"direct_age_group\"] = df[\"dominant_age\"].apply(lambda dominant_age: \"Over 50\"if dominant_age in {\"50-59\", \"60-69\", \"more than 70\"} else \"Up to 50\")\n",
    "        df.to_csv(\"marigold_demography.csv\")\n",
    "    reported_stats[\"avg_conf_direct_age_marigold\"] = round(df.age.apply(lambda age: max(json.loads(age.replace(\"\\'\", \"\\\"\")).values())).mean(), ndigits=4)"
   ]
  },
  {
   "cell_type": "code",
   "execution_count": 33,
   "metadata": {},
   "outputs": [
    {
     "data": {
      "text/plain": [
       "{'perc_fem_val': 47.12,\n",
       " 'perc_mal_val': 52.88,\n",
       " 'perc_fem_val_pred': 47.39,\n",
       " 'perc_mal_val_pred': 52.61,\n",
       " 'perc_ut50_val': 88.73,\n",
       " 'perc_o50_val': 11.27,\n",
       " 'perc_ut50_val_pred': 89.96,\n",
       " 'perc_o50_val_pred': 10.04,\n",
       " 'perc_ut50_direct_val_pred': 89.54,\n",
       " 'perc_o50_direct_val_pred': 10.46,\n",
       " 'avg_conf_gender_blackpanther': 0.9856,\n",
       " 'avg_conf_age_blackpanther': 0.9211,\n",
       " 'avg_conf_direct_age_blackpanther': 0.5519,\n",
       " 'avg_conf_gender_mamamia': 0.9716,\n",
       " 'avg_conf_age_mamamia': 0.8682,\n",
       " 'avg_conf_direct_age_mamamia': 0.5138,\n",
       " 'avg_conf_gender_marigold': 0.9564,\n",
       " 'avg_conf_age_marigold': 0.8603,\n",
       " 'avg_conf_direct_age_marigold': 0.53}"
      ]
     },
     "execution_count": 33,
     "metadata": {},
     "output_type": "execute_result"
    }
   ],
   "source": [
    "reported_stats"
   ]
  },
  {
   "cell_type": "code",
   "execution_count": 34,
   "metadata": {},
   "outputs": [],
   "source": [
    "df = pd.DataFrame([reported_stats])"
   ]
  },
  {
   "cell_type": "code",
   "execution_count": 35,
   "metadata": {},
   "outputs": [
    {
     "data": {
      "text/html": [
       "<div>\n",
       "<style scoped>\n",
       "    .dataframe tbody tr th:only-of-type {\n",
       "        vertical-align: middle;\n",
       "    }\n",
       "\n",
       "    .dataframe tbody tr th {\n",
       "        vertical-align: top;\n",
       "    }\n",
       "\n",
       "    .dataframe thead th {\n",
       "        text-align: right;\n",
       "    }\n",
       "</style>\n",
       "<table border=\"1\" class=\"dataframe\">\n",
       "  <thead>\n",
       "    <tr style=\"text-align: right;\">\n",
       "      <th></th>\n",
       "      <th>perc_fem_val</th>\n",
       "      <th>perc_mal_val</th>\n",
       "      <th>perc_fem_val_pred</th>\n",
       "      <th>perc_mal_val_pred</th>\n",
       "      <th>perc_ut50_val</th>\n",
       "      <th>perc_o50_val</th>\n",
       "      <th>perc_ut50_val_pred</th>\n",
       "      <th>perc_o50_val_pred</th>\n",
       "      <th>perc_ut50_direct_val_pred</th>\n",
       "      <th>perc_o50_direct_val_pred</th>\n",
       "      <th>avg_conf_gender_blackpanther</th>\n",
       "      <th>avg_conf_age_blackpanther</th>\n",
       "      <th>avg_conf_direct_age_blackpanther</th>\n",
       "      <th>avg_conf_gender_mamamia</th>\n",
       "      <th>avg_conf_age_mamamia</th>\n",
       "      <th>avg_conf_direct_age_mamamia</th>\n",
       "      <th>avg_conf_gender_marigold</th>\n",
       "      <th>avg_conf_age_marigold</th>\n",
       "      <th>avg_conf_direct_age_marigold</th>\n",
       "    </tr>\n",
       "  </thead>\n",
       "  <tbody>\n",
       "    <tr>\n",
       "      <th>0</th>\n",
       "      <td>47.12</td>\n",
       "      <td>52.88</td>\n",
       "      <td>47.39</td>\n",
       "      <td>52.61</td>\n",
       "      <td>88.73</td>\n",
       "      <td>11.27</td>\n",
       "      <td>89.96</td>\n",
       "      <td>10.04</td>\n",
       "      <td>89.54</td>\n",
       "      <td>10.46</td>\n",
       "      <td>0.9856</td>\n",
       "      <td>0.9211</td>\n",
       "      <td>0.5519</td>\n",
       "      <td>0.9716</td>\n",
       "      <td>0.8682</td>\n",
       "      <td>0.5138</td>\n",
       "      <td>0.9564</td>\n",
       "      <td>0.8603</td>\n",
       "      <td>0.53</td>\n",
       "    </tr>\n",
       "  </tbody>\n",
       "</table>\n",
       "</div>"
      ],
      "text/plain": [
       "   perc_fem_val  perc_mal_val  perc_fem_val_pred  perc_mal_val_pred  \\\n",
       "0         47.12         52.88              47.39              52.61   \n",
       "\n",
       "   perc_ut50_val  perc_o50_val  perc_ut50_val_pred  perc_o50_val_pred  \\\n",
       "0          88.73         11.27               89.96              10.04   \n",
       "\n",
       "   perc_ut50_direct_val_pred  perc_o50_direct_val_pred  \\\n",
       "0                      89.54                     10.46   \n",
       "\n",
       "   avg_conf_gender_blackpanther  avg_conf_age_blackpanther  \\\n",
       "0                        0.9856                     0.9211   \n",
       "\n",
       "   avg_conf_direct_age_blackpanther  avg_conf_gender_mamamia  \\\n",
       "0                            0.5519                   0.9716   \n",
       "\n",
       "   avg_conf_age_mamamia  avg_conf_direct_age_mamamia  \\\n",
       "0                0.8682                       0.5138   \n",
       "\n",
       "   avg_conf_gender_marigold  avg_conf_age_marigold  \\\n",
       "0                    0.9564                 0.8603   \n",
       "\n",
       "   avg_conf_direct_age_marigold  \n",
       "0                          0.53  "
      ]
     },
     "execution_count": 35,
     "metadata": {},
     "output_type": "execute_result"
    }
   ],
   "source": [
    "df"
   ]
  },
  {
   "cell_type": "code",
   "execution_count": 36,
   "metadata": {},
   "outputs": [],
   "source": [
    "df.to_csv(\"summary.csv\", index=False)"
   ]
  },
  {
   "cell_type": "code",
   "execution_count": null,
   "metadata": {},
   "outputs": [],
   "source": []
  }
 ],
 "metadata": {
  "kernelspec": {
   "display_name": "dissertation-env",
   "language": "python",
   "name": "python3"
  },
  "language_info": {
   "codemirror_mode": {
    "name": "ipython",
    "version": 3
   },
   "file_extension": ".py",
   "mimetype": "text/x-python",
   "name": "python",
   "nbconvert_exporter": "python",
   "pygments_lexer": "ipython3",
   "version": "3.10.14"
  }
 },
 "nbformat": 4,
 "nbformat_minor": 2
}
