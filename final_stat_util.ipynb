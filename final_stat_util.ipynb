{
 "cells": [
  {
   "cell_type": "code",
   "execution_count": 26,
   "metadata": {},
   "outputs": [],
   "source": [
    "import datasets\n",
    "from transformers import CLIPProcessor, CLIPModel, CLIPVisionModel\n",
    "import torch\n",
    "import numpy as np\n",
    "import pandas as pd\n",
    "import utils\n",
    "import os\n",
    "import json\n",
    "from tqdm.auto import tqdm\n",
    "import joblib"
   ]
  },
  {
   "cell_type": "code",
   "execution_count": 2,
   "metadata": {},
   "outputs": [],
   "source": [
    "validation_ds = datasets.load_dataset('HuggingFaceM4/FairFace', '1.25', split=\"validation\", verification_mode=\"no_checks\")"
   ]
  },
  {
   "cell_type": "code",
   "execution_count": 3,
   "metadata": {},
   "outputs": [],
   "source": [
    "reported_stats = {}"
   ]
  },
  {
   "cell_type": "code",
   "execution_count": 4,
   "metadata": {},
   "outputs": [],
   "source": [
    "torch.manual_seed(42)\n",
    "device = torch.device(\"cuda\" if torch.cuda.is_available() else \"cpu\")"
   ]
  },
  {
   "cell_type": "code",
   "execution_count": 5,
   "metadata": {},
   "outputs": [],
   "source": [
    "# Load model and pre-processor\n",
    "model = CLIPModel.from_pretrained(\"openai/clip-vit-base-patch32\")\n",
    "model.to(device)\n",
    "vision_model = CLIPVisionModel.from_pretrained(\"openai/clip-vit-base-patch32\")\n",
    "vision_model.to(device)\n",
    "processor = CLIPProcessor.from_pretrained(\"openai/clip-vit-base-patch32\")"
   ]
  },
  {
   "cell_type": "code",
   "execution_count": 32,
   "metadata": {},
   "outputs": [],
   "source": [
    "def get_embedding_and_zs(sample):\n",
    "\n",
    "    # Age prediction\n",
    "    inputs = processor(text=[\"text\"]*len(sample), images=sample[\"image\"], return_tensors=\"pt\", padding=True).to(device)\n",
    "    # outputs = model.get_image_features(**inputs)\n",
    "    # Store embeddings - dim 512\n",
    "    # sample[\"proj_embeddings\"] = model.get_image_features(**inputs)\n",
    "    outputs = model(**inputs)\n",
    "    # Store embeddings - dim 512\n",
    "    sample[\"proj_embeddings\"] = outputs.image_embeds\n",
    "    # # Reduce the age by 2\n",
    "    # sample[\"age\"] = [age - 2 for age in sample[\"age\"]] # Since classes 0 and 1 have been deleted\n",
    "    return sample"
   ]
  },
  {
   "cell_type": "code",
   "execution_count": 33,
   "metadata": {},
   "outputs": [
    {
     "data": {
      "application/vnd.jupyter.widget-view+json": {
       "model_id": "d31c35a8189b4349b44c316d53340cdd",
       "version_major": 2,
       "version_minor": 0
      },
      "text/plain": [
       "Map:   0%|          | 0/10954 [00:00<?, ? examples/s]"
      ]
     },
     "metadata": {},
     "output_type": "display_data"
    }
   ],
   "source": [
    "validation_ds = validation_ds.map(get_embedding_and_zs, batched = True, batch_size=32)"
   ]
  },
  {
   "cell_type": "code",
   "execution_count": 34,
   "metadata": {},
   "outputs": [],
   "source": [
    "def adjust_ages(sample):\n",
    "    sample[\"age\"] = [age - 2 for age in sample[\"age\"]] # Since classes 0 and 1 have been deleted\n",
    "    return sample"
   ]
  },
  {
   "cell_type": "code",
   "execution_count": 35,
   "metadata": {},
   "outputs": [],
   "source": [
    "# Get gender stats first\n",
    "# 0 - Male, 1 - Female\n",
    "gender_labels = np.array(validation_ds[\"gender\"])\n",
    "reported_stats[\"perc_fem_val\"] = round(np.sum(gender_labels == 1) / len(gender_labels) * 100, ndigits=2) \n",
    "reported_stats[\"perc_mal_val\"] = round(np.sum(gender_labels == 0) / len(gender_labels) * 100, ndigits=2) "
   ]
  },
  {
   "cell_type": "code",
   "execution_count": 37,
   "metadata": {},
   "outputs": [
    {
     "ename": "KeyError",
     "evalue": "10",
     "output_type": "error",
     "traceback": [
      "\u001b[1;31m---------------------------------------------------------------------------\u001b[0m",
      "\u001b[1;31mKeyError\u001b[0m                                  Traceback (most recent call last)",
      "Cell \u001b[1;32mIn[37], line 2\u001b[0m\n\u001b[0;32m      1\u001b[0m \u001b[38;5;66;03m# Get gender predictions\u001b[39;00m\n\u001b[1;32m----> 2\u001b[0m gender_model, _, _ \u001b[38;5;241m=\u001b[39m \u001b[43mutils\u001b[49m\u001b[38;5;241;43m.\u001b[39;49m\u001b[43m_load_lr_classifiers\u001b[49m\u001b[43m(\u001b[49m\u001b[43m)\u001b[49m\n\u001b[0;32m      3\u001b[0m gender_preds \u001b[38;5;241m=\u001b[39m utils\u001b[38;5;241m.\u001b[39m_predict_gender(gender_model\u001b[38;5;241m=\u001b[39mgender_model, images\u001b[38;5;241m=\u001b[39mnp\u001b[38;5;241m.\u001b[39marray(validation_ds[\u001b[38;5;124m\"\u001b[39m\u001b[38;5;124mproj_embeddings\u001b[39m\u001b[38;5;124m\"\u001b[39m]))\n",
      "File \u001b[1;32me:\\Glasgow\\Diss\\Video-Diversity-Analysis\\utils.py:280\u001b[0m, in \u001b[0;36m_load_lr_classifiers\u001b[1;34m()\u001b[0m\n\u001b[0;32m    278\u001b[0m \u001b[38;5;28;01mdef\u001b[39;00m \u001b[38;5;21m_load_lr_classifiers\u001b[39m():\n\u001b[0;32m    279\u001b[0m     gender_clf \u001b[38;5;241m=\u001b[39m joblib\u001b[38;5;241m.\u001b[39mload(\u001b[38;5;124m\"\u001b[39m\u001b[38;5;124mmodels/lr_clf_gender.joblib\u001b[39m\u001b[38;5;124m\"\u001b[39m)\n\u001b[1;32m--> 280\u001b[0m     emotion_clf \u001b[38;5;241m=\u001b[39m \u001b[43mjoblib\u001b[49m\u001b[38;5;241;43m.\u001b[39;49m\u001b[43mload\u001b[49m\u001b[43m(\u001b[49m\u001b[38;5;124;43m\"\u001b[39;49m\u001b[38;5;124;43mmodels/lr_clf_emotion.joblib\u001b[39;49m\u001b[38;5;124;43m\"\u001b[39;49m\u001b[43m)\u001b[49m\n\u001b[0;32m    281\u001b[0m     race_clf \u001b[38;5;241m=\u001b[39m joblib\u001b[38;5;241m.\u001b[39mload(\u001b[38;5;124m\"\u001b[39m\u001b[38;5;124mmodels/lr_clf_race.joblib\u001b[39m\u001b[38;5;124m\"\u001b[39m)\n\u001b[0;32m    282\u001b[0m     \u001b[38;5;28;01mreturn\u001b[39;00m gender_clf, emotion_clf, race_clf\n",
      "File \u001b[1;32m~\\AppData\\Roaming\\Python\\Python310\\site-packages\\joblib\\numpy_pickle.py:658\u001b[0m, in \u001b[0;36mload\u001b[1;34m(filename, mmap_mode)\u001b[0m\n\u001b[0;32m    652\u001b[0m             \u001b[38;5;28;01mif\u001b[39;00m \u001b[38;5;28misinstance\u001b[39m(fobj, \u001b[38;5;28mstr\u001b[39m):\n\u001b[0;32m    653\u001b[0m                 \u001b[38;5;66;03m# if the returned file object is a string, this means we\u001b[39;00m\n\u001b[0;32m    654\u001b[0m                 \u001b[38;5;66;03m# try to load a pickle file generated with an version of\u001b[39;00m\n\u001b[0;32m    655\u001b[0m                 \u001b[38;5;66;03m# Joblib so we load it with joblib compatibility function.\u001b[39;00m\n\u001b[0;32m    656\u001b[0m                 \u001b[38;5;28;01mreturn\u001b[39;00m load_compatibility(fobj)\n\u001b[1;32m--> 658\u001b[0m             obj \u001b[38;5;241m=\u001b[39m \u001b[43m_unpickle\u001b[49m\u001b[43m(\u001b[49m\u001b[43mfobj\u001b[49m\u001b[43m,\u001b[49m\u001b[43m \u001b[49m\u001b[43mfilename\u001b[49m\u001b[43m,\u001b[49m\u001b[43m \u001b[49m\u001b[43mmmap_mode\u001b[49m\u001b[43m)\u001b[49m\n\u001b[0;32m    659\u001b[0m \u001b[38;5;28;01mreturn\u001b[39;00m obj\n",
      "File \u001b[1;32m~\\AppData\\Roaming\\Python\\Python310\\site-packages\\joblib\\numpy_pickle.py:577\u001b[0m, in \u001b[0;36m_unpickle\u001b[1;34m(fobj, filename, mmap_mode)\u001b[0m\n\u001b[0;32m    575\u001b[0m obj \u001b[38;5;241m=\u001b[39m \u001b[38;5;28;01mNone\u001b[39;00m\n\u001b[0;32m    576\u001b[0m \u001b[38;5;28;01mtry\u001b[39;00m:\n\u001b[1;32m--> 577\u001b[0m     obj \u001b[38;5;241m=\u001b[39m \u001b[43munpickler\u001b[49m\u001b[38;5;241;43m.\u001b[39;49m\u001b[43mload\u001b[49m\u001b[43m(\u001b[49m\u001b[43m)\u001b[49m\n\u001b[0;32m    578\u001b[0m     \u001b[38;5;28;01mif\u001b[39;00m unpickler\u001b[38;5;241m.\u001b[39mcompat_mode:\n\u001b[0;32m    579\u001b[0m         warnings\u001b[38;5;241m.\u001b[39mwarn(\u001b[38;5;124m\"\u001b[39m\u001b[38;5;124mThe file \u001b[39m\u001b[38;5;124m'\u001b[39m\u001b[38;5;132;01m%s\u001b[39;00m\u001b[38;5;124m'\u001b[39m\u001b[38;5;124m has been generated with a \u001b[39m\u001b[38;5;124m\"\u001b[39m\n\u001b[0;32m    580\u001b[0m                       \u001b[38;5;124m\"\u001b[39m\u001b[38;5;124mjoblib version less than 0.10. \u001b[39m\u001b[38;5;124m\"\u001b[39m\n\u001b[0;32m    581\u001b[0m                       \u001b[38;5;124m\"\u001b[39m\u001b[38;5;124mPlease regenerate this pickle file.\u001b[39m\u001b[38;5;124m\"\u001b[39m\n\u001b[0;32m    582\u001b[0m                       \u001b[38;5;241m%\u001b[39m filename,\n\u001b[0;32m    583\u001b[0m                       \u001b[38;5;167;01mDeprecationWarning\u001b[39;00m, stacklevel\u001b[38;5;241m=\u001b[39m\u001b[38;5;241m3\u001b[39m)\n",
      "File \u001b[1;32mc:\\Users\\Debadyuti\\.conda\\envs\\dissertation-env\\lib\\pickle.py:1213\u001b[0m, in \u001b[0;36m_Unpickler.load\u001b[1;34m(self)\u001b[0m\n\u001b[0;32m   1211\u001b[0m             \u001b[38;5;28;01mraise\u001b[39;00m \u001b[38;5;167;01mEOFError\u001b[39;00m\n\u001b[0;32m   1212\u001b[0m         \u001b[38;5;28;01massert\u001b[39;00m \u001b[38;5;28misinstance\u001b[39m(key, bytes_types)\n\u001b[1;32m-> 1213\u001b[0m         \u001b[43mdispatch\u001b[49m\u001b[43m[\u001b[49m\u001b[43mkey\u001b[49m\u001b[43m[\u001b[49m\u001b[38;5;241;43m0\u001b[39;49m\u001b[43m]\u001b[49m\u001b[43m]\u001b[49m(\u001b[38;5;28mself\u001b[39m)\n\u001b[0;32m   1214\u001b[0m \u001b[38;5;28;01mexcept\u001b[39;00m _Stop \u001b[38;5;28;01mas\u001b[39;00m stopinst:\n\u001b[0;32m   1215\u001b[0m     \u001b[38;5;28;01mreturn\u001b[39;00m stopinst\u001b[38;5;241m.\u001b[39mvalue\n",
      "\u001b[1;31mKeyError\u001b[0m: 10"
     ]
    }
   ],
   "source": [
    "# Get gender predictions\n",
    "gender_model, _, _ = utils._load_lr_classifiers()\n",
    "gender_preds = utils._predict_gender(gender_model=gender_model, images=np.array(validation_ds[\"proj_embeddings\"]))"
   ]
  },
  {
   "cell_type": "code",
   "execution_count": null,
   "metadata": {},
   "outputs": [],
   "source": [
    "gender_labels_pred = np.argmax(gender_preds, axis=1)\n",
    "reported_stats[\"perc_fem_val_pred\"] = round(np.sum(gender_labels_pred == 1) / len(gender_labels_pred) * 100, ndigits=2) \n",
    "reported_stats[\"perc_mal_val_pred\"] = round(np.sum(gender_labels_pred == 0) / len(gender_labels_pred) * 100, ndigits=2) "
   ]
  },
  {
   "cell_type": "code",
   "execution_count": 12,
   "metadata": {},
   "outputs": [
    {
     "data": {
      "text/plain": [
       "{'perc_fem_val': 47.12,\n",
       " 'perc_mal_val': 52.88,\n",
       " 'perc_fem_val_pred': 50.14,\n",
       " 'perc_mal_val_pred': 49.86}"
      ]
     },
     "execution_count": 12,
     "metadata": {},
     "output_type": "execute_result"
    }
   ],
   "source": [
    "reported_stats"
   ]
  },
  {
   "cell_type": "code",
   "execution_count": null,
   "metadata": {},
   "outputs": [],
   "source": []
  },
  {
   "cell_type": "code",
   "execution_count": 13,
   "metadata": {},
   "outputs": [
    {
     "data": {
      "text/plain": [
       "0.96"
      ]
     },
     "execution_count": 13,
     "metadata": {},
     "output_type": "execute_result"
    }
   ],
   "source": [
    "round(np.sum(gender_labels_pred == gender_labels) / len(gender_labels), 2)"
   ]
  },
  {
   "cell_type": "code",
   "execution_count": 14,
   "metadata": {},
   "outputs": [],
   "source": [
    "# Filter and adjust age data\n",
    "# age_validation_ds = validation_ds.filter(lambda sample: sample[\"age\"] not in {0, 1}).map(adjust_ages, batched = True, batch_size=32) # Filter out the first two classes"
   ]
  },
  {
   "cell_type": "code",
   "execution_count": 15,
   "metadata": {},
   "outputs": [],
   "source": [
    "# 0,1,2,3,4,5 - Up to 50 & 6,7,8 - Over 50\n",
    "age_labels = np.array(validation_ds[\"age\"])\n",
    "reported_stats[\"perc_ut50_val\"] = round(np.sum(age_labels <= 5) / len(age_labels) * 100, ndigits=2) \n",
    "reported_stats[\"perc_o50_val\"] = round(np.sum(age_labels >= 6) / len(age_labels) * 100, ndigits=2)"
   ]
  },
  {
   "cell_type": "code",
   "execution_count": 29,
   "metadata": {},
   "outputs": [],
   "source": [
    "# Get age predictions\n",
    "age_scaler, age_model = utils._load_age_model()\n",
    "age_preds = utils._predict_age(age_scaler=age_scaler, age_model=age_model, images=np.array(validation_ds[\"proj_embeddings\"]))"
   ]
  },
  {
   "cell_type": "code",
   "execution_count": 31,
   "metadata": {},
   "outputs": [
    {
     "name": "stdout",
     "output_type": "stream",
     "text": [
      "              precision    recall  f1-score   support\n",
      "\n",
      "           0       0.02      0.99      0.05       199\n",
      "           1       0.47      0.02      0.03      1356\n",
      "           2       0.39      0.14      0.20      1181\n",
      "           3       0.72      0.04      0.08      3300\n",
      "           4       0.58      0.04      0.08      2330\n",
      "           5       0.44      0.20      0.28      1353\n",
      "           6       0.41      0.02      0.04       796\n",
      "           7       0.15      0.16      0.15       321\n",
      "           8       0.14      0.81      0.24       118\n",
      "\n",
      "    accuracy                           0.10     10954\n",
      "   macro avg       0.37      0.27      0.13     10954\n",
      "weighted avg       0.53      0.10      0.11     10954\n",
      "\n"
     ]
    }
   ],
   "source": [
    "from sklearn.metrics import classification_report\n",
    "\n",
    "\n",
    "age_scaler = joblib.load(\"models/projected_scaler.joblib\")\n",
    "age_clf = joblib.load(\"models/lr_clf_proj_age.joblib\")\n",
    "X_val_scaled = age_scaler.transform(np.array(validation_ds[\"proj_embeddings\"]))\n",
    "y_val_preds = age_clf.predict(X_val_scaled)\n",
    "print(classification_report(age_labels, y_val_preds))"
   ]
  },
  {
   "cell_type": "code",
   "execution_count": 25,
   "metadata": {},
   "outputs": [
    {
     "data": {
      "text/plain": [
       "(array([0, 1, 2, 3, 4, 5, 6, 7, 8], dtype=int64),\n",
       " array([8424,   51,  408,  201,  177,  623,   39,  352,  679], dtype=int64))"
      ]
     },
     "execution_count": 25,
     "metadata": {},
     "output_type": "execute_result"
    }
   ],
   "source": [
    "np.unique(np.argmax(age_preds, axis=1), return_counts=True)"
   ]
  },
  {
   "cell_type": "code",
   "execution_count": null,
   "metadata": {},
   "outputs": [
    {
     "data": {
      "text/plain": [
       "0.1"
      ]
     },
     "execution_count": 18,
     "metadata": {},
     "output_type": "execute_result"
    }
   ],
   "source": [
    "round(np.sum(np.argmax(age_preds, axis=2) == age_labels) / len(age_labels), 2)"
   ]
  },
  {
   "cell_type": "code",
   "execution_count": null,
   "metadata": {},
   "outputs": [],
   "source": [
    "age_labels_pred = []\n",
    "for pred in tqdm(age_preds):\n",
    "    # print(pred)\n",
    "    max_sum_age = {\n",
    "        \"Up to 50\": sum([p for p in pred[:-3]]),\n",
    "        \"Over 50\": sum([p for p in pred[-3:]])\n",
    "    }\n",
    "    # print(max_sum_age)\n",
    "    age_labels_pred.append(int(max_sum_age[\"Up to 50\"] < max_sum_age[\"Over 50\"]))\n",
    "\n",
    "age_labels_pred = np.array(age_labels_pred)"
   ]
  },
  {
   "cell_type": "code",
   "execution_count": 128,
   "metadata": {},
   "outputs": [],
   "source": [
    "# age_labels_pred = np.argmax(age_preds, axis=1)\n",
    "reported_stats[\"perc_ut50_val_pred\"] = round(np.sum(age_labels_pred == 0) / len(age_labels_pred) * 100, ndigits=2) \n",
    "reported_stats[\"perc_o50_val_pred\"] = round(np.sum(age_labels_pred == 1) / len(age_labels_pred) * 100, ndigits=2)"
   ]
  },
  {
   "cell_type": "code",
   "execution_count": 129,
   "metadata": {},
   "outputs": [
    {
     "data": {
      "text/plain": [
       "{'perc_fem_val': 47.12,\n",
       " 'perc_mal_val': 52.88,\n",
       " 'perc_fem_val_pred': 50.14,\n",
       " 'perc_mal_val_pred': 49.86,\n",
       " 'perc_ut50_val': 88.73,\n",
       " 'perc_o50_val': 11.27,\n",
       " 'perc_ut50_val_pred': 90.22,\n",
       " 'perc_o50_val_pred': 9.78,\n",
       " 'avg_conf_gender_blackpanther': 0.9994,\n",
       " 'avg_conf_gender_mamamia': 0.9995,\n",
       " 'avg_conf_gender_marigold': 0.9993}"
      ]
     },
     "execution_count": 129,
     "metadata": {},
     "output_type": "execute_result"
    }
   ],
   "source": [
    "reported_stats"
   ]
  },
  {
   "cell_type": "code",
   "execution_count": null,
   "metadata": {},
   "outputs": [],
   "source": [
    "if os.path.exists(\"black_panther_demography.csv\"):\n",
    "    df = pd.read_csv(\"black_panther_demography.csv\")\n",
    "    reported_stats[\"avg_conf_gender_blackpanther\"] = round(df.gender.apply(lambda gender: max(json.loads(gender.replace(\"\\'\", \"\\\"\")).values())).mean(), ndigits=4)\n",
    "    # reported_stats[\"avg_conf_age_blackpanther\"] = round(df.age.apply(lambda age: max(json.loads(age.replace(\"\\'\", \"\\\"\")).values())).mean(), ndigits=4)"
   ]
  },
  {
   "cell_type": "code",
   "execution_count": null,
   "metadata": {},
   "outputs": [],
   "source": [
    "if os.path.exists(\"mama_mia_demography.csv\"):\n",
    "    df = pd.read_csv(\"mama_mia_demography.csv\")\n",
    "    reported_stats[\"avg_conf_gender_mamamia\"] = round(df.gender.apply(lambda gender: max(json.loads(gender.replace(\"\\'\", \"\\\"\")).values())).mean(), ndigits=4)\n",
    "    # reported_stats[\"avg_conf_age_mamamia\"] = round(df.age.apply(lambda age: max(json.loads(age.replace(\"\\'\", \"\\\"\")).values())).mean(), ndigits=4)"
   ]
  },
  {
   "cell_type": "code",
   "execution_count": null,
   "metadata": {},
   "outputs": [],
   "source": [
    "if os.path.exists(\"marigold_demography.csv\"):\n",
    "    df = pd.read_csv(\"marigold_demography.csv\")\n",
    "    reported_stats[\"avg_conf_gender_marigold\"] = round(df.gender.apply(lambda gender: max(json.loads(gender.replace(\"\\'\", \"\\\"\")).values())).mean(), ndigits=4)\n",
    "    # reported_stats[\"avg_conf_age_marigold\"] = round(df.age.apply(lambda age: max(json.loads(age.replace(\"\\'\", \"\\\"\")).values())).mean(), ndigits=4)"
   ]
  },
  {
   "cell_type": "code",
   "execution_count": 106,
   "metadata": {},
   "outputs": [
    {
     "data": {
      "text/plain": [
       "{'perc_fem_val': 47.12,\n",
       " 'perc_mal_val': 52.88,\n",
       " 'perc_fem_val_pred': 50.14,\n",
       " 'perc_mal_val_pred': 49.86,\n",
       " 'perc_ut50_val': 88.73,\n",
       " 'perc_o50_val': 11.27,\n",
       " 'perc_ut50_val_pred': 90.23,\n",
       " 'perc_o50_val_pred': 9.77,\n",
       " 'avg_conf_gender_blackpanther': 0.9994,\n",
       " 'avg_conf_gender_mamamia': 0.9995,\n",
       " 'avg_conf_gender_marigold': 0.9993}"
      ]
     },
     "execution_count": 106,
     "metadata": {},
     "output_type": "execute_result"
    }
   ],
   "source": [
    "reported_stats"
   ]
  },
  {
   "cell_type": "code",
   "execution_count": 110,
   "metadata": {},
   "outputs": [
    {
     "data": {
      "text/html": [
       "<div>\n",
       "<style scoped>\n",
       "    .dataframe tbody tr th:only-of-type {\n",
       "        vertical-align: middle;\n",
       "    }\n",
       "\n",
       "    .dataframe tbody tr th {\n",
       "        vertical-align: top;\n",
       "    }\n",
       "\n",
       "    .dataframe thead th {\n",
       "        text-align: right;\n",
       "    }\n",
       "</style>\n",
       "<table border=\"1\" class=\"dataframe\">\n",
       "  <thead>\n",
       "    <tr style=\"text-align: right;\">\n",
       "      <th></th>\n",
       "      <th>perc_fem_val</th>\n",
       "      <th>perc_mal_val</th>\n",
       "      <th>perc_fem_val_pred</th>\n",
       "      <th>perc_mal_val_pred</th>\n",
       "      <th>perc_ut50_val</th>\n",
       "      <th>perc_o50_val</th>\n",
       "      <th>perc_ut50_val_pred</th>\n",
       "      <th>perc_o50_val_pred</th>\n",
       "      <th>avg_conf_gender_blackpanther</th>\n",
       "      <th>avg_conf_gender_mamamia</th>\n",
       "      <th>avg_conf_gender_marigold</th>\n",
       "    </tr>\n",
       "  </thead>\n",
       "  <tbody>\n",
       "    <tr>\n",
       "      <th>0</th>\n",
       "      <td>47.12</td>\n",
       "      <td>52.88</td>\n",
       "      <td>50.14</td>\n",
       "      <td>49.86</td>\n",
       "      <td>88.73</td>\n",
       "      <td>11.27</td>\n",
       "      <td>90.23</td>\n",
       "      <td>9.77</td>\n",
       "      <td>0.9994</td>\n",
       "      <td>0.9995</td>\n",
       "      <td>0.9993</td>\n",
       "    </tr>\n",
       "  </tbody>\n",
       "</table>\n",
       "</div>"
      ],
      "text/plain": [
       "   perc_fem_val  perc_mal_val  perc_fem_val_pred  perc_mal_val_pred  \\\n",
       "0         47.12         52.88              50.14              49.86   \n",
       "\n",
       "   perc_ut50_val  perc_o50_val  perc_ut50_val_pred  perc_o50_val_pred  \\\n",
       "0          88.73         11.27               90.23               9.77   \n",
       "\n",
       "   avg_conf_gender_blackpanther  avg_conf_gender_mamamia  \\\n",
       "0                        0.9994                   0.9995   \n",
       "\n",
       "   avg_conf_gender_marigold  \n",
       "0                    0.9993  "
      ]
     },
     "execution_count": 110,
     "metadata": {},
     "output_type": "execute_result"
    }
   ],
   "source": [
    "pd.DataFrame([reported_stats])"
   ]
  },
  {
   "cell_type": "code",
   "execution_count": null,
   "metadata": {},
   "outputs": [],
   "source": []
  }
 ],
 "metadata": {
  "kernelspec": {
   "display_name": "dissertation-env",
   "language": "python",
   "name": "python3"
  },
  "language_info": {
   "codemirror_mode": {
    "name": "ipython",
    "version": 3
   },
   "file_extension": ".py",
   "mimetype": "text/x-python",
   "name": "python",
   "nbconvert_exporter": "python",
   "pygments_lexer": "ipython3",
   "version": "3.10.14"
  }
 },
 "nbformat": 4,
 "nbformat_minor": 2
}
